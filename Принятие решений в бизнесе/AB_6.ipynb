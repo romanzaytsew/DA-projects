{
 "cells": [
  {
   "cell_type": "markdown",
   "metadata": {},
   "source": [
    "# Проект: Принятие решений в бизнесе"
   ]
  },
  {
   "cell_type": "markdown",
   "metadata": {},
   "source": [
    "## Общая информация"
   ]
  },
  {
   "cell_type": "markdown",
   "metadata": {},
   "source": [
    "### Описание исследования. \n",
    "\n",
    "Вместе с отделом маркетинга подготовлен список гипотез для увеличения выручки крупного интернет-магазина. Приоритизировать гипотезы, запустить A/B-тест, проанализировать результаты. "
   ]
  },
  {
   "cell_type": "markdown",
   "metadata": {},
   "source": [
    "### Описание данных\n",
    "\n",
    "#### Данные для первой части\n",
    "\n",
    "Файл /datasets/hypothesis.csv.\n",
    "\n",
    "Hypothesis — краткое описание гипотезы;\n",
    "\n",
    "Reach — охват пользователей по 10-балльной шкале;\n",
    "\n",
    "Impact — влияние на пользователей по 10-балльной шкале;\n",
    "\n",
    "Confidence — уверенность в гипотезе по 10-балльной шкале;\n",
    "\n",
    "Efforts — затраты ресурсов на проверку гипотезы по 10-балльной шкале. Чем больше значение Efforts, тем дороже проверка гипотезы.\n",
    "\n",
    "#### Данные для второй части\n",
    "\n",
    "Файл /datasets/orders.csv.\n",
    "\n",
    "transactionId — идентификатор заказа;\n",
    "\n",
    "visitorId — идентификатор пользователя, совершившего заказ;\n",
    "\n",
    "date — дата, когда был совершён заказ;\n",
    "\n",
    "revenue — выручка заказа;\n",
    "\n",
    "group — группа A/B-теста, в которую попал заказ.\n",
    "\n",
    "Файл /datasets/visitors.csv.\n",
    "\n",
    "date — дата;\n",
    "\n",
    "group — группа A/B-теста;\n",
    "\n",
    "visitors — количество пользователей в указанную дату в указанной группе A/B-теста"
   ]
  },
  {
   "cell_type": "markdown",
   "metadata": {},
   "source": [
    "## Импортируем необходимые библиотеки и загрузим данные из CSV-файлов в переменные"
   ]
  },
  {
   "cell_type": "code",
   "execution_count": 1,
   "metadata": {},
   "outputs": [],
   "source": [
    "import pandas as pd\n",
    "import scipy.stats as stats\n",
    "import datetime as dt\n",
    "import numpy as np\n",
    "import matplotlib.pyplot as plt\n",
    "from pandas.plotting import register_matplotlib_converters\n",
    "import warnings\n",
    "# конвертеры, которые позволяют использовать типы pandas в matplotlib  \n",
    "register_matplotlib_converters()"
   ]
  },
  {
   "cell_type": "code",
   "execution_count": 2,
   "metadata": {},
   "outputs": [],
   "source": [
    "hypos = pd.read_csv('/datasets/hypothesis.csv', sep=',')  # файл с гипотезами\n",
    "# данные A/B теста\n",
    "orders = pd.read_csv('/datasets/orders.csv', sep=',')\n",
    "visitors = pd.read_csv('/datasets/visitors.csv', sep=',')"
   ]
  },
  {
   "cell_type": "markdown",
   "metadata": {},
   "source": [
    "## Часть 1. Приоритизация гипотез.\n",
    "В файле /datasets/hypothesis.csv 9 гипотез по увеличению выручки интернет-магазина с указанными параметрами Reach, Impact, Confidence, Effort."
   ]
  },
  {
   "cell_type": "code",
   "execution_count": 3,
   "metadata": {},
   "outputs": [
    {
     "data": {
      "text/html": [
       "<div>\n",
       "<style scoped>\n",
       "    .dataframe tbody tr th:only-of-type {\n",
       "        vertical-align: middle;\n",
       "    }\n",
       "\n",
       "    .dataframe tbody tr th {\n",
       "        vertical-align: top;\n",
       "    }\n",
       "\n",
       "    .dataframe thead th {\n",
       "        text-align: right;\n",
       "    }\n",
       "</style>\n",
       "<table border=\"1\" class=\"dataframe\">\n",
       "  <thead>\n",
       "    <tr style=\"text-align: right;\">\n",
       "      <th></th>\n",
       "      <th>hypothesis</th>\n",
       "      <th>reach</th>\n",
       "      <th>impact</th>\n",
       "      <th>confidence</th>\n",
       "      <th>efforts</th>\n",
       "    </tr>\n",
       "  </thead>\n",
       "  <tbody>\n",
       "    <tr>\n",
       "      <th>0</th>\n",
       "      <td>Добавить два новых канала привлечения трафика, что позволит привлекать на 30% больше пользователей</td>\n",
       "      <td>3</td>\n",
       "      <td>10</td>\n",
       "      <td>8</td>\n",
       "      <td>6</td>\n",
       "    </tr>\n",
       "    <tr>\n",
       "      <th>1</th>\n",
       "      <td>Запустить собственную службу доставки, что сократит срок доставки заказов</td>\n",
       "      <td>2</td>\n",
       "      <td>5</td>\n",
       "      <td>4</td>\n",
       "      <td>10</td>\n",
       "    </tr>\n",
       "    <tr>\n",
       "      <th>2</th>\n",
       "      <td>Добавить блоки рекомендаций товаров на сайт интернет магазина, чтобы повысить конверсию и средний чек заказа</td>\n",
       "      <td>8</td>\n",
       "      <td>3</td>\n",
       "      <td>7</td>\n",
       "      <td>3</td>\n",
       "    </tr>\n",
       "    <tr>\n",
       "      <th>3</th>\n",
       "      <td>Изменить структура категорий, что увеличит конверсию, т.к. пользователи быстрее найдут нужный товар</td>\n",
       "      <td>8</td>\n",
       "      <td>3</td>\n",
       "      <td>3</td>\n",
       "      <td>8</td>\n",
       "    </tr>\n",
       "    <tr>\n",
       "      <th>4</th>\n",
       "      <td>Изменить цвет фона главной страницы, чтобы увеличить вовлеченность пользователей</td>\n",
       "      <td>3</td>\n",
       "      <td>1</td>\n",
       "      <td>1</td>\n",
       "      <td>1</td>\n",
       "    </tr>\n",
       "    <tr>\n",
       "      <th>5</th>\n",
       "      <td>Добавить страницу отзывов клиентов о магазине, что позволит увеличить количество заказов</td>\n",
       "      <td>3</td>\n",
       "      <td>2</td>\n",
       "      <td>2</td>\n",
       "      <td>3</td>\n",
       "    </tr>\n",
       "    <tr>\n",
       "      <th>6</th>\n",
       "      <td>Показать на главной странице баннеры с актуальными акциями и распродажами, чтобы увеличить конверсию</td>\n",
       "      <td>5</td>\n",
       "      <td>3</td>\n",
       "      <td>8</td>\n",
       "      <td>3</td>\n",
       "    </tr>\n",
       "    <tr>\n",
       "      <th>7</th>\n",
       "      <td>Добавить форму подписки на все основные страницы, чтобы собрать базу клиентов для email-рассылок</td>\n",
       "      <td>10</td>\n",
       "      <td>7</td>\n",
       "      <td>8</td>\n",
       "      <td>5</td>\n",
       "    </tr>\n",
       "    <tr>\n",
       "      <th>8</th>\n",
       "      <td>Запустить акцию, дающую скидку на товар в день рождения</td>\n",
       "      <td>1</td>\n",
       "      <td>9</td>\n",
       "      <td>9</td>\n",
       "      <td>5</td>\n",
       "    </tr>\n",
       "  </tbody>\n",
       "</table>\n",
       "</div>"
      ],
      "text/plain": [
       "                                                                                                     hypothesis  \\\n",
       "0            Добавить два новых канала привлечения трафика, что позволит привлекать на 30% больше пользователей   \n",
       "1                                     Запустить собственную службу доставки, что сократит срок доставки заказов   \n",
       "2  Добавить блоки рекомендаций товаров на сайт интернет магазина, чтобы повысить конверсию и средний чек заказа   \n",
       "3           Изменить структура категорий, что увеличит конверсию, т.к. пользователи быстрее найдут нужный товар   \n",
       "4                              Изменить цвет фона главной страницы, чтобы увеличить вовлеченность пользователей   \n",
       "5                      Добавить страницу отзывов клиентов о магазине, что позволит увеличить количество заказов   \n",
       "6          Показать на главной странице баннеры с актуальными акциями и распродажами, чтобы увеличить конверсию   \n",
       "7              Добавить форму подписки на все основные страницы, чтобы собрать базу клиентов для email-рассылок   \n",
       "8                                                       Запустить акцию, дающую скидку на товар в день рождения   \n",
       "\n",
       "   reach  impact  confidence  efforts  \n",
       "0      3      10           8        6  \n",
       "1      2       5           4       10  \n",
       "2      8       3           7        3  \n",
       "3      8       3           3        8  \n",
       "4      3       1           1        1  \n",
       "5      3       2           2        3  \n",
       "6      5       3           8        3  \n",
       "7     10       7           8        5  \n",
       "8      1       9           9        5  "
      ]
     },
     "execution_count": 3,
     "metadata": {},
     "output_type": "execute_result"
    }
   ],
   "source": [
    "# изучим файл с гипотезами\n",
    "pd.set_option('display.max_colwidth', None)\n",
    "for i in [hypos]:\n",
    "    i.columns = i.columns.str.lower()  # переведем названия в нижний регистр, заменим пробелы на нижнее подчеркивание\n",
    "hypos"
   ]
  },
  {
   "cell_type": "markdown",
   "metadata": {},
   "source": [
    "### Применим фреймворк ICE для приоритизации гипотез. Отсортируем их по убыванию приоритета."
   ]
  },
  {
   "cell_type": "code",
   "execution_count": 4,
   "metadata": {},
   "outputs": [
    {
     "data": {
      "text/html": [
       "<div>\n",
       "<style scoped>\n",
       "    .dataframe tbody tr th:only-of-type {\n",
       "        vertical-align: middle;\n",
       "    }\n",
       "\n",
       "    .dataframe tbody tr th {\n",
       "        vertical-align: top;\n",
       "    }\n",
       "\n",
       "    .dataframe thead th {\n",
       "        text-align: right;\n",
       "    }\n",
       "</style>\n",
       "<table border=\"1\" class=\"dataframe\">\n",
       "  <thead>\n",
       "    <tr style=\"text-align: right;\">\n",
       "      <th></th>\n",
       "      <th>hypothesis</th>\n",
       "      <th>ICE</th>\n",
       "    </tr>\n",
       "  </thead>\n",
       "  <tbody>\n",
       "    <tr>\n",
       "      <th>8</th>\n",
       "      <td>Запустить акцию, дающую скидку на товар в день рождения</td>\n",
       "      <td>16.20</td>\n",
       "    </tr>\n",
       "    <tr>\n",
       "      <th>0</th>\n",
       "      <td>Добавить два новых канала привлечения трафика, что позволит привлекать на 30% больше пользователей</td>\n",
       "      <td>13.33</td>\n",
       "    </tr>\n",
       "    <tr>\n",
       "      <th>7</th>\n",
       "      <td>Добавить форму подписки на все основные страницы, чтобы собрать базу клиентов для email-рассылок</td>\n",
       "      <td>11.20</td>\n",
       "    </tr>\n",
       "    <tr>\n",
       "      <th>6</th>\n",
       "      <td>Показать на главной странице баннеры с актуальными акциями и распродажами, чтобы увеличить конверсию</td>\n",
       "      <td>8.00</td>\n",
       "    </tr>\n",
       "    <tr>\n",
       "      <th>2</th>\n",
       "      <td>Добавить блоки рекомендаций товаров на сайт интернет магазина, чтобы повысить конверсию и средний чек заказа</td>\n",
       "      <td>7.00</td>\n",
       "    </tr>\n",
       "    <tr>\n",
       "      <th>1</th>\n",
       "      <td>Запустить собственную службу доставки, что сократит срок доставки заказов</td>\n",
       "      <td>2.00</td>\n",
       "    </tr>\n",
       "    <tr>\n",
       "      <th>5</th>\n",
       "      <td>Добавить страницу отзывов клиентов о магазине, что позволит увеличить количество заказов</td>\n",
       "      <td>1.33</td>\n",
       "    </tr>\n",
       "    <tr>\n",
       "      <th>3</th>\n",
       "      <td>Изменить структура категорий, что увеличит конверсию, т.к. пользователи быстрее найдут нужный товар</td>\n",
       "      <td>1.12</td>\n",
       "    </tr>\n",
       "    <tr>\n",
       "      <th>4</th>\n",
       "      <td>Изменить цвет фона главной страницы, чтобы увеличить вовлеченность пользователей</td>\n",
       "      <td>1.00</td>\n",
       "    </tr>\n",
       "  </tbody>\n",
       "</table>\n",
       "</div>"
      ],
      "text/plain": [
       "                                                                                                     hypothesis  \\\n",
       "8                                                       Запустить акцию, дающую скидку на товар в день рождения   \n",
       "0            Добавить два новых канала привлечения трафика, что позволит привлекать на 30% больше пользователей   \n",
       "7              Добавить форму подписки на все основные страницы, чтобы собрать базу клиентов для email-рассылок   \n",
       "6          Показать на главной странице баннеры с актуальными акциями и распродажами, чтобы увеличить конверсию   \n",
       "2  Добавить блоки рекомендаций товаров на сайт интернет магазина, чтобы повысить конверсию и средний чек заказа   \n",
       "1                                     Запустить собственную службу доставки, что сократит срок доставки заказов   \n",
       "5                      Добавить страницу отзывов клиентов о магазине, что позволит увеличить количество заказов   \n",
       "3           Изменить структура категорий, что увеличит конверсию, т.к. пользователи быстрее найдут нужный товар   \n",
       "4                              Изменить цвет фона главной страницы, чтобы увеличить вовлеченность пользователей   \n",
       "\n",
       "     ICE  \n",
       "8  16.20  \n",
       "0  13.33  \n",
       "7  11.20  \n",
       "6   8.00  \n",
       "2   7.00  \n",
       "1   2.00  \n",
       "5   1.33  \n",
       "3   1.12  \n",
       "4   1.00  "
      ]
     },
     "execution_count": 4,
     "metadata": {},
     "output_type": "execute_result"
    }
   ],
   "source": [
    "hypos['ICE'] = hypos['impact'] * hypos['confidence'] / hypos['efforts']\n",
    "pd.set_option('display.max_colwidth', None)\n",
    "hypos[['hypothesis', 'ICE']].sort_values(by='ICE', ascending=False).round(2)"
   ]
  },
  {
   "cell_type": "markdown",
   "metadata": {},
   "source": [
    "Наиболее перспективная гипотеза 8, затем идут гипотезы 0, 7, 6, 2"
   ]
  },
  {
   "cell_type": "markdown",
   "metadata": {},
   "source": [
    "### Применим фреймворк RICE для приоритизации гипотез. Отсортируем их по убыванию приоритета."
   ]
  },
  {
   "cell_type": "code",
   "execution_count": 5,
   "metadata": {
    "scrolled": true
   },
   "outputs": [
    {
     "data": {
      "text/html": [
       "<div>\n",
       "<style scoped>\n",
       "    .dataframe tbody tr th:only-of-type {\n",
       "        vertical-align: middle;\n",
       "    }\n",
       "\n",
       "    .dataframe tbody tr th {\n",
       "        vertical-align: top;\n",
       "    }\n",
       "\n",
       "    .dataframe thead th {\n",
       "        text-align: right;\n",
       "    }\n",
       "</style>\n",
       "<table border=\"1\" class=\"dataframe\">\n",
       "  <thead>\n",
       "    <tr style=\"text-align: right;\">\n",
       "      <th></th>\n",
       "      <th>hypothesis</th>\n",
       "      <th>RICE</th>\n",
       "    </tr>\n",
       "  </thead>\n",
       "  <tbody>\n",
       "    <tr>\n",
       "      <th>7</th>\n",
       "      <td>Добавить форму подписки на все основные страницы, чтобы собрать базу клиентов для email-рассылок</td>\n",
       "      <td>112.0</td>\n",
       "    </tr>\n",
       "    <tr>\n",
       "      <th>2</th>\n",
       "      <td>Добавить блоки рекомендаций товаров на сайт интернет магазина, чтобы повысить конверсию и средний чек заказа</td>\n",
       "      <td>56.0</td>\n",
       "    </tr>\n",
       "    <tr>\n",
       "      <th>0</th>\n",
       "      <td>Добавить два новых канала привлечения трафика, что позволит привлекать на 30% больше пользователей</td>\n",
       "      <td>40.0</td>\n",
       "    </tr>\n",
       "    <tr>\n",
       "      <th>6</th>\n",
       "      <td>Показать на главной странице баннеры с актуальными акциями и распродажами, чтобы увеличить конверсию</td>\n",
       "      <td>40.0</td>\n",
       "    </tr>\n",
       "    <tr>\n",
       "      <th>8</th>\n",
       "      <td>Запустить акцию, дающую скидку на товар в день рождения</td>\n",
       "      <td>16.2</td>\n",
       "    </tr>\n",
       "    <tr>\n",
       "      <th>3</th>\n",
       "      <td>Изменить структура категорий, что увеличит конверсию, т.к. пользователи быстрее найдут нужный товар</td>\n",
       "      <td>9.0</td>\n",
       "    </tr>\n",
       "    <tr>\n",
       "      <th>1</th>\n",
       "      <td>Запустить собственную службу доставки, что сократит срок доставки заказов</td>\n",
       "      <td>4.0</td>\n",
       "    </tr>\n",
       "    <tr>\n",
       "      <th>5</th>\n",
       "      <td>Добавить страницу отзывов клиентов о магазине, что позволит увеличить количество заказов</td>\n",
       "      <td>4.0</td>\n",
       "    </tr>\n",
       "    <tr>\n",
       "      <th>4</th>\n",
       "      <td>Изменить цвет фона главной страницы, чтобы увеличить вовлеченность пользователей</td>\n",
       "      <td>3.0</td>\n",
       "    </tr>\n",
       "  </tbody>\n",
       "</table>\n",
       "</div>"
      ],
      "text/plain": [
       "                                                                                                     hypothesis  \\\n",
       "7              Добавить форму подписки на все основные страницы, чтобы собрать базу клиентов для email-рассылок   \n",
       "2  Добавить блоки рекомендаций товаров на сайт интернет магазина, чтобы повысить конверсию и средний чек заказа   \n",
       "0            Добавить два новых канала привлечения трафика, что позволит привлекать на 30% больше пользователей   \n",
       "6          Показать на главной странице баннеры с актуальными акциями и распродажами, чтобы увеличить конверсию   \n",
       "8                                                       Запустить акцию, дающую скидку на товар в день рождения   \n",
       "3           Изменить структура категорий, что увеличит конверсию, т.к. пользователи быстрее найдут нужный товар   \n",
       "1                                     Запустить собственную службу доставки, что сократит срок доставки заказов   \n",
       "5                      Добавить страницу отзывов клиентов о магазине, что позволит увеличить количество заказов   \n",
       "4                              Изменить цвет фона главной страницы, чтобы увеличить вовлеченность пользователей   \n",
       "\n",
       "    RICE  \n",
       "7  112.0  \n",
       "2   56.0  \n",
       "0   40.0  \n",
       "6   40.0  \n",
       "8   16.2  \n",
       "3    9.0  \n",
       "1    4.0  \n",
       "5    4.0  \n",
       "4    3.0  "
      ]
     },
     "execution_count": 5,
     "metadata": {},
     "output_type": "execute_result"
    }
   ],
   "source": [
    "# Посчитаем RICE для гипотез\n",
    "hypos['RICE'] = hypos['reach'] * hypos['impact'] * hypos['confidence'] / hypos['efforts']\n",
    "pd.set_option('display.max_colwidth', None)\n",
    "hypos[['hypothesis', 'RICE']].sort_values(by='RICE', ascending=False)"
   ]
  },
  {
   "cell_type": "markdown",
   "metadata": {},
   "source": [
    "### Изменение приоритизации гипотез при применении RICE вместо ICE."
   ]
  },
  {
   "cell_type": "markdown",
   "metadata": {},
   "source": [
    "Наиболее перспективная гипотеза: 7 (Добавить форму подписки на все основные страницы, чтобы собрать базу клиентов для email-рассылок) - её и будем тестировать первой. \n",
    "\n",
    "затем идут гипотезы:\n",
    "\n",
    "2 - Добавить блоки рекомендаций товаров на сайт интернет магазина, чтобы повысить конверсию и средний чек заказа, \n",
    "\n",
    "0 - Добавить два новых канала привлечения трафика, что позволит привлекать на 30% больше пользователей, \n",
    "\n",
    "6 - Показать на главной странице баннеры с актуальными акциями и распродажами, чтобы увеличить конверсию. \n",
    "\n",
    "Восьмая гипотеза не набрала достаточна баллов.\n",
    "\n",
    "Изменения в порядке связаны с количеством пользователей, которое затронет гипотеза. \n",
    "\n",
    "Парметр Reach у гипотезы 7 имеет максимальное значение 10, а у гипотезы 8 - минимальный 1, что и повлияло на изменение приоритета. \n"
   ]
  },
  {
   "cell_type": "markdown",
   "metadata": {},
   "source": [
    "## Подготовка к проведению A/B-теста"
   ]
  },
  {
   "cell_type": "code",
   "execution_count": 6,
   "metadata": {
    "scrolled": false
   },
   "outputs": [
    {
     "name": "stdout",
     "output_type": "stream",
     "text": [
      "<class 'pandas.core.frame.DataFrame'>\n",
      "RangeIndex: 1197 entries, 0 to 1196\n",
      "Data columns (total 5 columns):\n",
      " #   Column         Non-Null Count  Dtype \n",
      "---  ------         --------------  ----- \n",
      " 0   transactionId  1197 non-null   int64 \n",
      " 1   visitorId      1197 non-null   int64 \n",
      " 2   date           1197 non-null   object\n",
      " 3   revenue        1197 non-null   int64 \n",
      " 4   group          1197 non-null   object\n",
      "dtypes: int64(3), object(2)\n",
      "memory usage: 46.9+ KB\n",
      "<class 'pandas.core.frame.DataFrame'>\n",
      "RangeIndex: 62 entries, 0 to 61\n",
      "Data columns (total 3 columns):\n",
      " #   Column    Non-Null Count  Dtype \n",
      "---  ------    --------------  ----- \n",
      " 0   date      62 non-null     object\n",
      " 1   group     62 non-null     object\n",
      " 2   visitors  62 non-null     int64 \n",
      "dtypes: int64(1), object(2)\n",
      "memory usage: 1.6+ KB\n"
     ]
    }
   ],
   "source": [
    "# посмотрим информацию о данных\n",
    "orders.info()\n",
    "visitors.info()"
   ]
  },
  {
   "cell_type": "code",
   "execution_count": 7,
   "metadata": {
    "scrolled": false
   },
   "outputs": [
    {
     "name": "stdout",
     "output_type": "stream",
     "text": [
      "   transactionId   visitorId        date  revenue group\n",
      "0     3667963787  3312258926  2019-08-15     1650     B\n",
      "1     2804400009  3642806036  2019-08-15      730     B\n",
      "2     2961555356  4069496402  2019-08-15      400     A\n",
      "3     3797467345  1196621759  2019-08-15     9759     B\n",
      "4     2282983706  2322279887  2019-08-15     2308     B\n",
      "5      182168103   935554773  2019-08-15     2210     B\n",
      "6      398296753  2900797465  2019-08-15     1860     B\n",
      "7     2626614568    78758296  2019-08-15     1044     A\n",
      "8     1576988021   295230930  2019-08-15    13710     A\n",
      "9     1506739906  1882260405  2019-08-15     1855     B\n",
      "         date group  visitors\n",
      "0  2019-08-01     A       719\n",
      "1  2019-08-02     A       619\n",
      "2  2019-08-03     A       507\n",
      "3  2019-08-04     A       717\n",
      "4  2019-08-05     A       756\n",
      "5  2019-08-06     A       667\n",
      "6  2019-08-07     A       644\n",
      "7  2019-08-08     A       610\n",
      "8  2019-08-09     A       617\n",
      "9  2019-08-10     A       406\n"
     ]
    }
   ],
   "source": [
    "print(orders.head(10))\n",
    "print(visitors.head(10))"
   ]
  },
  {
   "cell_type": "code",
   "execution_count": 8,
   "metadata": {},
   "outputs": [
    {
     "name": "stdout",
     "output_type": "stream",
     "text": [
      "0\n",
      "0\n"
     ]
    }
   ],
   "source": [
    "for i in [orders, visitors]:\n",
    "    print(i.duplicated().sum()) # проверим есть ли в данных дубликаты\n"
   ]
  },
  {
   "cell_type": "markdown",
   "metadata": {},
   "source": [
    "проверим пересечения пользователей в группах."
   ]
  },
  {
   "cell_type": "code",
   "execution_count": 9,
   "metadata": {},
   "outputs": [
    {
     "data": {
      "text/plain": [
       "58"
      ]
     },
     "execution_count": 9,
     "metadata": {},
     "output_type": "execute_result"
    }
   ],
   "source": [
    "visitors_ab = orders.groupby('visitorId').agg({'group' : 'nunique'}).query('group > 1')  # пересечение пользователей по группам\n",
    "len(visitors_ab)"
   ]
  },
  {
   "cell_type": "markdown",
   "metadata": {},
   "source": [
    "58 пересечений незначительное количество, на резульат теста не повлияет."
   ]
  },
  {
   "cell_type": "code",
   "execution_count": 10,
   "metadata": {},
   "outputs": [
    {
     "data": {
      "text/html": [
       "<div>\n",
       "<style scoped>\n",
       "    .dataframe tbody tr th:only-of-type {\n",
       "        vertical-align: middle;\n",
       "    }\n",
       "\n",
       "    .dataframe tbody tr th {\n",
       "        vertical-align: top;\n",
       "    }\n",
       "\n",
       "    .dataframe thead th {\n",
       "        text-align: right;\n",
       "    }\n",
       "</style>\n",
       "<table border=\"1\" class=\"dataframe\">\n",
       "  <thead>\n",
       "    <tr style=\"text-align: right;\">\n",
       "      <th></th>\n",
       "      <th>visitors</th>\n",
       "    </tr>\n",
       "    <tr>\n",
       "      <th>group</th>\n",
       "      <th></th>\n",
       "    </tr>\n",
       "  </thead>\n",
       "  <tbody>\n",
       "    <tr>\n",
       "      <th>A</th>\n",
       "      <td>18736</td>\n",
       "    </tr>\n",
       "    <tr>\n",
       "      <th>B</th>\n",
       "      <td>18916</td>\n",
       "    </tr>\n",
       "  </tbody>\n",
       "</table>\n",
       "</div>"
      ],
      "text/plain": [
       "       visitors\n",
       "group          \n",
       "A         18736\n",
       "B         18916"
      ]
     },
     "execution_count": 10,
     "metadata": {},
     "output_type": "execute_result"
    }
   ],
   "source": [
    "visitors[['group', 'visitors']].groupby('group').sum()  # количество пользователей в группах"
   ]
  },
  {
   "cell_type": "markdown",
   "metadata": {},
   "source": [
    "Разница в группах не превышает 1 %"
   ]
  },
  {
   "cell_type": "markdown",
   "metadata": {},
   "source": [
    "## Часть 2. Анализ A/B-теста\n",
    "\n",
    "Проанализируем A/B-тест:"
   ]
  },
  {
   "cell_type": "markdown",
   "metadata": {},
   "source": [
    "### Построим график кумулятивной выручки по группам. "
   ]
  },
  {
   "cell_type": "code",
   "execution_count": 11,
   "metadata": {},
   "outputs": [
    {
     "data": {
      "image/png": "[encoded data removed]",
      "text/plain": [
       "<Figure size 1080x360 with 1 Axes>"
      ]
     },
     "metadata": {
      "needs_background": "light"
     },
     "output_type": "display_data"
    }
   ],
   "source": [
    "orders['date'] = orders['date'].map(lambda x: dt.datetime.strptime(x, '%Y-%m-%d')) # Тип данных в столбцах date - object, \n",
    "\n",
    "visitors['date'] = visitors['date'].map(lambda x: dt.datetime.strptime(x, '%Y-%m-%d')) # поменяем на формат для работы с датой\n",
    "\n",
    "datesGroups = orders[['date', 'group']].drop_duplicates()  # создаем массив уникальных пар значений дат и групп теста\n",
    "# получаем агрегированные кумулятивные по дням данные о заказах \n",
    "ordersAggregated = datesGroups.apply(         \n",
    "    lambda x: orders[\n",
    "        np.logical_and(\n",
    "            orders['date'] <= x['date'], orders['group'] == x['group']\n",
    "        )\n",
    "    ].agg(\n",
    "        {\n",
    "            'date': 'max',\n",
    "            'group': 'max',\n",
    "            'transactionId': 'nunique',\n",
    "            'visitorId': 'nunique',\n",
    "            'revenue': 'sum',\n",
    "        }\n",
    "    ),\n",
    "    axis=1,\n",
    ").sort_values(by=['date', 'group'])\n",
    "# получаем агрегированные кумулятивные по дням данные о посетителях интернет-магазина\n",
    "visitorsAggregated = datesGroups.apply(\n",
    "    lambda x: visitors[\n",
    "        np.logical_and(\n",
    "            visitors['date'] <= x['date'], visitors['group'] == x['group']\n",
    "        )\n",
    "    ].agg({'date': 'max', 'group': 'max', 'visitors': 'sum'}),\n",
    "    axis=1,\n",
    ").sort_values(by=['date', 'group'])\n",
    "\n",
    "cumulativeData = ordersAggregated.merge(\n",
    "    visitorsAggregated, left_on=['date', 'group'], right_on=['date', 'group']\n",
    ")\n",
    "cumulativeData.columns = [\n",
    "    'date',\n",
    "    'group',\n",
    "    'orders',\n",
    "    'buyers',\n",
    "    'revenue',\n",
    "    'visitors',\n",
    "]\n",
    "# датафреймы с кумулятивным количеством заказов и кумулятивной выручкой по дням в группах А и В\n",
    "cumulativeRevenueA = cumulativeData[cumulativeData['group']=='A'][['date','revenue', 'orders']]\n",
    "cumulativeRevenueB = cumulativeData[cumulativeData['group']=='B'][['date','revenue', 'orders']]\n",
    "# Строим график выручки группы А\n",
    "plt.figure(figsize=(15,5))\n",
    "plt.title('График кумулятивной выручки по группам')\n",
    "plt.ylabel('Выручка')\n",
    "plt.xlabel('Дата')\n",
    "plt.plot(cumulativeRevenueA['date'], cumulativeRevenueA['revenue'], label='A')\n",
    "\n",
    "# Строим график выручки группы B\n",
    "plt.plot(cumulativeRevenueB['date'], cumulativeRevenueB['revenue'], label='B')\n",
    "plt.xticks(rotation=0)\n",
    "\n",
    "plt.legend() \n",
    "plt.show()"
   ]
  },
  {
   "cell_type": "markdown",
   "metadata": {},
   "source": [
    "На протяжении почти всего наблюдения группа В превосходит группу А. Резкий рост значений в группе B после середины теста говорит о наличии аномальных значений."
   ]
  },
  {
   "cell_type": "markdown",
   "metadata": {},
   "source": [
    "### Построим график кумулятивного среднего чека по группам. "
   ]
  },
  {
   "cell_type": "code",
   "execution_count": 12,
   "metadata": {},
   "outputs": [
    {
     "data": {
      "image/png": "[encoded data removed]",
      "text/plain": [
       "<Figure size 1080x360 with 1 Axes>"
      ]
     },
     "metadata": {
      "needs_background": "light"
     },
     "output_type": "display_data"
    }
   ],
   "source": [
    "plt.figure(figsize=(15,5))\n",
    "plt.title('График кумулятивного среднего чека по группам')\n",
    "plt.ylabel('Средний чек')\n",
    "plt.xlabel('Дата')\n",
    "plt.plot(cumulativeRevenueA['date'], cumulativeRevenueA['revenue']/cumulativeRevenueA['orders'], label='A')\n",
    "plt.plot(cumulativeRevenueB['date'], cumulativeRevenueB['revenue']/cumulativeRevenueB['orders'], label='B')\n",
    "plt.xticks(rotation=0)\n",
    "plt.legend()\n",
    "plt.show()"
   ]
  },
  {
   "cell_type": "markdown",
   "metadata": {},
   "source": [
    "В группе А среднее значение приближается к 7000. в гуппе В есть сильные всплески. Вероятно требуется дополнительный анализ аномальных значений, возможно, в середине теста в группу B попали крупные заказы."
   ]
  },
  {
   "cell_type": "markdown",
   "metadata": {},
   "source": [
    "### Построим график относительного изменения кумулятивного среднего чека группы B к группе A. "
   ]
  },
  {
   "cell_type": "code",
   "execution_count": 13,
   "metadata": {},
   "outputs": [
    {
     "data": {
      "image/png": "[encoded data removed]",
      "text/plain": [
       "<Figure size 1080x360 with 1 Axes>"
      ]
     },
     "metadata": {
      "needs_background": "light"
     },
     "output_type": "display_data"
    }
   ],
   "source": [
    "mergedCumulativeRevenue = cumulativeRevenueA.merge(cumulativeRevenueB, left_on='date', right_on='date', how='left', suffixes=['A', 'B'])\n",
    "\n",
    "# cтроим отношение средних чеков\n",
    "plt.figure(figsize=(15,5))\n",
    "plt.title('График относительного изменения кумулятивного среднего чека группы B к группе A')\n",
    "plt.ylabel('Изменение')\n",
    "plt.xlabel('Дата')\n",
    "plt.plot(mergedCumulativeRevenue['date'], (mergedCumulativeRevenue['revenueB']/mergedCumulativeRevenue['ordersB'])/(mergedCumulativeRevenue['revenueA']/mergedCumulativeRevenue['ordersA'])-1)\n",
    "\n",
    "# добавляем ось X\n",
    "plt.axhline(y=0, color='black', linestyle='--') \n",
    "plt.xticks(rotation=0)\n",
    "plt.show()"
   ]
  },
  {
   "cell_type": "markdown",
   "metadata": {},
   "source": [
    "В нескольких точках график различия между сегментами резко «скачет». Вероятно в этих точках крупные заказы и выбросы."
   ]
  },
  {
   "cell_type": "markdown",
   "metadata": {},
   "source": [
    "### Построим график кумулятивного среднего количества заказов на посетителя по группам. "
   ]
  },
  {
   "cell_type": "code",
   "execution_count": 14,
   "metadata": {},
   "outputs": [
    {
     "data": {
      "image/png": "[encoded data removed]",
      "text/plain": [
       "<Figure size 1080x360 with 1 Axes>"
      ]
     },
     "metadata": {
      "needs_background": "light"
     },
     "output_type": "display_data"
    }
   ],
   "source": [
    "# считаем кумулятивную конверсию\n",
    "cumulativeData['conversion'] = cumulativeData['orders']/cumulativeData['visitors']\n",
    "\n",
    "# отделяем данные по группе A\n",
    "cumulativeDataA = cumulativeData[cumulativeData['group']=='A']\n",
    "\n",
    "# отделяем данные по группе B\n",
    "cumulativeDataB = cumulativeData[cumulativeData['group']=='B']\n",
    "\n",
    "# строим графики\n",
    "plt.figure(figsize=(15,5))\n",
    "plt.title('График кумулятивного среднего количества заказов на посетителя')\n",
    "plt.ylabel('Cреднее количество заказов на посетителя')\n",
    "plt.xlabel('Дата')\n",
    "plt.plot(cumulativeDataA['date'], cumulativeDataA['conversion'], label='A')\n",
    "plt.plot(cumulativeDataB['date'], cumulativeDataB['conversion'], label='B')\n",
    "plt.legend()\n",
    "plt.xticks(rotation=0)\n",
    "# задаем масштаб осей\n",
    "plt.axis(['2019-08-01', '2019-09-01', 0.025, 0.04])\n",
    "plt.show()"
   ]
  },
  {
   "cell_type": "markdown",
   "metadata": {},
   "source": [
    "Абсолютные значения колебаний не очень большие, в пределах 1%. После колебаний в начале теста начения группы В установились выше значений группы А."
   ]
  },
  {
   "cell_type": "markdown",
   "metadata": {},
   "source": [
    "### Построим график относительного изменения кумулятивного среднего количества заказов на посетителя группы B к группе A. "
   ]
  },
  {
   "cell_type": "code",
   "execution_count": 15,
   "metadata": {},
   "outputs": [
    {
     "data": {
      "image/png": "[encoded data removed]",
      "text/plain": [
       "<Figure size 1080x360 with 1 Axes>"
      ]
     },
     "metadata": {
      "needs_background": "light"
     },
     "output_type": "display_data"
    }
   ],
   "source": [
    "mergedCumulativeConversions = cumulativeDataA[['date','conversion']].merge(cumulativeDataB[['date','conversion']], left_on='date', right_on='date', how='left', suffixes=['A', 'B'])\n",
    "plt.figure(figsize=(15,5))\n",
    "plt.title('График  относительного изменения кумулятивного среднего количества заказов на посетителя группы B к группе A')\n",
    "plt.ylabel('Изменение')\n",
    "plt.xlabel('Дата')\n",
    "plt.plot(mergedCumulativeConversions['date'], mergedCumulativeConversions['conversionB']/mergedCumulativeConversions['conversionA']-1, label=\"Относительный прирост среднего количества заказов на посетителя группы B к группе A\")\n",
    "#plt.legend(bbox_to_anchor=( 0.62 , 0.05 ), loc='upper left', borderaxespad= -20)\n",
    "plt.legend(loc='upper left')\n",
    "plt.xticks(rotation=0)\n",
    "plt.axhline(y=0, color='black', linestyle='--')\n",
    "plt.axhline(y=0.15, color='grey', linestyle='--')\n",
    "plt.axis([\"2019-08-01\", '2019-09-01', -0.5, 0.5]) \n",
    "plt.show()"
   ]
  },
  {
   "cell_type": "markdown",
   "metadata": {},
   "source": [
    "Сначала группа В уступала группе А. Затем вырвалась вперед и завиксирваласт выше А окола 20%."
   ]
  },
  {
   "cell_type": "markdown",
   "metadata": {},
   "source": [
    "### Построим точечный график количества заказов по пользователям."
   ]
  },
  {
   "cell_type": "code",
   "execution_count": 16,
   "metadata": {},
   "outputs": [
    {
     "data": {
      "image/png": "[encoded data removed]",
      "text/plain": [
       "<Figure size 432x288 with 1 Axes>"
      ]
     },
     "metadata": {
      "needs_background": "light"
     },
     "output_type": "display_data"
    }
   ],
   "source": [
    "ordersByUsers = (\n",
    "    orders.groupby('visitorId', as_index=False)\n",
    "    .agg({'transactionId': 'nunique'})\n",
    ")\n",
    "\n",
    "ordersByUsers.columns = ['visitorId', 'orders']\n",
    "plt.title('Гистограмма распределения количества заказов')\n",
    "plt.ylabel('Количество пользователей')\n",
    "plt.xlabel('Количество заказов')\n",
    "plt.hist(ordersByUsers['orders']) \n",
    "plt.show()"
   ]
  },
  {
   "cell_type": "code",
   "execution_count": 17,
   "metadata": {},
   "outputs": [
    {
     "data": {
      "image/png": "[encoded data removed]",
      "text/plain": [
       "<Figure size 432x288 with 1 Axes>"
      ]
     },
     "metadata": {
      "needs_background": "light"
     },
     "output_type": "display_data"
    }
   ],
   "source": [
    "x_values = pd.Series(range(0, len(ordersByUsers)))\n",
    "plt.title('Точечный график количества заказов по пользователям')\n",
    "plt.ylabel('Количество заказов')\n",
    "plt.xlabel('Количество пользователей')\n",
    "plt.scatter(x_values, ordersByUsers['orders']) \n",
    "plt.show()"
   ]
  },
  {
   "cell_type": "markdown",
   "metadata": {},
   "source": [
    "Большинство пользователей совершили 1 заказ. Аномальное количество заказов больше 5."
   ]
  },
  {
   "cell_type": "markdown",
   "metadata": {},
   "source": [
    "### Посчитаем 95-й и 99-й перцентили количества заказов на пользователя. "
   ]
  },
  {
   "cell_type": "code",
   "execution_count": 18,
   "metadata": {},
   "outputs": [
    {
     "name": "stdout",
     "output_type": "stream",
     "text": [
      "[2. 4.]\n"
     ]
    }
   ],
   "source": [
    "print(np.percentile(ordersByUsers['orders'], [95, 99]))"
   ]
  },
  {
   "cell_type": "markdown",
   "metadata": {},
   "source": [
    "Не более 5% пользователей сделали больше 2-х заказов и не более 1% больше 4-х. Выберем за границу для определения аномальных пользователей больше 4 заказов."
   ]
  },
  {
   "cell_type": "markdown",
   "metadata": {},
   "source": [
    "### Построим точечный график стоимостей заказов. "
   ]
  },
  {
   "cell_type": "code",
   "execution_count": 19,
   "metadata": {},
   "outputs": [
    {
     "data": {
      "image/png": "[encoded data removed]",
      "text/plain": [
       "<Figure size 432x288 with 1 Axes>"
      ]
     },
     "metadata": {
      "needs_background": "light"
     },
     "output_type": "display_data"
    }
   ],
   "source": [
    "plt.hist(orders['revenue'])\n",
    "plt.title('Гистограмма распределения стоимостей заказов')\n",
    "plt.ylabel('Количество пользователей')\n",
    "plt.xlabel('Стоимость заказов')\n",
    "plt.show()"
   ]
  },
  {
   "cell_type": "markdown",
   "metadata": {},
   "source": [
    "Стоимость большинства заказов меньше 100000. Однако сложно сделать выводы о более дорогих заказах, кроме того, что они есть."
   ]
  },
  {
   "cell_type": "code",
   "execution_count": 20,
   "metadata": {},
   "outputs": [
    {
     "data": {
      "image/png": "[encoded data removed]",
      "text/plain": [
       "<Figure size 432x288 with 1 Axes>"
      ]
     },
     "metadata": {
      "needs_background": "light"
     },
     "output_type": "display_data"
    }
   ],
   "source": [
    "y_values = pd.Series(range(0, len(orders['revenue'])))\n",
    "plt.scatter(y_values, orders['revenue']) \n",
    "plt.title('Точечный график стоимостей заказов')\n",
    "plt.ylabel('Стоимость заказов')\n",
    "plt.xlabel('Количество пользователей')\n",
    "plt.show()"
   ]
  },
  {
   "cell_type": "markdown",
   "metadata": {},
   "source": [
    "Заказ больше 1200000 выглядит аномально. Есть выброс около 200000."
   ]
  },
  {
   "cell_type": "code",
   "execution_count": 21,
   "metadata": {},
   "outputs": [
    {
     "data": {
      "image/png": "[encoded data removed]",
      "text/plain": [
       "<Figure size 432x288 with 1 Axes>"
      ]
     },
     "metadata": {
      "needs_background": "light"
     },
     "output_type": "display_data"
    }
   ],
   "source": [
    "plt.hist(orders['revenue'], bins=50, range=(0, 175000))\n",
    "plt.title('Гистограмма распределения стоимостей заказов до 175000')\n",
    "plt.ylabel('Количество пользователей')\n",
    "plt.xlabel('Стоимость заказов')\n",
    "plt.show()"
   ]
  },
  {
   "cell_type": "code",
   "execution_count": 22,
   "metadata": {},
   "outputs": [
    {
     "data": {
      "image/png": "[encoded data removed]",
      "text/plain": [
       "<Figure size 432x288 with 1 Axes>"
      ]
     },
     "metadata": {
      "needs_background": "light"
     },
     "output_type": "display_data"
    }
   ],
   "source": [
    "y_values = pd.Series(range(0, len(orders['revenue'])))\n",
    "plt.scatter(y_values, orders['revenue']) \n",
    "plt.axis([0, 1200, 0, 175000])\n",
    "plt.title('Точечный график стоимостей заказов до 175000')\n",
    "plt.ylabel('Стоимость заказов')\n",
    "plt.xlabel('Количество пользователей')\n",
    "plt.show()"
   ]
  },
  {
   "cell_type": "markdown",
   "metadata": {},
   "source": [
    "Основная часть заказов до 20000."
   ]
  },
  {
   "cell_type": "markdown",
   "metadata": {},
   "source": [
    "### Посчитаем 95-й и 99-й перцентили стоимости заказов. "
   ]
  },
  {
   "cell_type": "code",
   "execution_count": 23,
   "metadata": {},
   "outputs": [
    {
     "name": "stdout",
     "output_type": "stream",
     "text": [
      "[28000.  58233.2]\n"
     ]
    }
   ],
   "source": [
    "print(np.percentile(orders['revenue'], [95, 99]))"
   ]
  },
  {
   "cell_type": "markdown",
   "metadata": {},
   "source": [
    "Не более 5% заказов больше 28000 и не более 1% заказов более 58233,2. Возможно отсеить аномальные заказы дороже 28000."
   ]
  },
  {
   "cell_type": "markdown",
   "metadata": {},
   "source": [
    "### Посчитаем статистическую значимость различий в среднем количестве заказов на посетителя между группами по «сырым» данным. "
   ]
  },
  {
   "cell_type": "markdown",
   "metadata": {},
   "source": [
    "Сформулируем гипотезы. \n",
    "\n",
    "Нулевая: статистически значимых различий в среднем количестве заказов на посетителя между группами по «сырым» данным нет. \n",
    "\n",
    "Альтернативная: статистически значимые различия в среднем количестве заказов на посетителя между группами по «сырым» данным есть."
   ]
  },
  {
   "cell_type": "code",
   "execution_count": 24,
   "metadata": {},
   "outputs": [
    {
     "name": "stdout",
     "output_type": "stream",
     "text": [
      "        date  ordersPerDateA  revenuePerDateA  ordersPerDateB  \\\n",
      "0 2019-08-01              20           148579              21   \n",
      "1 2019-08-02              19            93822              24   \n",
      "2 2019-08-03              24           112473              16   \n",
      "3 2019-08-04              15            70825              17   \n",
      "4 2019-08-05              25           124218              23   \n",
      "\n",
      "   revenuePerDateB  ordersCummulativeA  revenueCummulativeA  \\\n",
      "0           101217                  20               148579   \n",
      "1           165531                  39               242401   \n",
      "2           114248                  63               354874   \n",
      "3           108571                  78               425699   \n",
      "4            92428                 103               549917   \n",
      "\n",
      "   ordersCummulativeB  revenueCummulativeB  visitorsPerDateA  \\\n",
      "0                  21               101217               719   \n",
      "1                  45               266748               619   \n",
      "2                  61               380996               507   \n",
      "3                  78               489567               717   \n",
      "4                 101               581995               756   \n",
      "\n",
      "   visitorsPerDateB  visitorsCummulativeA  visitorsCummulativeB  \n",
      "0               713                   719                   713  \n",
      "1               581                  1338                  1294  \n",
      "2               509                  1845                  1803  \n",
      "3               770                  2562                  2573  \n",
      "4               707                  3318                  3280  \n",
      "P-value - 0.01679\n",
      "Относительные различия - 0.138\n"
     ]
    }
   ],
   "source": [
    "visitorsADaily = visitors[visitors['group'] == 'A'][['date', 'visitors']]\n",
    "visitorsADaily.columns = ['date', 'visitorsPerDateA']\n",
    "\n",
    "visitorsACummulative = visitorsADaily.apply(\n",
    "    lambda x: visitorsADaily[visitorsADaily['date'] <= x['date']].agg(\n",
    "        {'date': 'max', 'visitorsPerDateA': 'sum'}\n",
    "    ),\n",
    "    axis=1,\n",
    ")\n",
    "visitorsACummulative.columns = ['date', 'visitorsCummulativeA']\n",
    "\n",
    "visitorsBDaily = visitors[visitors['group'] == 'B'][['date', 'visitors']]\n",
    "visitorsBDaily.columns = ['date', 'visitorsPerDateB']\n",
    "\n",
    "visitorsBCummulative = visitorsBDaily.apply(\n",
    "    lambda x: visitorsBDaily[visitorsBDaily['date'] <= x['date']].agg(\n",
    "        {'date': 'max', 'visitorsPerDateB': 'sum'}\n",
    "    ),\n",
    "    axis=1,\n",
    ")\n",
    "visitorsBCummulative.columns = ['date', 'visitorsCummulativeB']\n",
    "\n",
    "ordersADaily = (\n",
    "    orders[orders['group'] == 'A'][['date', 'transactionId', 'visitorId', 'revenue']]\n",
    "    .groupby('date', as_index=False)\n",
    "    .agg({'visitorId': pd.Series.nunique, 'revenue': 'sum'})\n",
    ")\n",
    "ordersADaily.columns = ['date', 'ordersPerDateA', 'revenuePerDateA']\n",
    "\n",
    "ordersACummulative = ordersADaily.apply(\n",
    "    lambda x: ordersADaily[ordersADaily['date'] <= x['date']].agg(\n",
    "        {'date': 'max', 'ordersPerDateA': 'sum', 'revenuePerDateA': 'sum'}\n",
    "    ),\n",
    "    axis=1,\n",
    ").sort_values(by=['date'])\n",
    "ordersACummulative.columns = [\n",
    "    'date',\n",
    "    'ordersCummulativeA',\n",
    "    'revenueCummulativeA',\n",
    "]\n",
    "\n",
    "ordersBDaily = (\n",
    "    orders[orders['group'] == 'B'][['date', 'transactionId', 'visitorId', 'revenue']]\n",
    "    .groupby('date', as_index=False)\n",
    "    .agg({'transactionId': pd.Series.nunique, 'revenue': 'sum'})\n",
    ")\n",
    "ordersBDaily.columns = ['date', 'ordersPerDateB', 'revenuePerDateB']\n",
    "\n",
    "ordersBCummulative = ordersBDaily.apply(\n",
    "    lambda x: ordersBDaily[ordersBDaily['date'] <= x['date']].agg(\n",
    "        {'date': 'max', 'ordersPerDateB': 'sum', 'revenuePerDateB': 'sum'}\n",
    "    ),\n",
    "    axis=1,\n",
    ").sort_values(by=['date'])\n",
    "ordersBCummulative.columns = [\n",
    "    'date',\n",
    "    'ordersCummulativeB',\n",
    "    'revenueCummulativeB',\n",
    "]\n",
    "\n",
    "data = (\n",
    "    ordersADaily.merge(\n",
    "        ordersBDaily, left_on='date', right_on='date', how='left'\n",
    "    )\n",
    "    .merge(ordersACummulative, left_on='date', right_on='date', how='left')\n",
    "    .merge(ordersBCummulative, left_on='date', right_on='date', how='left')\n",
    "    .merge(visitorsADaily, left_on='date', right_on='date', how='left')\n",
    "    .merge(visitorsBDaily, left_on='date', right_on='date', how='left')\n",
    "    .merge(visitorsACummulative, left_on='date', right_on='date', how='left')\n",
    "    .merge(visitorsBCummulative, left_on='date', right_on='date', how='left')\n",
    ")\n",
    "\n",
    "print(data.head(5))\n",
    "ordersByUsersA = (\n",
    "    orders[orders['group'] == 'A']\n",
    "    .groupby('visitorId', as_index=False)\n",
    "    .agg({'transactionId': pd.Series.nunique})\n",
    ")\n",
    "ordersByUsersA.columns = ['visitorId', 'orders']\n",
    "\n",
    "ordersByUsersB = (\n",
    "    orders[orders['group'] == 'B']\n",
    "    .groupby('visitorId', as_index=False)\n",
    "    .agg({'transactionId': pd.Series.nunique})\n",
    ")\n",
    "ordersByUsersB.columns = ['visitorId', 'orders'] \n",
    "pd.Series(0, index=np.arange(data['visitorsPerDateA'].sum() - len(ordersByUsersA['orders'])), name='orders')\n",
    "[ordersByUsersA['orders'],pd.Series(0, index=np.arange(data['visitorsPerDateA'].sum() - len(ordersByUsersA['orders'])), name='orders')] \n",
    "sampleA = pd.concat([ordersByUsersA['orders'],pd.Series(0, index=np.arange(data['visitorsPerDateA'].sum() - len(ordersByUsersA['orders'])), name='orders')],axis=0)\n",
    "\n",
    "sampleB = pd.concat([ordersByUsersB['orders'],pd.Series(0, index=np.arange(data['visitorsPerDateB'].sum() - len(ordersByUsersB['orders'])), name='orders')],axis=0)\n",
    "ordersByUsersA = (\n",
    "    orders[orders['group'] == 'A']\n",
    "    .groupby('visitorId', as_index=False)\n",
    "    .agg({'transactionId': pd.Series.nunique})\n",
    ")\n",
    "ordersByUsersA.columns = ['visitorId', 'orders']\n",
    "\n",
    "ordersByUsersB = (\n",
    "    orders[orders['group'] == 'B']\n",
    "    .groupby('visitorId', as_index=False)\n",
    "    .agg({'transactionId': pd.Series.nunique})\n",
    ")\n",
    "ordersByUsersB.columns = ['visitorId', 'orders']\n",
    "\n",
    "sampleA = pd.concat(\n",
    "    [\n",
    "        ordersByUsersA['orders'],\n",
    "        pd.Series(\n",
    "            0,\n",
    "            index=np.arange(\n",
    "                data['visitorsPerDateA'].sum() - len(ordersByUsersA['orders'])\n",
    "            ),\n",
    "            name='orders',\n",
    "        ),\n",
    "    ],\n",
    "    axis=0,\n",
    ")\n",
    "\n",
    "sampleB = pd.concat(\n",
    "    [\n",
    "        ordersByUsersB['orders'],\n",
    "        pd.Series(\n",
    "            0,\n",
    "            index=np.arange(\n",
    "                data['visitorsPerDateB'].sum() - len(ordersByUsersB['orders'])\n",
    "            ),\n",
    "            name='orders',\n",
    "        ),\n",
    "    ],\n",
    "    axis=0,\n",
    ")\n",
    "\n",
    "print(\"P-value - {0:.5f}\".format(stats.mannwhitneyu(sampleA, sampleB)[1]))\n",
    "print(\"Относительные различия - {0:.3f}\".format(sampleB.mean() / sampleA.mean() - 1))"
   ]
  },
  {
   "cell_type": "markdown",
   "metadata": {},
   "source": [
    "Вывод: По «сырым» данным различий в среднем числе заказов групп A и B нет. \n",
    "p-value = 0.01679 меньше 0.05. Значит, нулевую гипотезу о том, что статистически значимых различий в среднем числе заказов между группами нет, отвергаем. Относительный прирост группы B равен 13.8%."
   ]
  },
  {
   "cell_type": "markdown",
   "metadata": {},
   "source": [
    "### Посчитаем статистическую значимость различий в среднем чеке заказа между группами по «сырым» данным. "
   ]
  },
  {
   "cell_type": "markdown",
   "metadata": {},
   "source": [
    "Сформулируем гипотезы. \n",
    "\n",
    "Нулевая: статистически значимых различий в среднем чеке заказа между группами по «сырым» данным нет. \n",
    "\n",
    "Альтернативная: статистически значимые различия в среднем чеке заказа между группами по «сырым» данным есть."
   ]
  },
  {
   "cell_type": "code",
   "execution_count": 25,
   "metadata": {},
   "outputs": [
    {
     "name": "stdout",
     "output_type": "stream",
     "text": [
      "P-value - 0.729\n",
      "Относительные различия - 0.259\n"
     ]
    }
   ],
   "source": [
    "print('P-value - {0:.3f}'.format(stats.mannwhitneyu(orders[orders['group']=='A']['revenue'], orders[orders['group']=='B']['revenue'])[1]))\n",
    "print('Относительные различия - {0:.3f}'.format(orders[orders['group']=='B']['revenue'].mean()/orders[orders['group']=='A']['revenue'].mean()-1))"
   ]
  },
  {
   "cell_type": "markdown",
   "metadata": {},
   "source": [
    "P-value значительно больше 0.05. Значит, причин отвергать нулевую гипотезу и считать, что в среднем чеке есть различия, нет. Различие среднего чека между группами 26%."
   ]
  },
  {
   "cell_type": "markdown",
   "metadata": {},
   "source": [
    "### Посчитаем статистическую значимость различий в среднем количестве заказов на посетителя между группами по «очищенным» данным. "
   ]
  },
  {
   "cell_type": "markdown",
   "metadata": {},
   "source": [
    "Примем за аномальных пользователей тех, кто совершил от 5 заказов или совершил заказ дороже 28 000 рублей. Так мы уберём 1% пользователей с наибольшим числом заказов и до 5% пользователей с дорогими заказами. Сделаем срезы пользователей с числом заказов больше 4 — usersWithManyOrders и пользователей, совершивших заказы дороже 28 000 — usersWithExpensiveOrders. Объединим их в таблице abnormalUsers. \n",
    "Узнаем, сколько всего аномальных пользователей"
   ]
  },
  {
   "cell_type": "code",
   "execution_count": 26,
   "metadata": {},
   "outputs": [
    {
     "name": "stdout",
     "output_type": "stream",
     "text": [
      "1099    148427295\n",
      "928     204675465\n",
      "684     358944393\n",
      "648     382846391\n",
      "1189    393266494\n",
      "Name: visitorId, dtype: int64\n",
      "59\n"
     ]
    }
   ],
   "source": [
    "usersWithManyOrders = pd.concat(\n",
    "    [\n",
    "        ordersByUsersA[ordersByUsersA['orders'] > np.percentile(ordersByUsers['orders'], 99)]['visitorId'],\n",
    "        ordersByUsersB[ordersByUsersB['orders'] > np.percentile(ordersByUsers['orders'], 99)]['visitorId'],\n",
    "    ],\n",
    "    axis=0,\n",
    ")\n",
    "usersWithExpensiveOrders = orders[orders['revenue'] > np.percentile(orders['revenue'], 95)]['visitorId']\n",
    "abnormalUsers = (\n",
    "    pd.concat([usersWithManyOrders, usersWithExpensiveOrders], axis=0)\n",
    "    .drop_duplicates()\n",
    "    .sort_values()\n",
    ")\n",
    "\n",
    "print(abnormalUsers.head(5))\n",
    "print(abnormalUsers.shape[0])\n"
   ]
  },
  {
   "cell_type": "markdown",
   "metadata": {},
   "source": [
    "Всего 59 аномальных пользователей."
   ]
  },
  {
   "cell_type": "markdown",
   "metadata": {},
   "source": [
    "Посчитаем статистическую значимость различий в среднем количестве заказов между группами теста по очищенным данным."
   ]
  },
  {
   "cell_type": "markdown",
   "metadata": {},
   "source": [
    "Сформулируем гипотезы. \n",
    "\n",
    "Нулевая: статистически значимых различий в среднем количестве заказов на посетителя между группами по «очищенным» данным нет. \n",
    "\n",
    "Альтернативная: статистически значимые различия в среднем количестве заказов на посетителя между группами по «очищенным» данным есть."
   ]
  },
  {
   "cell_type": "code",
   "execution_count": 27,
   "metadata": {},
   "outputs": [
    {
     "name": "stdout",
     "output_type": "stream",
     "text": [
      "P-value - 0.018\n",
      "Относительные изменения - 0.145\n"
     ]
    }
   ],
   "source": [
    "sampleAFiltered = pd.concat(\n",
    "    [\n",
    "        ordersByUsersA[\n",
    "            np.logical_not(ordersByUsersA['visitorId'].isin(abnormalUsers))\n",
    "        ]['orders'],\n",
    "        pd.Series(\n",
    "            0,\n",
    "            index=np.arange(\n",
    "                data['visitorsPerDateA'].sum() - len(ordersByUsersA['orders'])\n",
    "            ),\n",
    "            name='orders',\n",
    "        ),\n",
    "    ],\n",
    "    axis=0,\n",
    ")\n",
    "\n",
    "sampleBFiltered = pd.concat(\n",
    "    [\n",
    "        ordersByUsersB[\n",
    "            np.logical_not(ordersByUsersB['visitorId'].isin(abnormalUsers))\n",
    "        ]['orders'],\n",
    "        pd.Series(\n",
    "            0,\n",
    "            index=np.arange(\n",
    "                data['visitorsPerDateB'].sum() - len(ordersByUsersB['orders'])\n",
    "            ),\n",
    "            name='orders',\n",
    "        ),\n",
    "    ],\n",
    "    axis=0,\n",
    ")\n",
    "print('P-value - {0:.3f}'.format(stats.mannwhitneyu(sampleAFiltered, sampleBFiltered)[1]))\n",
    "print('Относительные изменения - {0:.3f}'.format(sampleBFiltered.mean()/sampleAFiltered.mean()-1)) "
   ]
  },
  {
   "cell_type": "markdown",
   "metadata": {},
   "source": [
    "Статистическая значимость достигнута. Группа В лучше группы А."
   ]
  },
  {
   "cell_type": "markdown",
   "metadata": {},
   "source": [
    "Вывод: По «очищенным» данным различий в среднем числе заказов групп A и B нет. p-value = 0.018 меньше 0.05. Значит, нулевую гипотезу о том, что статистически значимых различий в среднем числе заказов между группами нет, отвергаем. Относительный прирост группы B равен 14.5%."
   ]
  },
  {
   "cell_type": "markdown",
   "metadata": {},
   "source": [
    "### Посчитайтем статистическую значимость различий в среднем чеке заказа между группами по «очищенным» данным. "
   ]
  },
  {
   "cell_type": "markdown",
   "metadata": {},
   "source": [
    "<Сформулируем гипотезы. \n",
    "\n",
    "Нулевая: статистически значимых различий в среднем чеке заказа между группами по «очищенным» данным нет. \n",
    "\n",
    "Альтернативная: статистически значимые различия в среднем чеке заказа между группами по «очищенным» данным есть."
   ]
  },
  {
   "cell_type": "code",
   "execution_count": 28,
   "metadata": {},
   "outputs": [
    {
     "name": "stdout",
     "output_type": "stream",
     "text": [
      "P-value: 0.961\n",
      "Относительные изменения: -0.014\n"
     ]
    }
   ],
   "source": [
    "print(\n",
    "    'P-value: {0:.3f}'.format(\n",
    "        stats.mannwhitneyu(\n",
    "            orders[\n",
    "                np.logical_and(\n",
    "                    orders['group'] == 'A',\n",
    "                    np.logical_not(orders['visitorId'].isin(abnormalUsers)),\n",
    "                )\n",
    "            ]['revenue'],\n",
    "            orders[\n",
    "                np.logical_and(\n",
    "                    orders['group'] == 'B',\n",
    "                    np.logical_not(orders['visitorId'].isin(abnormalUsers)),\n",
    "                )\n",
    "            ]['revenue'],\n",
    "        )[1]\n",
    "    )\n",
    ")\n",
    "\n",
    "print(\n",
    "    \"Относительные изменения: {0:.3f}\".format(\n",
    "        orders[\n",
    "            np.logical_and(\n",
    "                orders['group'] == 'B',\n",
    "                np.logical_not(orders['visitorId'].isin(abnormalUsers)),\n",
    "            )\n",
    "        ]['revenue'].mean()\n",
    "        / orders[\n",
    "            np.logical_and(\n",
    "                orders['group'] == 'A',\n",
    "                np.logical_not(orders['visitorId'].isin(abnormalUsers)),\n",
    "            )\n",
    "        ]['revenue'].mean()\n",
    "        - 1\n",
    "    )\n",
    ")"
   ]
  },
  {
   "cell_type": "markdown",
   "metadata": {},
   "source": [
    "P-value увеличился, разница между группами поменялась в обратную сторону. группа В стала хуже на 1.4%."
   ]
  },
  {
   "cell_type": "markdown",
   "metadata": {},
   "source": [
    "P-value значительно больше 0.05. Значит, причин отвергать нулевую гипотезу и считать, что в среднем чеке есть различия, нет. Различие среднего чека между группами 26%."
   ]
  },
  {
   "cell_type": "markdown",
   "metadata": {},
   "source": [
    "### Решение по результатам теста"
   ]
  },
  {
   "cell_type": "markdown",
   "metadata": {},
   "source": [
    "Среднее количество заказов увеличилось в группе В на 14,5 %. Статистически значимого различия по среднему чеку между группами нет, средний чек уменьшился на 1,4 %.\n",
    "\n",
    "После удаления аномалий изменилось значение среднего чека.\n",
    "\n",
    "По результатам теста можно зафиксировать робеду группы В по количеству заказов и отсутствие различий по среднему чеку."
   ]
  }
 ],
 "metadata": {
  "ExecuteTimeLog": [
   {
    "duration": 50,
    "start_time": "2023-04-27T12:34:56.610Z"
   },
   {
    "duration": 820,
    "start_time": "2023-04-27T12:35:01.814Z"
   },
   {
    "duration": 73,
    "start_time": "2023-04-27T12:35:03.815Z"
   },
   {
    "duration": 43,
    "start_time": "2023-04-27T12:35:07.678Z"
   },
   {
    "duration": 27,
    "start_time": "2023-04-27T12:35:24.583Z"
   },
   {
    "duration": 1602,
    "start_time": "2023-04-27T12:36:01.009Z"
   },
   {
    "duration": 5,
    "start_time": "2023-04-27T12:42:42.005Z"
   },
   {
    "duration": 5,
    "start_time": "2023-04-27T12:48:37.676Z"
   },
   {
    "duration": 2440,
    "start_time": "2023-04-27T12:51:21.724Z"
   },
   {
    "duration": 12,
    "start_time": "2023-04-27T12:57:27.583Z"
   },
   {
    "duration": 11,
    "start_time": "2023-04-27T13:00:28.483Z"
   },
   {
    "duration": 12,
    "start_time": "2023-04-27T13:00:46.223Z"
   },
   {
    "duration": 13,
    "start_time": "2023-04-27T13:00:54.107Z"
   },
   {
    "duration": 13,
    "start_time": "2023-04-27T13:00:59.244Z"
   },
   {
    "duration": 14,
    "start_time": "2023-04-27T13:01:04.638Z"
   },
   {
    "duration": 15,
    "start_time": "2023-04-27T13:01:10.433Z"
   },
   {
    "duration": 14,
    "start_time": "2023-04-27T13:01:20.343Z"
   },
   {
    "duration": 3,
    "start_time": "2023-04-27T13:02:54.635Z"
   },
   {
    "duration": 26,
    "start_time": "2023-04-27T13:02:55.020Z"
   },
   {
    "duration": 10,
    "start_time": "2023-04-27T13:02:56.649Z"
   },
   {
    "duration": 640,
    "start_time": "2023-04-27T13:12:52.431Z"
   },
   {
    "duration": 28,
    "start_time": "2023-04-27T13:12:53.072Z"
   },
   {
    "duration": 7,
    "start_time": "2023-04-27T13:12:53.102Z"
   },
   {
    "duration": 16,
    "start_time": "2023-04-27T13:12:53.111Z"
   },
   {
    "duration": 11,
    "start_time": "2023-04-27T13:12:53.128Z"
   },
   {
    "duration": 7,
    "start_time": "2023-04-27T13:13:17.971Z"
   },
   {
    "duration": 162,
    "start_time": "2023-04-27T13:38:50.397Z"
   },
   {
    "duration": 79,
    "start_time": "2023-04-27T13:39:31.370Z"
   },
   {
    "duration": 11,
    "start_time": "2023-04-27T13:42:09.506Z"
   },
   {
    "duration": 87,
    "start_time": "2023-04-27T13:42:53.339Z"
   },
   {
    "duration": 20,
    "start_time": "2023-04-27T13:43:18.675Z"
   },
   {
    "duration": 11,
    "start_time": "2023-04-27T13:43:34.775Z"
   },
   {
    "duration": 7,
    "start_time": "2023-04-27T13:43:41.060Z"
   },
   {
    "duration": 76,
    "start_time": "2023-04-27T13:47:43.381Z"
   },
   {
    "duration": 74,
    "start_time": "2023-04-27T13:50:28.998Z"
   },
   {
    "duration": 7,
    "start_time": "2023-04-27T13:50:37.218Z"
   },
   {
    "duration": 5,
    "start_time": "2023-04-27T13:50:51.429Z"
   },
   {
    "duration": 111,
    "start_time": "2023-04-27T13:51:43.327Z"
   },
   {
    "duration": 5,
    "start_time": "2023-04-27T13:58:53.529Z"
   },
   {
    "duration": 10,
    "start_time": "2023-04-27T13:59:22.185Z"
   },
   {
    "duration": 794,
    "start_time": "2023-04-28T07:35:14.561Z"
   },
   {
    "duration": 248,
    "start_time": "2023-04-28T07:35:15.357Z"
   },
   {
    "duration": 9,
    "start_time": "2023-04-28T07:35:15.606Z"
   },
   {
    "duration": 21,
    "start_time": "2023-04-28T07:35:15.617Z"
   },
   {
    "duration": 8,
    "start_time": "2023-04-28T07:35:15.640Z"
   },
   {
    "duration": 8,
    "start_time": "2023-04-28T07:35:23.366Z"
   },
   {
    "duration": 92,
    "start_time": "2023-04-28T07:39:01.574Z"
   },
   {
    "duration": 8,
    "start_time": "2023-04-28T07:39:22.680Z"
   },
   {
    "duration": 8,
    "start_time": "2023-04-28T07:39:28.514Z"
   },
   {
    "duration": 9,
    "start_time": "2023-04-28T07:39:38.822Z"
   },
   {
    "duration": 7,
    "start_time": "2023-04-28T07:39:52.950Z"
   },
   {
    "duration": 113,
    "start_time": "2023-04-28T07:40:49.014Z"
   },
   {
    "duration": 13,
    "start_time": "2023-04-28T07:40:57.887Z"
   },
   {
    "duration": 10,
    "start_time": "2023-04-28T07:41:33.240Z"
   },
   {
    "duration": 8,
    "start_time": "2023-04-28T07:41:39.721Z"
   },
   {
    "duration": 9,
    "start_time": "2023-04-28T07:41:50.880Z"
   },
   {
    "duration": 17,
    "start_time": "2023-04-28T07:42:25.417Z"
   },
   {
    "duration": 14,
    "start_time": "2023-04-28T07:43:20.632Z"
   },
   {
    "duration": 13,
    "start_time": "2023-04-28T07:44:05.723Z"
   },
   {
    "duration": 10,
    "start_time": "2023-04-28T07:44:19.840Z"
   },
   {
    "duration": 9,
    "start_time": "2023-04-28T07:45:23.151Z"
   },
   {
    "duration": 19,
    "start_time": "2023-04-28T07:45:31.387Z"
   },
   {
    "duration": 462,
    "start_time": "2023-04-28T07:47:13.440Z"
   },
   {
    "duration": 14,
    "start_time": "2023-04-28T07:54:35.444Z"
   },
   {
    "duration": 40,
    "start_time": "2023-04-28T07:54:59.852Z"
   },
   {
    "duration": 11,
    "start_time": "2023-04-28T07:55:13.076Z"
   },
   {
    "duration": 858,
    "start_time": "2023-04-28T07:56:50.526Z"
   },
   {
    "duration": 9,
    "start_time": "2023-04-28T07:56:56.325Z"
   },
   {
    "duration": 7,
    "start_time": "2023-04-28T08:00:38.278Z"
   },
   {
    "duration": 9,
    "start_time": "2023-04-28T08:00:44.829Z"
   },
   {
    "duration": 59,
    "start_time": "2023-04-28T08:45:08.763Z"
   },
   {
    "duration": 14,
    "start_time": "2023-04-28T08:45:24.222Z"
   },
   {
    "duration": 13,
    "start_time": "2023-04-28T08:46:12.310Z"
   },
   {
    "duration": 12,
    "start_time": "2023-04-28T08:55:52.720Z"
   },
   {
    "duration": 9,
    "start_time": "2023-04-28T08:56:10.289Z"
   },
   {
    "duration": 8,
    "start_time": "2023-04-28T08:57:11.461Z"
   },
   {
    "duration": 9,
    "start_time": "2023-04-28T08:57:27.508Z"
   },
   {
    "duration": 11,
    "start_time": "2023-04-28T09:10:10.043Z"
   },
   {
    "duration": 18,
    "start_time": "2023-04-28T09:10:16.895Z"
   },
   {
    "duration": 5,
    "start_time": "2023-04-28T09:10:56.809Z"
   },
   {
    "duration": 12,
    "start_time": "2023-04-28T09:11:24.634Z"
   },
   {
    "duration": 9,
    "start_time": "2023-04-28T09:11:55.808Z"
   },
   {
    "duration": 11,
    "start_time": "2023-04-28T09:12:05.917Z"
   },
   {
    "duration": 8,
    "start_time": "2023-04-28T09:12:17.085Z"
   },
   {
    "duration": 16,
    "start_time": "2023-04-28T09:12:31.885Z"
   },
   {
    "duration": 9,
    "start_time": "2023-04-28T09:12:42.054Z"
   },
   {
    "duration": 11,
    "start_time": "2023-04-28T09:12:59.947Z"
   },
   {
    "duration": 15,
    "start_time": "2023-04-28T09:14:40.445Z"
   },
   {
    "duration": 14,
    "start_time": "2023-04-28T09:15:59.952Z"
   },
   {
    "duration": 8,
    "start_time": "2023-04-28T09:27:51.629Z"
   },
   {
    "duration": 10,
    "start_time": "2023-04-28T09:28:01.885Z"
   },
   {
    "duration": 9,
    "start_time": "2023-04-28T09:29:02.345Z"
   },
   {
    "duration": 11,
    "start_time": "2023-04-28T09:29:15.409Z"
   },
   {
    "duration": 17,
    "start_time": "2023-04-28T09:29:53.099Z"
   },
   {
    "duration": 46,
    "start_time": "2023-04-28T09:40:12.616Z"
   },
   {
    "duration": 229,
    "start_time": "2023-04-28T09:41:09.408Z"
   },
   {
    "duration": 3,
    "start_time": "2023-04-28T09:42:29.926Z"
   },
   {
    "duration": 198,
    "start_time": "2023-04-28T09:42:37.270Z"
   },
   {
    "duration": 206,
    "start_time": "2023-04-28T09:43:14.479Z"
   },
   {
    "duration": 249,
    "start_time": "2023-04-28T09:43:36.410Z"
   },
   {
    "duration": 226,
    "start_time": "2023-04-28T09:56:27.908Z"
   },
   {
    "duration": 247,
    "start_time": "2023-04-28T09:56:41.723Z"
   },
   {
    "duration": 231,
    "start_time": "2023-04-28T09:57:56.258Z"
   },
   {
    "duration": 224,
    "start_time": "2023-04-28T09:58:05.963Z"
   },
   {
    "duration": 190,
    "start_time": "2023-04-28T09:58:34.134Z"
   },
   {
    "duration": 4,
    "start_time": "2023-04-28T10:00:30.115Z"
   },
   {
    "duration": 13,
    "start_time": "2023-04-28T10:00:38.130Z"
   },
   {
    "duration": 6,
    "start_time": "2023-04-28T10:00:51.156Z"
   },
   {
    "duration": 5,
    "start_time": "2023-04-28T10:01:47.412Z"
   },
   {
    "duration": 7,
    "start_time": "2023-04-28T10:02:01.974Z"
   },
   {
    "duration": 6,
    "start_time": "2023-04-28T10:02:09.587Z"
   },
   {
    "duration": 5,
    "start_time": "2023-04-28T10:03:02.948Z"
   },
   {
    "duration": 6,
    "start_time": "2023-04-28T10:03:11.580Z"
   },
   {
    "duration": 5,
    "start_time": "2023-04-28T10:03:20.196Z"
   },
   {
    "duration": 4,
    "start_time": "2023-04-28T11:13:38.590Z"
   },
   {
    "duration": 3,
    "start_time": "2023-04-28T11:14:11.415Z"
   },
   {
    "duration": 3,
    "start_time": "2023-04-28T11:14:19.150Z"
   },
   {
    "duration": 226,
    "start_time": "2023-04-28T11:14:29.359Z"
   },
   {
    "duration": 236,
    "start_time": "2023-04-28T11:14:56.399Z"
   },
   {
    "duration": 214,
    "start_time": "2023-04-28T11:17:23.720Z"
   },
   {
    "duration": 31,
    "start_time": "2023-04-28T11:18:12.241Z"
   },
   {
    "duration": 368,
    "start_time": "2023-04-28T11:18:55.274Z"
   },
   {
    "duration": 4,
    "start_time": "2023-04-28T11:20:19.722Z"
   },
   {
    "duration": 205,
    "start_time": "2023-04-28T11:20:29.375Z"
   },
   {
    "duration": 198,
    "start_time": "2023-04-28T11:22:41.887Z"
   },
   {
    "duration": 209,
    "start_time": "2023-04-28T11:24:39.138Z"
   },
   {
    "duration": 3,
    "start_time": "2023-04-28T11:24:48.116Z"
   },
   {
    "duration": 86,
    "start_time": "2023-04-28T11:24:48.122Z"
   },
   {
    "duration": 7,
    "start_time": "2023-04-28T11:24:48.210Z"
   },
   {
    "duration": 24,
    "start_time": "2023-04-28T11:24:48.219Z"
   },
   {
    "duration": 16,
    "start_time": "2023-04-28T11:24:48.246Z"
   },
   {
    "duration": 23,
    "start_time": "2023-04-28T11:24:48.264Z"
   },
   {
    "duration": 218,
    "start_time": "2023-04-28T11:24:52.449Z"
   },
   {
    "duration": 1053,
    "start_time": "2023-04-28T11:25:12.443Z"
   },
   {
    "duration": 79,
    "start_time": "2023-04-28T11:25:15.409Z"
   },
   {
    "duration": 8,
    "start_time": "2023-04-28T11:25:16.258Z"
   },
   {
    "duration": 11,
    "start_time": "2023-04-28T11:25:18.177Z"
   },
   {
    "duration": 9,
    "start_time": "2023-04-28T11:25:19.599Z"
   },
   {
    "duration": 19,
    "start_time": "2023-04-28T11:25:22.288Z"
   },
   {
    "duration": 296,
    "start_time": "2023-04-28T11:25:23.955Z"
   },
   {
    "duration": 17,
    "start_time": "2023-04-28T11:25:38.105Z"
   },
   {
    "duration": 199,
    "start_time": "2023-04-28T11:25:58.307Z"
   },
   {
    "duration": 9,
    "start_time": "2023-04-28T11:29:32.491Z"
   },
   {
    "duration": 8,
    "start_time": "2023-04-28T11:30:06.827Z"
   },
   {
    "duration": 10,
    "start_time": "2023-04-28T11:30:11.730Z"
   },
   {
    "duration": 193,
    "start_time": "2023-04-28T11:32:45.977Z"
   },
   {
    "duration": 217,
    "start_time": "2023-04-28T11:34:22.859Z"
   },
   {
    "duration": 245,
    "start_time": "2023-04-28T11:39:33.175Z"
   },
   {
    "duration": 194,
    "start_time": "2023-04-28T11:39:53.808Z"
   },
   {
    "duration": 651,
    "start_time": "2023-04-28T11:41:25.678Z"
   },
   {
    "duration": 78,
    "start_time": "2023-04-28T11:41:29.285Z"
   },
   {
    "duration": 566,
    "start_time": "2023-04-28T11:42:00.960Z"
   },
   {
    "duration": 265,
    "start_time": "2023-04-28T11:46:58.618Z"
   },
   {
    "duration": 593,
    "start_time": "2023-04-28T11:47:38.947Z"
   },
   {
    "duration": 79,
    "start_time": "2023-04-28T11:47:39.542Z"
   },
   {
    "duration": 7,
    "start_time": "2023-04-28T11:47:39.623Z"
   },
   {
    "duration": 23,
    "start_time": "2023-04-28T11:47:39.633Z"
   },
   {
    "duration": 35,
    "start_time": "2023-04-28T11:47:39.657Z"
   },
   {
    "duration": 22,
    "start_time": "2023-04-28T11:47:39.694Z"
   },
   {
    "duration": 23,
    "start_time": "2023-04-28T11:47:39.718Z"
   },
   {
    "duration": 13,
    "start_time": "2023-04-28T11:47:39.742Z"
   },
   {
    "duration": 24,
    "start_time": "2023-04-28T11:47:39.757Z"
   },
   {
    "duration": 48,
    "start_time": "2023-04-28T11:47:39.783Z"
   },
   {
    "duration": 23,
    "start_time": "2023-04-28T11:47:39.833Z"
   },
   {
    "duration": 619,
    "start_time": "2023-04-28T11:47:39.858Z"
   },
   {
    "duration": 213,
    "start_time": "2023-04-28T11:48:00.627Z"
   },
   {
    "duration": 3,
    "start_time": "2023-04-28T11:48:09.489Z"
   },
   {
    "duration": 78,
    "start_time": "2023-04-28T11:48:09.528Z"
   },
   {
    "duration": 5,
    "start_time": "2023-04-28T11:48:09.608Z"
   },
   {
    "duration": 10,
    "start_time": "2023-04-28T11:48:09.615Z"
   },
   {
    "duration": 11,
    "start_time": "2023-04-28T11:48:09.627Z"
   },
   {
    "duration": 31,
    "start_time": "2023-04-28T11:48:09.640Z"
   },
   {
    "duration": 16,
    "start_time": "2023-04-28T11:48:09.673Z"
   },
   {
    "duration": 8,
    "start_time": "2023-04-28T11:48:09.691Z"
   },
   {
    "duration": 18,
    "start_time": "2023-04-28T11:48:09.700Z"
   },
   {
    "duration": 10,
    "start_time": "2023-04-28T11:48:09.720Z"
   },
   {
    "duration": 16,
    "start_time": "2023-04-28T11:48:09.731Z"
   },
   {
    "duration": 469,
    "start_time": "2023-04-28T11:48:09.748Z"
   },
   {
    "duration": 280,
    "start_time": "2023-04-28T11:50:30.460Z"
   },
   {
    "duration": 3,
    "start_time": "2023-04-28T11:50:37.970Z"
   },
   {
    "duration": 77,
    "start_time": "2023-04-28T11:50:37.978Z"
   },
   {
    "duration": 6,
    "start_time": "2023-04-28T11:50:38.057Z"
   },
   {
    "duration": 12,
    "start_time": "2023-04-28T11:50:38.065Z"
   },
   {
    "duration": 11,
    "start_time": "2023-04-28T11:50:38.080Z"
   },
   {
    "duration": 18,
    "start_time": "2023-04-28T11:50:38.093Z"
   },
   {
    "duration": 13,
    "start_time": "2023-04-28T11:50:38.112Z"
   },
   {
    "duration": 31,
    "start_time": "2023-04-28T11:50:38.126Z"
   },
   {
    "duration": 5,
    "start_time": "2023-04-28T11:50:38.159Z"
   },
   {
    "duration": 10,
    "start_time": "2023-04-28T11:50:38.187Z"
   },
   {
    "duration": 12,
    "start_time": "2023-04-28T11:50:38.207Z"
   },
   {
    "duration": 484,
    "start_time": "2023-04-28T11:50:38.221Z"
   },
   {
    "duration": 191,
    "start_time": "2023-04-28T12:12:38.147Z"
   },
   {
    "duration": 190,
    "start_time": "2023-04-28T12:12:58.201Z"
   },
   {
    "duration": 302,
    "start_time": "2023-04-28T12:19:26.283Z"
   },
   {
    "duration": 284,
    "start_time": "2023-04-28T12:19:48.212Z"
   },
   {
    "duration": 287,
    "start_time": "2023-04-28T12:20:02.924Z"
   },
   {
    "duration": 325,
    "start_time": "2023-04-28T12:20:27.371Z"
   },
   {
    "duration": 243,
    "start_time": "2023-04-28T12:36:19.608Z"
   },
   {
    "duration": 220,
    "start_time": "2023-04-28T12:37:37.883Z"
   },
   {
    "duration": 213,
    "start_time": "2023-04-28T12:39:09.771Z"
   },
   {
    "duration": 289,
    "start_time": "2023-04-28T12:39:27.561Z"
   },
   {
    "duration": 212,
    "start_time": "2023-04-28T12:40:45.266Z"
   },
   {
    "duration": 228,
    "start_time": "2023-04-28T12:40:56.985Z"
   },
   {
    "duration": 207,
    "start_time": "2023-04-28T12:53:36.014Z"
   },
   {
    "duration": 9,
    "start_time": "2023-04-28T12:53:56.539Z"
   },
   {
    "duration": 81,
    "start_time": "2023-04-28T12:53:56.550Z"
   },
   {
    "duration": 7,
    "start_time": "2023-04-28T12:53:56.634Z"
   },
   {
    "duration": 31,
    "start_time": "2023-04-28T12:53:56.643Z"
   },
   {
    "duration": 13,
    "start_time": "2023-04-28T12:53:56.677Z"
   },
   {
    "duration": 30,
    "start_time": "2023-04-28T12:53:56.692Z"
   },
   {
    "duration": 19,
    "start_time": "2023-04-28T12:53:56.723Z"
   },
   {
    "duration": 5,
    "start_time": "2023-04-28T12:53:56.744Z"
   },
   {
    "duration": 6,
    "start_time": "2023-04-28T12:53:56.751Z"
   },
   {
    "duration": 12,
    "start_time": "2023-04-28T12:53:56.759Z"
   },
   {
    "duration": 26,
    "start_time": "2023-04-28T12:53:56.775Z"
   },
   {
    "duration": 539,
    "start_time": "2023-04-28T12:53:56.803Z"
   },
   {
    "duration": 234,
    "start_time": "2023-04-28T12:53:57.345Z"
   },
   {
    "duration": 333,
    "start_time": "2023-04-28T12:53:57.582Z"
   },
   {
    "duration": 256,
    "start_time": "2023-04-28T12:53:57.917Z"
   },
   {
    "duration": 4,
    "start_time": "2023-04-28T12:54:28.265Z"
   },
   {
    "duration": 80,
    "start_time": "2023-04-28T12:54:28.271Z"
   },
   {
    "duration": 7,
    "start_time": "2023-04-28T12:54:28.353Z"
   },
   {
    "duration": 15,
    "start_time": "2023-04-28T12:54:28.361Z"
   },
   {
    "duration": 9,
    "start_time": "2023-04-28T12:54:28.379Z"
   },
   {
    "duration": 25,
    "start_time": "2023-04-28T12:54:28.390Z"
   },
   {
    "duration": 13,
    "start_time": "2023-04-28T12:54:28.417Z"
   },
   {
    "duration": 3,
    "start_time": "2023-04-28T12:54:28.432Z"
   },
   {
    "duration": 8,
    "start_time": "2023-04-28T12:54:28.437Z"
   },
   {
    "duration": 14,
    "start_time": "2023-04-28T12:54:28.447Z"
   },
   {
    "duration": 14,
    "start_time": "2023-04-28T12:54:28.465Z"
   },
   {
    "duration": 520,
    "start_time": "2023-04-28T12:54:28.493Z"
   },
   {
    "duration": 180,
    "start_time": "2023-04-28T12:54:29.015Z"
   },
   {
    "duration": 442,
    "start_time": "2023-04-28T12:54:29.198Z"
   },
   {
    "duration": 193,
    "start_time": "2023-04-28T12:54:29.642Z"
   },
   {
    "duration": 4,
    "start_time": "2023-04-28T12:55:07.335Z"
   },
   {
    "duration": 84,
    "start_time": "2023-04-28T12:55:07.341Z"
   },
   {
    "duration": 8,
    "start_time": "2023-04-28T12:55:07.428Z"
   },
   {
    "duration": 13,
    "start_time": "2023-04-28T12:55:07.438Z"
   },
   {
    "duration": 10,
    "start_time": "2023-04-28T12:55:07.454Z"
   },
   {
    "duration": 52,
    "start_time": "2023-04-28T12:55:07.465Z"
   },
   {
    "duration": 16,
    "start_time": "2023-04-28T12:55:07.519Z"
   },
   {
    "duration": 4,
    "start_time": "2023-04-28T12:55:07.537Z"
   },
   {
    "duration": 4,
    "start_time": "2023-04-28T12:55:07.543Z"
   },
   {
    "duration": 15,
    "start_time": "2023-04-28T12:55:07.548Z"
   },
   {
    "duration": 24,
    "start_time": "2023-04-28T12:55:07.566Z"
   },
   {
    "duration": 517,
    "start_time": "2023-04-28T12:55:07.593Z"
   },
   {
    "duration": 224,
    "start_time": "2023-04-28T12:55:08.112Z"
   },
   {
    "duration": 272,
    "start_time": "2023-04-28T12:55:08.338Z"
   },
   {
    "duration": 174,
    "start_time": "2023-04-28T12:55:14.918Z"
   },
   {
    "duration": 3,
    "start_time": "2023-04-28T12:55:40.673Z"
   },
   {
    "duration": 93,
    "start_time": "2023-04-28T12:55:40.679Z"
   },
   {
    "duration": 6,
    "start_time": "2023-04-28T12:55:40.774Z"
   },
   {
    "duration": 18,
    "start_time": "2023-04-28T12:55:40.782Z"
   },
   {
    "duration": 22,
    "start_time": "2023-04-28T12:55:40.802Z"
   },
   {
    "duration": 31,
    "start_time": "2023-04-28T12:55:40.826Z"
   },
   {
    "duration": 26,
    "start_time": "2023-04-28T12:55:40.859Z"
   },
   {
    "duration": 28,
    "start_time": "2023-04-28T12:55:40.887Z"
   },
   {
    "duration": 20,
    "start_time": "2023-04-28T12:55:40.916Z"
   },
   {
    "duration": 26,
    "start_time": "2023-04-28T12:55:40.938Z"
   },
   {
    "duration": 20,
    "start_time": "2023-04-28T12:55:40.966Z"
   },
   {
    "duration": 507,
    "start_time": "2023-04-28T12:55:40.988Z"
   },
   {
    "duration": 198,
    "start_time": "2023-04-28T12:55:41.497Z"
   },
   {
    "duration": 332,
    "start_time": "2023-04-28T12:55:41.697Z"
   },
   {
    "duration": 238,
    "start_time": "2023-04-28T12:55:42.032Z"
   },
   {
    "duration": 187,
    "start_time": "2023-04-28T12:56:46.883Z"
   },
   {
    "duration": 207,
    "start_time": "2023-04-28T12:57:09.879Z"
   },
   {
    "duration": 319,
    "start_time": "2023-04-28T12:57:17.542Z"
   },
   {
    "duration": 306,
    "start_time": "2023-04-28T13:04:28.115Z"
   },
   {
    "duration": 328,
    "start_time": "2023-04-28T13:04:41.113Z"
   },
   {
    "duration": 338,
    "start_time": "2023-04-28T13:04:53.265Z"
   },
   {
    "duration": 336,
    "start_time": "2023-04-28T13:06:44.840Z"
   },
   {
    "duration": 384,
    "start_time": "2023-04-28T13:06:53.428Z"
   },
   {
    "duration": 327,
    "start_time": "2023-04-28T13:07:25.228Z"
   },
   {
    "duration": 342,
    "start_time": "2023-04-28T13:07:38.242Z"
   },
   {
    "duration": 355,
    "start_time": "2023-04-28T13:07:45.986Z"
   },
   {
    "duration": 330,
    "start_time": "2023-04-28T13:07:52.279Z"
   },
   {
    "duration": 455,
    "start_time": "2023-04-28T13:08:01.086Z"
   },
   {
    "duration": 360,
    "start_time": "2023-04-28T13:08:08.057Z"
   },
   {
    "duration": 299,
    "start_time": "2023-04-28T13:08:22.331Z"
   },
   {
    "duration": 322,
    "start_time": "2023-04-28T13:08:28.285Z"
   },
   {
    "duration": 457,
    "start_time": "2023-04-28T13:08:33.028Z"
   },
   {
    "duration": 374,
    "start_time": "2023-04-28T13:08:39.245Z"
   },
   {
    "duration": 362,
    "start_time": "2023-04-28T13:08:44.454Z"
   },
   {
    "duration": 297,
    "start_time": "2023-04-28T13:08:50.707Z"
   },
   {
    "duration": 321,
    "start_time": "2023-04-28T13:08:54.485Z"
   },
   {
    "duration": 282,
    "start_time": "2023-04-28T13:10:31.332Z"
   },
   {
    "duration": 268,
    "start_time": "2023-04-28T13:10:39.630Z"
   },
   {
    "duration": 321,
    "start_time": "2023-04-28T13:10:54.964Z"
   },
   {
    "duration": 146,
    "start_time": "2023-04-28T13:17:13.028Z"
   },
   {
    "duration": 15,
    "start_time": "2023-04-28T13:19:05.279Z"
   },
   {
    "duration": 10,
    "start_time": "2023-04-28T13:20:29.447Z"
   },
   {
    "duration": 174,
    "start_time": "2023-04-28T13:21:10.921Z"
   },
   {
    "duration": 123,
    "start_time": "2023-04-28T13:23:04.380Z"
   },
   {
    "duration": 4,
    "start_time": "2023-04-28T13:25:17.656Z"
   },
   {
    "duration": 10,
    "start_time": "2023-04-28T13:32:26.287Z"
   },
   {
    "duration": 140,
    "start_time": "2023-04-28T13:32:36.223Z"
   },
   {
    "duration": 133,
    "start_time": "2023-04-28T13:38:36.322Z"
   },
   {
    "duration": 5,
    "start_time": "2023-04-28T13:40:18.788Z"
   },
   {
    "duration": 192,
    "start_time": "2023-04-28T13:46:21.820Z"
   },
   {
    "duration": 234,
    "start_time": "2023-04-28T13:53:08.062Z"
   },
   {
    "duration": 503,
    "start_time": "2023-04-28T13:55:59.215Z"
   },
   {
    "duration": 383,
    "start_time": "2023-04-28T13:56:09.528Z"
   },
   {
    "duration": 493,
    "start_time": "2023-04-28T13:56:16.734Z"
   },
   {
    "duration": 1437,
    "start_time": "2023-04-28T19:06:51.575Z"
   },
   {
    "duration": 205,
    "start_time": "2023-04-28T19:06:53.014Z"
   },
   {
    "duration": 10,
    "start_time": "2023-04-28T19:06:53.221Z"
   },
   {
    "duration": 17,
    "start_time": "2023-04-28T19:06:53.234Z"
   },
   {
    "duration": 29,
    "start_time": "2023-04-28T19:06:53.252Z"
   },
   {
    "duration": 32,
    "start_time": "2023-04-28T19:06:53.283Z"
   },
   {
    "duration": 16,
    "start_time": "2023-04-28T19:06:53.317Z"
   },
   {
    "duration": 7,
    "start_time": "2023-04-28T19:06:53.335Z"
   },
   {
    "duration": 14,
    "start_time": "2023-04-28T19:06:53.343Z"
   },
   {
    "duration": 28,
    "start_time": "2023-04-28T19:06:53.359Z"
   },
   {
    "duration": 23,
    "start_time": "2023-04-28T19:06:53.389Z"
   },
   {
    "duration": 624,
    "start_time": "2023-04-28T19:06:53.414Z"
   },
   {
    "duration": 212,
    "start_time": "2023-04-28T19:06:54.040Z"
   },
   {
    "duration": 359,
    "start_time": "2023-04-28T19:06:54.254Z"
   },
   {
    "duration": 232,
    "start_time": "2023-04-28T19:06:54.615Z"
   },
   {
    "duration": 363,
    "start_time": "2023-04-28T19:06:54.849Z"
   },
   {
    "duration": 125,
    "start_time": "2023-04-28T19:06:55.221Z"
   },
   {
    "duration": 141,
    "start_time": "2023-04-28T19:06:55.348Z"
   },
   {
    "duration": 9,
    "start_time": "2023-04-28T19:06:55.493Z"
   },
   {
    "duration": 203,
    "start_time": "2023-04-28T19:06:55.507Z"
   },
   {
    "duration": 158,
    "start_time": "2023-04-28T19:06:55.713Z"
   },
   {
    "duration": 21,
    "start_time": "2023-04-28T19:06:55.872Z"
   },
   {
    "duration": 716,
    "start_time": "2023-04-28T19:06:55.895Z"
   },
   {
    "duration": 14,
    "start_time": "2023-04-28T19:08:02.132Z"
   },
   {
    "duration": 10,
    "start_time": "2023-04-28T19:17:41.378Z"
   },
   {
    "duration": 37,
    "start_time": "2023-04-28T19:22:04.072Z"
   },
   {
    "duration": 10,
    "start_time": "2023-04-28T19:26:46.621Z"
   },
   {
    "duration": 4,
    "start_time": "2023-04-28T19:26:53.842Z"
   },
   {
    "duration": 109,
    "start_time": "2023-04-28T19:26:53.848Z"
   },
   {
    "duration": 7,
    "start_time": "2023-04-28T19:26:53.959Z"
   },
   {
    "duration": 46,
    "start_time": "2023-04-28T19:26:53.968Z"
   },
   {
    "duration": 25,
    "start_time": "2023-04-28T19:26:54.016Z"
   },
   {
    "duration": 33,
    "start_time": "2023-04-28T19:26:54.042Z"
   },
   {
    "duration": 26,
    "start_time": "2023-04-28T19:26:54.076Z"
   },
   {
    "duration": 20,
    "start_time": "2023-04-28T19:26:54.105Z"
   },
   {
    "duration": 8,
    "start_time": "2023-04-28T19:26:54.126Z"
   },
   {
    "duration": 24,
    "start_time": "2023-04-28T19:26:54.137Z"
   },
   {
    "duration": 43,
    "start_time": "2023-04-28T19:26:54.163Z"
   },
   {
    "duration": 590,
    "start_time": "2023-04-28T19:26:54.208Z"
   },
   {
    "duration": 215,
    "start_time": "2023-04-28T19:26:54.802Z"
   },
   {
    "duration": 296,
    "start_time": "2023-04-28T19:26:55.019Z"
   },
   {
    "duration": 225,
    "start_time": "2023-04-28T19:26:55.317Z"
   },
   {
    "duration": 349,
    "start_time": "2023-04-28T19:26:55.544Z"
   },
   {
    "duration": 144,
    "start_time": "2023-04-28T19:26:55.897Z"
   },
   {
    "duration": 136,
    "start_time": "2023-04-28T19:26:56.043Z"
   },
   {
    "duration": 21,
    "start_time": "2023-04-28T19:26:56.182Z"
   },
   {
    "duration": 148,
    "start_time": "2023-04-28T19:26:56.207Z"
   },
   {
    "duration": 169,
    "start_time": "2023-04-28T19:26:56.357Z"
   },
   {
    "duration": 5,
    "start_time": "2023-04-28T19:26:56.528Z"
   },
   {
    "duration": 580,
    "start_time": "2023-04-28T19:26:56.535Z"
   },
   {
    "duration": 11,
    "start_time": "2023-04-28T19:26:57.118Z"
   },
   {
    "duration": 17,
    "start_time": "2023-04-28T19:27:06.983Z"
   },
   {
    "duration": 10,
    "start_time": "2023-04-28T19:28:06.944Z"
   },
   {
    "duration": 39,
    "start_time": "2023-04-28T19:29:59.910Z"
   },
   {
    "duration": 17,
    "start_time": "2023-04-28T19:33:31.302Z"
   },
   {
    "duration": 24,
    "start_time": "2023-04-28T20:07:46.087Z"
   },
   {
    "duration": 8,
    "start_time": "2023-04-28T20:07:51.569Z"
   },
   {
    "duration": 3,
    "start_time": "2023-04-28T20:08:09.146Z"
   },
   {
    "duration": 116,
    "start_time": "2023-04-28T20:08:09.152Z"
   },
   {
    "duration": 6,
    "start_time": "2023-04-28T20:08:09.270Z"
   },
   {
    "duration": 15,
    "start_time": "2023-04-28T20:08:09.277Z"
   },
   {
    "duration": 31,
    "start_time": "2023-04-28T20:08:09.298Z"
   },
   {
    "duration": 21,
    "start_time": "2023-04-28T20:08:09.331Z"
   },
   {
    "duration": 9,
    "start_time": "2023-04-28T20:08:09.354Z"
   },
   {
    "duration": 9,
    "start_time": "2023-04-28T20:08:09.365Z"
   },
   {
    "duration": 27,
    "start_time": "2023-04-28T20:08:09.375Z"
   },
   {
    "duration": 9,
    "start_time": "2023-04-28T20:08:11.641Z"
   },
   {
    "duration": 12,
    "start_time": "2023-04-28T20:08:32.565Z"
   },
   {
    "duration": 9,
    "start_time": "2023-04-28T20:09:12.763Z"
   },
   {
    "duration": 10,
    "start_time": "2023-04-28T20:16:28.614Z"
   },
   {
    "duration": 144,
    "start_time": "2023-04-28T20:16:28.626Z"
   },
   {
    "duration": 8,
    "start_time": "2023-04-28T20:16:28.772Z"
   },
   {
    "duration": 20,
    "start_time": "2023-04-28T20:16:28.782Z"
   },
   {
    "duration": 58,
    "start_time": "2023-04-28T20:16:28.804Z"
   },
   {
    "duration": 57,
    "start_time": "2023-04-28T20:16:28.864Z"
   },
   {
    "duration": 26,
    "start_time": "2023-04-28T20:16:28.924Z"
   },
   {
    "duration": 12,
    "start_time": "2023-04-28T20:16:30.862Z"
   },
   {
    "duration": 13,
    "start_time": "2023-04-28T20:16:46.947Z"
   },
   {
    "duration": 16,
    "start_time": "2023-04-28T20:16:47.682Z"
   },
   {
    "duration": 10,
    "start_time": "2023-04-28T20:16:48.771Z"
   },
   {
    "duration": 12,
    "start_time": "2023-04-28T20:16:51.837Z"
   },
   {
    "duration": 737,
    "start_time": "2023-04-28T20:20:11.832Z"
   },
   {
    "duration": 493,
    "start_time": "2023-04-28T20:20:37.470Z"
   },
   {
    "duration": 4,
    "start_time": "2023-04-28T20:20:47.180Z"
   },
   {
    "duration": 103,
    "start_time": "2023-04-28T20:20:47.185Z"
   },
   {
    "duration": 22,
    "start_time": "2023-04-28T20:20:47.289Z"
   },
   {
    "duration": 23,
    "start_time": "2023-04-28T20:20:47.316Z"
   },
   {
    "duration": 19,
    "start_time": "2023-04-28T20:20:47.341Z"
   },
   {
    "duration": 20,
    "start_time": "2023-04-28T20:20:47.362Z"
   },
   {
    "duration": 27,
    "start_time": "2023-04-28T20:20:47.383Z"
   },
   {
    "duration": 20,
    "start_time": "2023-04-28T20:20:47.414Z"
   },
   {
    "duration": 17,
    "start_time": "2023-04-28T20:20:47.441Z"
   },
   {
    "duration": 10,
    "start_time": "2023-04-28T20:20:47.459Z"
   },
   {
    "duration": 9,
    "start_time": "2023-04-28T20:20:47.471Z"
   },
   {
    "duration": 38,
    "start_time": "2023-04-28T20:20:47.482Z"
   },
   {
    "duration": 1079,
    "start_time": "2023-04-28T20:20:51.288Z"
   },
   {
    "duration": 400,
    "start_time": "2023-04-28T20:21:05.868Z"
   },
   {
    "duration": 7,
    "start_time": "2023-04-28T20:21:10.608Z"
   },
   {
    "duration": 117,
    "start_time": "2023-04-28T20:21:10.618Z"
   },
   {
    "duration": 17,
    "start_time": "2023-04-28T20:21:10.737Z"
   },
   {
    "duration": 14,
    "start_time": "2023-04-28T20:21:10.757Z"
   },
   {
    "duration": 21,
    "start_time": "2023-04-28T20:21:10.774Z"
   },
   {
    "duration": 49,
    "start_time": "2023-04-28T20:21:10.803Z"
   },
   {
    "duration": 12,
    "start_time": "2023-04-28T20:21:10.859Z"
   },
   {
    "duration": 42,
    "start_time": "2023-04-28T20:21:10.874Z"
   },
   {
    "duration": 14,
    "start_time": "2023-04-28T20:21:10.918Z"
   },
   {
    "duration": 14,
    "start_time": "2023-04-28T20:21:10.934Z"
   },
   {
    "duration": 11,
    "start_time": "2023-04-28T20:21:10.950Z"
   },
   {
    "duration": 19,
    "start_time": "2023-04-28T20:21:10.963Z"
   },
   {
    "duration": 633,
    "start_time": "2023-04-28T20:21:10.984Z"
   },
   {
    "duration": 257,
    "start_time": "2023-04-28T20:21:56.321Z"
   },
   {
    "duration": 439,
    "start_time": "2023-04-28T20:22:17.780Z"
   },
   {
    "duration": 360,
    "start_time": "2023-04-28T20:22:30.368Z"
   },
   {
    "duration": 398,
    "start_time": "2023-04-28T20:22:38.850Z"
   },
   {
    "duration": 1252,
    "start_time": "2023-04-28T20:23:15.563Z"
   },
   {
    "duration": 99,
    "start_time": "2023-04-28T20:23:17.663Z"
   },
   {
    "duration": 19,
    "start_time": "2023-04-28T20:23:19.019Z"
   },
   {
    "duration": 11,
    "start_time": "2023-04-28T20:23:24.046Z"
   },
   {
    "duration": 16,
    "start_time": "2023-04-28T20:23:28.383Z"
   },
   {
    "duration": 31,
    "start_time": "2023-04-28T20:23:33.682Z"
   },
   {
    "duration": 18,
    "start_time": "2023-04-28T20:23:38.726Z"
   },
   {
    "duration": 132,
    "start_time": "2023-04-28T20:23:50.933Z"
   },
   {
    "duration": 13,
    "start_time": "2023-04-28T20:23:58.062Z"
   },
   {
    "duration": 5,
    "start_time": "2023-04-28T20:24:12.977Z"
   },
   {
    "duration": 31,
    "start_time": "2023-04-28T20:24:22.713Z"
   },
   {
    "duration": 18,
    "start_time": "2023-04-28T20:24:31.365Z"
   },
   {
    "duration": 10,
    "start_time": "2023-04-28T20:27:44.510Z"
   },
   {
    "duration": 18,
    "start_time": "2023-04-28T20:28:20.217Z"
   },
   {
    "duration": 10,
    "start_time": "2023-04-28T20:28:27.036Z"
   },
   {
    "duration": 117,
    "start_time": "2023-04-28T20:28:27.048Z"
   },
   {
    "duration": 9,
    "start_time": "2023-04-28T20:28:27.167Z"
   },
   {
    "duration": 9,
    "start_time": "2023-04-28T20:28:27.179Z"
   },
   {
    "duration": 19,
    "start_time": "2023-04-28T20:28:27.201Z"
   },
   {
    "duration": 39,
    "start_time": "2023-04-28T20:28:27.221Z"
   },
   {
    "duration": 9,
    "start_time": "2023-04-28T20:28:27.264Z"
   },
   {
    "duration": 11,
    "start_time": "2023-04-28T20:28:27.276Z"
   },
   {
    "duration": 25,
    "start_time": "2023-04-28T20:28:27.293Z"
   },
   {
    "duration": 5,
    "start_time": "2023-04-28T20:28:55.566Z"
   },
   {
    "duration": 153,
    "start_time": "2023-04-28T20:28:55.574Z"
   },
   {
    "duration": 15,
    "start_time": "2023-04-28T20:28:55.729Z"
   },
   {
    "duration": 15,
    "start_time": "2023-04-28T20:28:55.746Z"
   },
   {
    "duration": 15,
    "start_time": "2023-04-28T20:28:55.763Z"
   },
   {
    "duration": 79,
    "start_time": "2023-04-28T20:28:55.781Z"
   },
   {
    "duration": 10,
    "start_time": "2023-04-28T20:28:55.863Z"
   },
   {
    "duration": 30,
    "start_time": "2023-04-28T20:28:55.875Z"
   },
   {
    "duration": 41,
    "start_time": "2023-04-28T20:29:00.817Z"
   },
   {
    "duration": 8,
    "start_time": "2023-04-28T20:29:02.362Z"
   },
   {
    "duration": 4,
    "start_time": "2023-04-28T20:29:28.171Z"
   },
   {
    "duration": 142,
    "start_time": "2023-04-28T20:29:28.178Z"
   },
   {
    "duration": 27,
    "start_time": "2023-04-28T20:29:28.329Z"
   },
   {
    "duration": 11,
    "start_time": "2023-04-28T20:29:28.359Z"
   },
   {
    "duration": 18,
    "start_time": "2023-04-28T20:29:28.372Z"
   },
   {
    "duration": 45,
    "start_time": "2023-04-28T20:29:28.393Z"
   },
   {
    "duration": 20,
    "start_time": "2023-04-28T20:29:28.444Z"
   },
   {
    "duration": 16,
    "start_time": "2023-04-28T20:29:28.467Z"
   },
   {
    "duration": 19,
    "start_time": "2023-04-28T20:29:30.910Z"
   },
   {
    "duration": 18,
    "start_time": "2023-04-28T20:29:32.441Z"
   },
   {
    "duration": 12,
    "start_time": "2023-04-28T20:29:50.017Z"
   },
   {
    "duration": 7,
    "start_time": "2023-04-28T20:30:00.641Z"
   },
   {
    "duration": 16,
    "start_time": "2023-04-28T20:30:04.624Z"
   },
   {
    "duration": 7,
    "start_time": "2023-04-28T20:38:02.274Z"
   },
   {
    "duration": 92,
    "start_time": "2023-04-28T20:38:15.726Z"
   },
   {
    "duration": 7,
    "start_time": "2023-04-28T20:38:26.833Z"
   },
   {
    "duration": 129,
    "start_time": "2023-04-28T20:38:26.842Z"
   },
   {
    "duration": 8,
    "start_time": "2023-04-28T20:38:26.973Z"
   },
   {
    "duration": 21,
    "start_time": "2023-04-28T20:38:26.982Z"
   },
   {
    "duration": 23,
    "start_time": "2023-04-28T20:38:27.005Z"
   },
   {
    "duration": 30,
    "start_time": "2023-04-28T20:38:27.034Z"
   },
   {
    "duration": 12,
    "start_time": "2023-04-28T20:38:27.066Z"
   },
   {
    "duration": 23,
    "start_time": "2023-04-28T20:38:27.080Z"
   },
   {
    "duration": 7,
    "start_time": "2023-04-28T20:38:27.105Z"
   },
   {
    "duration": 4,
    "start_time": "2023-04-28T20:38:29.455Z"
   },
   {
    "duration": 103,
    "start_time": "2023-04-28T20:38:30.467Z"
   },
   {
    "duration": 80,
    "start_time": "2023-04-28T20:38:43.323Z"
   },
   {
    "duration": 6,
    "start_time": "2023-04-28T20:40:22.362Z"
   },
   {
    "duration": 7,
    "start_time": "2023-04-28T20:40:54.641Z"
   },
   {
    "duration": 7,
    "start_time": "2023-04-28T20:41:09.237Z"
   },
   {
    "duration": 6,
    "start_time": "2023-04-28T20:41:28.757Z"
   },
   {
    "duration": 7,
    "start_time": "2023-04-28T20:41:46.442Z"
   },
   {
    "duration": 17,
    "start_time": "2023-04-28T20:42:06.030Z"
   },
   {
    "duration": 12,
    "start_time": "2023-04-28T20:42:28.086Z"
   },
   {
    "duration": 114,
    "start_time": "2023-04-28T20:42:28.100Z"
   },
   {
    "duration": 18,
    "start_time": "2023-04-28T20:42:28.220Z"
   },
   {
    "duration": 9,
    "start_time": "2023-04-28T20:42:28.244Z"
   },
   {
    "duration": 12,
    "start_time": "2023-04-28T20:42:28.255Z"
   },
   {
    "duration": 30,
    "start_time": "2023-04-28T20:42:28.269Z"
   },
   {
    "duration": 16,
    "start_time": "2023-04-28T20:42:28.304Z"
   },
   {
    "duration": 12,
    "start_time": "2023-04-28T20:42:30.855Z"
   },
   {
    "duration": 28,
    "start_time": "2023-04-28T20:42:31.941Z"
   },
   {
    "duration": 998,
    "start_time": "2023-04-28T20:44:45.475Z"
   },
   {
    "duration": 1306,
    "start_time": "2023-04-28T20:45:11.557Z"
   },
   {
    "duration": 13,
    "start_time": "2023-04-28T20:47:11.439Z"
   },
   {
    "duration": 864,
    "start_time": "2023-04-28T20:47:47.019Z"
   },
   {
    "duration": 6,
    "start_time": "2023-04-28T20:51:11.917Z"
   },
   {
    "duration": 7,
    "start_time": "2023-04-28T20:52:07.156Z"
   },
   {
    "duration": 5,
    "start_time": "2023-04-28T20:53:17.925Z"
   },
   {
    "duration": 4,
    "start_time": "2023-04-28T20:53:37.737Z"
   },
   {
    "duration": 85,
    "start_time": "2023-04-28T20:53:37.744Z"
   },
   {
    "duration": 8,
    "start_time": "2023-04-28T20:53:37.832Z"
   },
   {
    "duration": 11,
    "start_time": "2023-04-28T20:53:37.843Z"
   },
   {
    "duration": 13,
    "start_time": "2023-04-28T20:53:37.857Z"
   },
   {
    "duration": 35,
    "start_time": "2023-04-28T20:53:37.873Z"
   },
   {
    "duration": 11,
    "start_time": "2023-04-28T20:53:37.917Z"
   },
   {
    "duration": 13,
    "start_time": "2023-04-28T20:53:37.930Z"
   },
   {
    "duration": 7,
    "start_time": "2023-04-28T20:53:37.951Z"
   },
   {
    "duration": 6,
    "start_time": "2023-04-28T20:53:37.961Z"
   },
   {
    "duration": 5,
    "start_time": "2023-04-28T20:53:41.013Z"
   },
   {
    "duration": 8,
    "start_time": "2023-04-28T20:53:45.878Z"
   },
   {
    "duration": 10,
    "start_time": "2023-04-28T20:53:52.415Z"
   },
   {
    "duration": 12,
    "start_time": "2023-04-28T20:53:58.834Z"
   },
   {
    "duration": 11,
    "start_time": "2023-04-28T20:54:12.022Z"
   },
   {
    "duration": 11,
    "start_time": "2023-04-28T20:57:03.657Z"
   },
   {
    "duration": 11,
    "start_time": "2023-04-28T21:04:54.740Z"
   },
   {
    "duration": 9,
    "start_time": "2023-04-28T21:05:24.441Z"
   },
   {
    "duration": 11,
    "start_time": "2023-04-28T21:05:33.428Z"
   },
   {
    "duration": 19,
    "start_time": "2023-04-28T21:07:53.436Z"
   },
   {
    "duration": 5,
    "start_time": "2023-04-28T21:08:22.109Z"
   },
   {
    "duration": 17,
    "start_time": "2023-04-28T21:08:31.128Z"
   },
   {
    "duration": 19,
    "start_time": "2023-04-28T21:09:41.910Z"
   },
   {
    "duration": 11,
    "start_time": "2023-04-28T21:10:20.536Z"
   },
   {
    "duration": 16,
    "start_time": "2023-04-28T21:11:01.245Z"
   },
   {
    "duration": 25,
    "start_time": "2023-04-28T21:11:09.724Z"
   },
   {
    "duration": 32,
    "start_time": "2023-04-28T21:13:48.820Z"
   },
   {
    "duration": 1183,
    "start_time": "2023-04-28T21:18:51.823Z"
   },
   {
    "duration": 86,
    "start_time": "2023-04-28T21:18:53.011Z"
   },
   {
    "duration": 12,
    "start_time": "2023-04-28T21:18:53.099Z"
   },
   {
    "duration": 13,
    "start_time": "2023-04-28T21:18:53.112Z"
   },
   {
    "duration": 9,
    "start_time": "2023-04-28T21:18:53.128Z"
   },
   {
    "duration": 24,
    "start_time": "2023-04-28T21:18:53.138Z"
   },
   {
    "duration": 12,
    "start_time": "2023-04-28T21:18:53.163Z"
   },
   {
    "duration": 24,
    "start_time": "2023-04-28T21:18:53.176Z"
   },
   {
    "duration": 9,
    "start_time": "2023-04-28T21:18:53.208Z"
   },
   {
    "duration": 7,
    "start_time": "2023-04-28T21:18:53.219Z"
   },
   {
    "duration": 20,
    "start_time": "2023-04-28T21:18:53.228Z"
   },
   {
    "duration": 25,
    "start_time": "2023-04-28T21:18:53.250Z"
   },
   {
    "duration": 8,
    "start_time": "2023-04-28T21:18:53.277Z"
   },
   {
    "duration": 34,
    "start_time": "2023-04-28T21:18:53.288Z"
   },
   {
    "duration": 13,
    "start_time": "2023-04-28T21:18:53.324Z"
   },
   {
    "duration": 31,
    "start_time": "2023-04-28T21:18:53.339Z"
   },
   {
    "duration": 655,
    "start_time": "2023-04-28T21:18:53.372Z"
   },
   {
    "duration": 252,
    "start_time": "2023-04-28T21:18:54.029Z"
   },
   {
    "duration": 339,
    "start_time": "2023-04-28T21:18:54.283Z"
   },
   {
    "duration": 251,
    "start_time": "2023-04-28T21:18:54.624Z"
   },
   {
    "duration": 354,
    "start_time": "2023-04-28T21:18:54.877Z"
   },
   {
    "duration": 184,
    "start_time": "2023-04-28T21:18:55.233Z"
   },
   {
    "duration": 154,
    "start_time": "2023-04-28T21:18:55.419Z"
   },
   {
    "duration": 5,
    "start_time": "2023-04-28T21:18:55.575Z"
   },
   {
    "duration": 150,
    "start_time": "2023-04-28T21:18:55.592Z"
   },
   {
    "duration": 158,
    "start_time": "2023-04-28T21:18:55.744Z"
   },
   {
    "duration": 9,
    "start_time": "2023-04-28T21:18:55.909Z"
   },
   {
    "duration": 623,
    "start_time": "2023-04-28T21:18:55.929Z"
   },
   {
    "duration": 12,
    "start_time": "2023-04-28T21:18:56.554Z"
   },
   {
    "duration": 37,
    "start_time": "2023-04-28T21:18:56.568Z"
   },
   {
    "duration": 36,
    "start_time": "2023-04-28T21:18:56.607Z"
   },
   {
    "duration": 16,
    "start_time": "2023-04-28T21:18:56.644Z"
   },
   {
    "duration": 1214,
    "start_time": "2023-04-28T21:25:42.316Z"
   },
   {
    "duration": 91,
    "start_time": "2023-04-28T21:25:43.532Z"
   },
   {
    "duration": 10,
    "start_time": "2023-04-28T21:25:43.626Z"
   },
   {
    "duration": 17,
    "start_time": "2023-04-28T21:25:43.638Z"
   },
   {
    "duration": 12,
    "start_time": "2023-04-28T21:25:43.659Z"
   },
   {
    "duration": 40,
    "start_time": "2023-04-28T21:25:43.674Z"
   },
   {
    "duration": 18,
    "start_time": "2023-04-28T21:25:43.716Z"
   },
   {
    "duration": 14,
    "start_time": "2023-04-28T21:25:43.735Z"
   },
   {
    "duration": 18,
    "start_time": "2023-04-28T21:25:43.751Z"
   },
   {
    "duration": 685,
    "start_time": "2023-04-28T21:25:43.771Z"
   },
   {
    "duration": 263,
    "start_time": "2023-04-28T21:25:44.458Z"
   },
   {
    "duration": 322,
    "start_time": "2023-04-28T21:25:44.723Z"
   },
   {
    "duration": 266,
    "start_time": "2023-04-28T21:25:45.047Z"
   },
   {
    "duration": 325,
    "start_time": "2023-04-28T21:25:45.317Z"
   },
   {
    "duration": 142,
    "start_time": "2023-04-28T21:25:45.643Z"
   },
   {
    "duration": 155,
    "start_time": "2023-04-28T21:25:45.793Z"
   },
   {
    "duration": 6,
    "start_time": "2023-04-28T21:25:45.950Z"
   },
   {
    "duration": 180,
    "start_time": "2023-04-28T21:25:45.958Z"
   },
   {
    "duration": 166,
    "start_time": "2023-04-28T21:25:46.140Z"
   },
   {
    "duration": 5,
    "start_time": "2023-04-28T21:25:46.308Z"
   },
   {
    "duration": 667,
    "start_time": "2023-04-28T21:25:46.316Z"
   },
   {
    "duration": 20,
    "start_time": "2023-04-28T21:25:46.985Z"
   },
   {
    "duration": 11,
    "start_time": "2023-04-28T21:25:47.009Z"
   },
   {
    "duration": 38,
    "start_time": "2023-04-28T21:25:47.022Z"
   },
   {
    "duration": 37,
    "start_time": "2023-04-28T21:25:47.062Z"
   },
   {
    "duration": 1300,
    "start_time": "2023-04-29T03:54:20.459Z"
   },
   {
    "duration": 212,
    "start_time": "2023-04-29T03:54:21.761Z"
   },
   {
    "duration": 11,
    "start_time": "2023-04-29T03:54:21.975Z"
   },
   {
    "duration": 13,
    "start_time": "2023-04-29T03:54:21.988Z"
   },
   {
    "duration": 11,
    "start_time": "2023-04-29T03:54:22.004Z"
   },
   {
    "duration": 53,
    "start_time": "2023-04-29T03:54:22.018Z"
   },
   {
    "duration": 11,
    "start_time": "2023-04-29T03:54:22.074Z"
   },
   {
    "duration": 37,
    "start_time": "2023-04-29T03:54:22.087Z"
   },
   {
    "duration": 20,
    "start_time": "2023-04-29T03:54:22.126Z"
   },
   {
    "duration": 672,
    "start_time": "2023-04-29T03:54:22.152Z"
   },
   {
    "duration": 263,
    "start_time": "2023-04-29T03:54:22.826Z"
   },
   {
    "duration": 337,
    "start_time": "2023-04-29T03:54:23.092Z"
   },
   {
    "duration": 281,
    "start_time": "2023-04-29T03:54:23.431Z"
   },
   {
    "duration": 365,
    "start_time": "2023-04-29T03:54:23.716Z"
   },
   {
    "duration": 149,
    "start_time": "2023-04-29T03:54:24.083Z"
   },
   {
    "duration": 154,
    "start_time": "2023-04-29T03:54:24.234Z"
   },
   {
    "duration": 6,
    "start_time": "2023-04-29T03:54:24.391Z"
   },
   {
    "duration": 181,
    "start_time": "2023-04-29T03:54:24.399Z"
   },
   {
    "duration": 170,
    "start_time": "2023-04-29T03:54:24.583Z"
   },
   {
    "duration": 5,
    "start_time": "2023-04-29T03:54:24.760Z"
   },
   {
    "duration": 704,
    "start_time": "2023-04-29T03:54:24.767Z"
   },
   {
    "duration": 13,
    "start_time": "2023-04-29T03:54:25.474Z"
   },
   {
    "duration": 20,
    "start_time": "2023-04-29T03:54:25.489Z"
   },
   {
    "duration": 57,
    "start_time": "2023-04-29T03:54:25.511Z"
   },
   {
    "duration": 15,
    "start_time": "2023-04-29T03:54:25.570Z"
   },
   {
    "duration": 13,
    "start_time": "2023-04-29T03:56:18.021Z"
   },
   {
    "duration": 9,
    "start_time": "2023-04-29T03:56:22.286Z"
   },
   {
    "duration": 1284,
    "start_time": "2023-04-29T05:45:45.627Z"
   },
   {
    "duration": 187,
    "start_time": "2023-04-29T05:45:49.642Z"
   },
   {
    "duration": 19,
    "start_time": "2023-04-29T05:46:08.730Z"
   },
   {
    "duration": 13,
    "start_time": "2023-04-29T05:46:27.931Z"
   },
   {
    "duration": 17,
    "start_time": "2023-04-29T05:47:19.414Z"
   },
   {
    "duration": 13,
    "start_time": "2023-04-29T05:48:12.658Z"
   },
   {
    "duration": 16,
    "start_time": "2023-04-29T05:51:36.324Z"
   },
   {
    "duration": 4,
    "start_time": "2023-04-29T05:52:33.957Z"
   },
   {
    "duration": 94,
    "start_time": "2023-04-29T05:52:33.968Z"
   },
   {
    "duration": 11,
    "start_time": "2023-04-29T05:52:40.577Z"
   },
   {
    "duration": 13,
    "start_time": "2023-04-29T05:52:45.117Z"
   },
   {
    "duration": 16,
    "start_time": "2023-04-29T05:53:16.897Z"
   },
   {
    "duration": 13,
    "start_time": "2023-04-29T05:53:36.011Z"
   },
   {
    "duration": 10,
    "start_time": "2023-04-29T06:03:19.947Z"
   },
   {
    "duration": 137,
    "start_time": "2023-04-29T06:08:30.338Z"
   },
   {
    "duration": 4,
    "start_time": "2023-04-29T06:08:51.753Z"
   },
   {
    "duration": 106,
    "start_time": "2023-04-29T06:08:51.759Z"
   },
   {
    "duration": 8,
    "start_time": "2023-04-29T06:08:51.867Z"
   },
   {
    "duration": 26,
    "start_time": "2023-04-29T06:08:51.878Z"
   },
   {
    "duration": 16,
    "start_time": "2023-04-29T06:08:51.906Z"
   },
   {
    "duration": 22,
    "start_time": "2023-04-29T06:08:51.925Z"
   },
   {
    "duration": 14,
    "start_time": "2023-04-29T06:08:51.949Z"
   },
   {
    "duration": 24,
    "start_time": "2023-04-29T06:08:51.965Z"
   },
   {
    "duration": 24,
    "start_time": "2023-04-29T06:08:51.992Z"
   },
   {
    "duration": 11,
    "start_time": "2023-04-29T06:08:52.018Z"
   },
   {
    "duration": 665,
    "start_time": "2023-04-29T06:08:52.030Z"
   },
   {
    "duration": 248,
    "start_time": "2023-04-29T06:08:52.698Z"
   },
   {
    "duration": 392,
    "start_time": "2023-04-29T06:08:52.948Z"
   },
   {
    "duration": 243,
    "start_time": "2023-04-29T06:08:53.342Z"
   },
   {
    "duration": 313,
    "start_time": "2023-04-29T06:08:57.912Z"
   },
   {
    "duration": 349,
    "start_time": "2023-04-29T06:10:44.184Z"
   },
   {
    "duration": 1552,
    "start_time": "2023-04-30T15:07:28.148Z"
   },
   {
    "duration": 212,
    "start_time": "2023-04-30T15:07:29.703Z"
   },
   {
    "duration": 16,
    "start_time": "2023-04-30T15:07:29.917Z"
   },
   {
    "duration": 54,
    "start_time": "2023-04-30T15:07:29.935Z"
   },
   {
    "duration": 15,
    "start_time": "2023-04-30T15:07:29.992Z"
   },
   {
    "duration": 48,
    "start_time": "2023-04-30T15:07:30.009Z"
   },
   {
    "duration": 31,
    "start_time": "2023-04-30T15:07:30.060Z"
   },
   {
    "duration": 40,
    "start_time": "2023-04-30T15:07:30.093Z"
   },
   {
    "duration": 43,
    "start_time": "2023-04-30T15:07:30.135Z"
   },
   {
    "duration": 30,
    "start_time": "2023-04-30T15:07:30.180Z"
   },
   {
    "duration": 807,
    "start_time": "2023-04-30T15:07:34.354Z"
   },
   {
    "duration": 523,
    "start_time": "2023-04-30T15:08:06.173Z"
   },
   {
    "duration": 4,
    "start_time": "2023-04-30T15:08:17.430Z"
   },
   {
    "duration": 149,
    "start_time": "2023-04-30T15:08:17.438Z"
   },
   {
    "duration": 15,
    "start_time": "2023-04-30T15:08:17.589Z"
   },
   {
    "duration": 77,
    "start_time": "2023-04-30T15:08:17.606Z"
   },
   {
    "duration": 34,
    "start_time": "2023-04-30T15:08:17.686Z"
   },
   {
    "duration": 59,
    "start_time": "2023-04-30T15:08:17.722Z"
   },
   {
    "duration": 104,
    "start_time": "2023-04-30T15:08:17.783Z"
   },
   {
    "duration": 62,
    "start_time": "2023-04-30T15:08:17.890Z"
   },
   {
    "duration": 42,
    "start_time": "2023-04-30T15:08:17.953Z"
   },
   {
    "duration": 18,
    "start_time": "2023-04-30T15:08:17.997Z"
   },
   {
    "duration": 625,
    "start_time": "2023-04-30T15:08:22.914Z"
   },
   {
    "duration": 324,
    "start_time": "2023-04-30T15:13:28.733Z"
   },
   {
    "duration": 4,
    "start_time": "2023-04-30T15:13:41.025Z"
   },
   {
    "duration": 80,
    "start_time": "2023-04-30T15:13:41.040Z"
   },
   {
    "duration": 11,
    "start_time": "2023-04-30T15:13:41.122Z"
   },
   {
    "duration": 15,
    "start_time": "2023-04-30T15:13:41.135Z"
   },
   {
    "duration": 14,
    "start_time": "2023-04-30T15:13:41.153Z"
   },
   {
    "duration": 27,
    "start_time": "2023-04-30T15:13:41.170Z"
   },
   {
    "duration": 17,
    "start_time": "2023-04-30T15:13:41.200Z"
   },
   {
    "duration": 37,
    "start_time": "2023-04-30T15:13:41.219Z"
   },
   {
    "duration": 43,
    "start_time": "2023-04-30T15:13:41.258Z"
   },
   {
    "duration": 20,
    "start_time": "2023-04-30T15:13:41.303Z"
   },
   {
    "duration": 573,
    "start_time": "2023-04-30T15:13:45.010Z"
   },
   {
    "duration": 4,
    "start_time": "2023-04-30T15:16:42.060Z"
   },
   {
    "duration": 87,
    "start_time": "2023-04-30T15:16:42.066Z"
   },
   {
    "duration": 11,
    "start_time": "2023-04-30T15:16:42.155Z"
   },
   {
    "duration": 16,
    "start_time": "2023-04-30T15:16:42.168Z"
   },
   {
    "duration": 13,
    "start_time": "2023-04-30T15:16:42.187Z"
   },
   {
    "duration": 21,
    "start_time": "2023-04-30T15:16:42.202Z"
   },
   {
    "duration": 10,
    "start_time": "2023-04-30T15:16:42.242Z"
   },
   {
    "duration": 16,
    "start_time": "2023-04-30T15:16:42.254Z"
   },
   {
    "duration": 14,
    "start_time": "2023-04-30T15:16:42.272Z"
   },
   {
    "duration": 16,
    "start_time": "2023-04-30T15:16:42.288Z"
   },
   {
    "duration": 587,
    "start_time": "2023-04-30T15:16:42.306Z"
   },
   {
    "duration": 447,
    "start_time": "2023-04-30T15:19:49.788Z"
   },
   {
    "duration": 5,
    "start_time": "2023-04-30T15:19:56.314Z"
   },
   {
    "duration": 104,
    "start_time": "2023-04-30T15:19:56.322Z"
   },
   {
    "duration": 12,
    "start_time": "2023-04-30T15:19:56.428Z"
   },
   {
    "duration": 35,
    "start_time": "2023-04-30T15:19:56.442Z"
   },
   {
    "duration": 75,
    "start_time": "2023-04-30T15:19:56.480Z"
   },
   {
    "duration": 49,
    "start_time": "2023-04-30T15:19:56.557Z"
   },
   {
    "duration": 59,
    "start_time": "2023-04-30T15:19:56.608Z"
   },
   {
    "duration": 22,
    "start_time": "2023-04-30T15:19:56.670Z"
   },
   {
    "duration": 36,
    "start_time": "2023-04-30T15:19:56.694Z"
   },
   {
    "duration": 44,
    "start_time": "2023-04-30T15:19:56.732Z"
   },
   {
    "duration": 619,
    "start_time": "2023-04-30T15:19:56.779Z"
   },
   {
    "duration": 266,
    "start_time": "2023-04-30T15:21:20.910Z"
   },
   {
    "duration": 663,
    "start_time": "2023-04-30T15:24:25.578Z"
   },
   {
    "duration": 600,
    "start_time": "2023-04-30T15:24:40.214Z"
   },
   {
    "duration": 4,
    "start_time": "2023-04-30T15:24:58.560Z"
   },
   {
    "duration": 156,
    "start_time": "2023-04-30T15:24:58.567Z"
   },
   {
    "duration": 12,
    "start_time": "2023-04-30T15:24:58.725Z"
   },
   {
    "duration": 49,
    "start_time": "2023-04-30T15:24:58.739Z"
   },
   {
    "duration": 29,
    "start_time": "2023-04-30T15:24:58.791Z"
   },
   {
    "duration": 45,
    "start_time": "2023-04-30T15:24:58.823Z"
   },
   {
    "duration": 20,
    "start_time": "2023-04-30T15:24:58.869Z"
   },
   {
    "duration": 21,
    "start_time": "2023-04-30T15:24:58.892Z"
   },
   {
    "duration": 16,
    "start_time": "2023-04-30T15:24:58.916Z"
   },
   {
    "duration": 42,
    "start_time": "2023-04-30T15:24:58.934Z"
   },
   {
    "duration": 683,
    "start_time": "2023-04-30T15:24:58.978Z"
   },
   {
    "duration": 272,
    "start_time": "2023-04-30T15:24:59.665Z"
   },
   {
    "duration": 495,
    "start_time": "2023-04-30T15:24:59.942Z"
   },
   {
    "duration": 370,
    "start_time": "2023-04-30T15:25:40.386Z"
   },
   {
    "duration": 452,
    "start_time": "2023-04-30T15:25:55.718Z"
   },
   {
    "duration": 402,
    "start_time": "2023-04-30T15:45:42.024Z"
   },
   {
    "duration": 373,
    "start_time": "2023-04-30T15:47:53.926Z"
   },
   {
    "duration": 389,
    "start_time": "2023-04-30T15:48:58.231Z"
   },
   {
    "duration": 480,
    "start_time": "2023-04-30T15:49:55.438Z"
   },
   {
    "duration": 456,
    "start_time": "2023-04-30T15:50:06.530Z"
   },
   {
    "duration": 595,
    "start_time": "2023-04-30T15:50:54.311Z"
   },
   {
    "duration": 213,
    "start_time": "2023-04-30T15:51:50.932Z"
   },
   {
    "duration": 187,
    "start_time": "2023-04-30T15:53:11.986Z"
   },
   {
    "duration": 150,
    "start_time": "2023-04-30T15:57:23.070Z"
   },
   {
    "duration": 160,
    "start_time": "2023-04-30T15:58:28.730Z"
   },
   {
    "duration": 160,
    "start_time": "2023-04-30T15:59:09.727Z"
   },
   {
    "duration": 172,
    "start_time": "2023-04-30T16:00:58.052Z"
   },
   {
    "duration": 154,
    "start_time": "2023-04-30T16:01:03.875Z"
   },
   {
    "duration": 179,
    "start_time": "2023-04-30T16:02:19.270Z"
   },
   {
    "duration": 312,
    "start_time": "2023-04-30T16:03:27.960Z"
   },
   {
    "duration": 378,
    "start_time": "2023-04-30T16:03:43.406Z"
   },
   {
    "duration": 183,
    "start_time": "2023-04-30T16:05:31.007Z"
   },
   {
    "duration": 248,
    "start_time": "2023-04-30T16:06:52.671Z"
   },
   {
    "duration": 241,
    "start_time": "2023-04-30T16:07:21.071Z"
   },
   {
    "duration": 170,
    "start_time": "2023-04-30T16:09:34.220Z"
   },
   {
    "duration": 162,
    "start_time": "2023-04-30T16:09:58.731Z"
   },
   {
    "duration": 246,
    "start_time": "2023-04-30T16:10:21.033Z"
   },
   {
    "duration": 159,
    "start_time": "2023-04-30T16:12:23.362Z"
   },
   {
    "duration": 161,
    "start_time": "2023-04-30T16:12:34.265Z"
   },
   {
    "duration": 220,
    "start_time": "2023-04-30T16:13:19.119Z"
   },
   {
    "duration": 233,
    "start_time": "2023-04-30T16:14:59.570Z"
   },
   {
    "duration": 353,
    "start_time": "2023-04-30T16:15:27.759Z"
   },
   {
    "duration": 258,
    "start_time": "2023-04-30T16:15:40.083Z"
   },
   {
    "duration": 222,
    "start_time": "2023-04-30T16:15:53.183Z"
   },
   {
    "duration": 272,
    "start_time": "2023-04-30T16:16:16.740Z"
   },
   {
    "duration": 297,
    "start_time": "2023-04-30T16:16:47.817Z"
   },
   {
    "duration": 175,
    "start_time": "2023-04-30T16:17:08.285Z"
   },
   {
    "duration": 164,
    "start_time": "2023-04-30T16:18:37.703Z"
   },
   {
    "duration": 285,
    "start_time": "2023-04-30T16:19:08.816Z"
   },
   {
    "duration": 378,
    "start_time": "2023-04-30T16:19:23.141Z"
   },
   {
    "duration": 215,
    "start_time": "2023-04-30T16:19:38.151Z"
   },
   {
    "duration": 169,
    "start_time": "2023-04-30T16:19:49.219Z"
   },
   {
    "duration": 5,
    "start_time": "2023-04-30T16:21:50.431Z"
   },
   {
    "duration": 102,
    "start_time": "2023-04-30T16:21:50.438Z"
   },
   {
    "duration": 11,
    "start_time": "2023-04-30T16:21:50.542Z"
   },
   {
    "duration": 64,
    "start_time": "2023-04-30T16:21:50.555Z"
   },
   {
    "duration": 44,
    "start_time": "2023-04-30T16:21:50.622Z"
   },
   {
    "duration": 61,
    "start_time": "2023-04-30T16:21:50.669Z"
   },
   {
    "duration": 14,
    "start_time": "2023-04-30T16:21:50.732Z"
   },
   {
    "duration": 24,
    "start_time": "2023-04-30T16:21:50.748Z"
   },
   {
    "duration": 22,
    "start_time": "2023-04-30T16:21:50.774Z"
   },
   {
    "duration": 27,
    "start_time": "2023-04-30T16:21:50.798Z"
   },
   {
    "duration": 571,
    "start_time": "2023-04-30T16:21:57.874Z"
   },
   {
    "duration": 4,
    "start_time": "2023-04-30T16:22:43.191Z"
   },
   {
    "duration": 111,
    "start_time": "2023-04-30T16:22:43.198Z"
   },
   {
    "duration": 16,
    "start_time": "2023-04-30T16:22:43.435Z"
   },
   {
    "duration": 20,
    "start_time": "2023-04-30T16:22:43.454Z"
   },
   {
    "duration": 19,
    "start_time": "2023-04-30T16:22:43.477Z"
   },
   {
    "duration": 53,
    "start_time": "2023-04-30T16:22:43.499Z"
   },
   {
    "duration": 13,
    "start_time": "2023-04-30T16:22:43.555Z"
   },
   {
    "duration": 10,
    "start_time": "2023-04-30T16:22:43.570Z"
   },
   {
    "duration": 11,
    "start_time": "2023-04-30T16:22:43.583Z"
   },
   {
    "duration": 47,
    "start_time": "2023-04-30T16:22:43.596Z"
   },
   {
    "duration": 591,
    "start_time": "2023-04-30T16:22:43.645Z"
   },
   {
    "duration": 270,
    "start_time": "2023-04-30T16:22:44.240Z"
   },
   {
    "duration": 379,
    "start_time": "2023-04-30T16:22:44.512Z"
   },
   {
    "duration": 275,
    "start_time": "2023-04-30T16:22:44.893Z"
   },
   {
    "duration": 411,
    "start_time": "2023-04-30T16:22:45.171Z"
   },
   {
    "duration": 160,
    "start_time": "2023-04-30T16:22:45.585Z"
   },
   {
    "duration": 346,
    "start_time": "2023-04-30T16:22:45.748Z"
   },
   {
    "duration": 6,
    "start_time": "2023-04-30T16:22:46.095Z"
   },
   {
    "duration": 210,
    "start_time": "2023-04-30T16:22:46.103Z"
   },
   {
    "duration": 154,
    "start_time": "2023-04-30T16:22:46.316Z"
   },
   {
    "duration": 261,
    "start_time": "2023-04-30T16:22:46.472Z"
   },
   {
    "duration": 169,
    "start_time": "2023-04-30T16:22:46.742Z"
   },
   {
    "duration": 5,
    "start_time": "2023-04-30T16:22:46.914Z"
   },
   {
    "duration": 183,
    "start_time": "2023-04-30T16:59:10.769Z"
   },
   {
    "duration": 678,
    "start_time": "2023-04-30T18:35:02.455Z"
   },
   {
    "duration": 5,
    "start_time": "2023-04-30T18:37:55.716Z"
   },
   {
    "duration": 143,
    "start_time": "2023-04-30T18:37:55.723Z"
   },
   {
    "duration": 24,
    "start_time": "2023-04-30T18:37:55.869Z"
   },
   {
    "duration": 61,
    "start_time": "2023-04-30T18:37:55.895Z"
   },
   {
    "duration": 74,
    "start_time": "2023-04-30T18:37:55.961Z"
   },
   {
    "duration": 86,
    "start_time": "2023-04-30T18:37:56.038Z"
   },
   {
    "duration": 27,
    "start_time": "2023-04-30T18:37:56.126Z"
   },
   {
    "duration": 65,
    "start_time": "2023-04-30T18:37:56.155Z"
   },
   {
    "duration": 35,
    "start_time": "2023-04-30T18:37:56.222Z"
   },
   {
    "duration": 53,
    "start_time": "2023-04-30T18:37:56.260Z"
   },
   {
    "duration": 789,
    "start_time": "2023-04-30T18:37:56.318Z"
   },
   {
    "duration": 283,
    "start_time": "2023-04-30T18:37:57.109Z"
   },
   {
    "duration": 385,
    "start_time": "2023-04-30T18:37:57.395Z"
   },
   {
    "duration": 292,
    "start_time": "2023-04-30T18:37:57.789Z"
   },
   {
    "duration": 348,
    "start_time": "2023-04-30T18:37:58.083Z"
   },
   {
    "duration": 304,
    "start_time": "2023-04-30T18:37:58.433Z"
   },
   {
    "duration": 183,
    "start_time": "2023-04-30T18:37:58.746Z"
   },
   {
    "duration": 5,
    "start_time": "2023-04-30T18:37:58.931Z"
   },
   {
    "duration": 246,
    "start_time": "2023-04-30T18:37:58.937Z"
   },
   {
    "duration": 207,
    "start_time": "2023-04-30T18:37:59.193Z"
   },
   {
    "duration": 235,
    "start_time": "2023-04-30T18:37:59.403Z"
   },
   {
    "duration": 186,
    "start_time": "2023-04-30T18:37:59.641Z"
   },
   {
    "duration": 17,
    "start_time": "2023-04-30T18:37:59.829Z"
   },
   {
    "duration": 647,
    "start_time": "2023-04-30T18:37:59.848Z"
   },
   {
    "duration": 625,
    "start_time": "2023-04-30T18:42:45.827Z"
   },
   {
    "duration": 636,
    "start_time": "2023-04-30T18:43:23.469Z"
   },
   {
    "duration": 124,
    "start_time": "2023-04-30T18:45:53.086Z"
   },
   {
    "duration": 153,
    "start_time": "2023-04-30T18:46:11.062Z"
   },
   {
    "duration": 412,
    "start_time": "2023-04-30T18:46:31.580Z"
   },
   {
    "duration": 7,
    "start_time": "2023-04-30T18:46:46.087Z"
   },
   {
    "duration": 117,
    "start_time": "2023-04-30T18:46:46.097Z"
   },
   {
    "duration": 13,
    "start_time": "2023-04-30T18:46:46.216Z"
   },
   {
    "duration": 76,
    "start_time": "2023-04-30T18:46:46.231Z"
   },
   {
    "duration": 16,
    "start_time": "2023-04-30T18:46:46.311Z"
   },
   {
    "duration": 38,
    "start_time": "2023-04-30T18:46:46.329Z"
   },
   {
    "duration": 32,
    "start_time": "2023-04-30T18:46:46.371Z"
   },
   {
    "duration": 35,
    "start_time": "2023-04-30T18:46:46.405Z"
   },
   {
    "duration": 67,
    "start_time": "2023-04-30T18:46:46.442Z"
   },
   {
    "duration": 11,
    "start_time": "2023-04-30T18:46:46.514Z"
   },
   {
    "duration": 670,
    "start_time": "2023-04-30T18:46:46.528Z"
   },
   {
    "duration": 297,
    "start_time": "2023-04-30T18:46:47.200Z"
   },
   {
    "duration": 411,
    "start_time": "2023-04-30T18:46:47.499Z"
   },
   {
    "duration": 290,
    "start_time": "2023-04-30T18:46:47.912Z"
   },
   {
    "duration": 502,
    "start_time": "2023-04-30T18:46:48.205Z"
   },
   {
    "duration": 199,
    "start_time": "2023-04-30T18:46:48.710Z"
   },
   {
    "duration": 185,
    "start_time": "2023-04-30T18:46:48.912Z"
   },
   {
    "duration": 5,
    "start_time": "2023-04-30T18:46:49.098Z"
   },
   {
    "duration": 197,
    "start_time": "2023-04-30T18:46:49.105Z"
   },
   {
    "duration": 194,
    "start_time": "2023-04-30T18:46:49.304Z"
   },
   {
    "duration": 261,
    "start_time": "2023-04-30T18:46:49.500Z"
   },
   {
    "duration": 195,
    "start_time": "2023-04-30T18:46:49.771Z"
   },
   {
    "duration": 13,
    "start_time": "2023-04-30T18:46:49.969Z"
   },
   {
    "duration": 357,
    "start_time": "2023-04-30T18:46:49.984Z"
   },
   {
    "duration": 367,
    "start_time": "2023-04-30T18:46:54.365Z"
   },
   {
    "duration": 410,
    "start_time": "2023-04-30T18:47:41.371Z"
   },
   {
    "duration": 12,
    "start_time": "2023-04-30T18:49:44.697Z"
   },
   {
    "duration": 16,
    "start_time": "2023-04-30T18:53:22.634Z"
   },
   {
    "duration": 331,
    "start_time": "2023-04-30T18:58:22.489Z"
   },
   {
    "duration": 6,
    "start_time": "2023-04-30T19:28:09.467Z"
   },
   {
    "duration": 1173,
    "start_time": "2023-04-30T19:28:19.052Z"
   },
   {
    "duration": 1215,
    "start_time": "2023-04-30T19:28:29.457Z"
   },
   {
    "duration": 5,
    "start_time": "2023-04-30T19:29:17.896Z"
   },
   {
    "duration": 6,
    "start_time": "2023-04-30T19:30:13.784Z"
   },
   {
    "duration": 11,
    "start_time": "2023-04-30T19:31:21.820Z"
   },
   {
    "duration": 6,
    "start_time": "2023-04-30T19:32:29.158Z"
   },
   {
    "duration": 16,
    "start_time": "2023-04-30T19:33:42.480Z"
   },
   {
    "duration": 14,
    "start_time": "2023-04-30T19:34:50.375Z"
   },
   {
    "duration": 47,
    "start_time": "2023-04-30T19:43:13.333Z"
   },
   {
    "duration": 1380,
    "start_time": "2023-04-30T19:45:35.836Z"
   },
   {
    "duration": 100,
    "start_time": "2023-04-30T19:45:37.219Z"
   },
   {
    "duration": 16,
    "start_time": "2023-04-30T19:45:37.320Z"
   },
   {
    "duration": 29,
    "start_time": "2023-04-30T19:45:37.339Z"
   },
   {
    "duration": 20,
    "start_time": "2023-04-30T19:45:37.374Z"
   },
   {
    "duration": 23,
    "start_time": "2023-04-30T19:45:37.396Z"
   },
   {
    "duration": 29,
    "start_time": "2023-04-30T19:45:37.421Z"
   },
   {
    "duration": 10,
    "start_time": "2023-04-30T19:45:37.452Z"
   },
   {
    "duration": 25,
    "start_time": "2023-04-30T19:45:37.464Z"
   },
   {
    "duration": 12,
    "start_time": "2023-04-30T19:45:37.491Z"
   },
   {
    "duration": 769,
    "start_time": "2023-04-30T19:45:37.504Z"
   },
   {
    "duration": 259,
    "start_time": "2023-04-30T19:45:38.275Z"
   },
   {
    "duration": 373,
    "start_time": "2023-04-30T19:45:38.536Z"
   },
   {
    "duration": 286,
    "start_time": "2023-04-30T19:45:38.912Z"
   },
   {
    "duration": 413,
    "start_time": "2023-04-30T19:45:39.201Z"
   },
   {
    "duration": 161,
    "start_time": "2023-04-30T19:45:39.616Z"
   },
   {
    "duration": 153,
    "start_time": "2023-04-30T19:45:39.779Z"
   },
   {
    "duration": 12,
    "start_time": "2023-04-30T19:45:39.937Z"
   },
   {
    "duration": 165,
    "start_time": "2023-04-30T19:45:39.961Z"
   },
   {
    "duration": 185,
    "start_time": "2023-04-30T19:45:40.128Z"
   },
   {
    "duration": 339,
    "start_time": "2023-04-30T19:45:40.315Z"
   },
   {
    "duration": 180,
    "start_time": "2023-04-30T19:45:40.656Z"
   },
   {
    "duration": 12,
    "start_time": "2023-04-30T19:45:40.841Z"
   },
   {
    "duration": 293,
    "start_time": "2023-04-30T19:45:40.856Z"
   },
   {
    "duration": 0,
    "start_time": "2023-04-30T19:45:41.153Z"
   },
   {
    "duration": 0,
    "start_time": "2023-04-30T19:45:41.156Z"
   },
   {
    "duration": 0,
    "start_time": "2023-04-30T19:45:41.157Z"
   },
   {
    "duration": 0,
    "start_time": "2023-04-30T19:45:41.158Z"
   },
   {
    "duration": 91,
    "start_time": "2023-04-30T20:31:32.054Z"
   },
   {
    "duration": 94,
    "start_time": "2023-04-30T20:33:22.930Z"
   },
   {
    "duration": 93,
    "start_time": "2023-04-30T20:34:25.508Z"
   },
   {
    "duration": 24,
    "start_time": "2023-04-30T20:35:06.536Z"
   },
   {
    "duration": 191,
    "start_time": "2023-04-30T20:37:06.722Z"
   },
   {
    "duration": 578,
    "start_time": "2023-04-30T20:42:28.320Z"
   },
   {
    "duration": 1346,
    "start_time": "2023-04-30T20:43:22.598Z"
   },
   {
    "duration": 82,
    "start_time": "2023-04-30T20:43:23.946Z"
   },
   {
    "duration": 17,
    "start_time": "2023-04-30T20:43:24.030Z"
   },
   {
    "duration": 20,
    "start_time": "2023-04-30T20:43:24.049Z"
   },
   {
    "duration": 14,
    "start_time": "2023-04-30T20:43:24.071Z"
   },
   {
    "duration": 31,
    "start_time": "2023-04-30T20:43:24.087Z"
   },
   {
    "duration": 10,
    "start_time": "2023-04-30T20:43:24.140Z"
   },
   {
    "duration": 29,
    "start_time": "2023-04-30T20:43:24.152Z"
   },
   {
    "duration": 18,
    "start_time": "2023-04-30T20:43:24.183Z"
   },
   {
    "duration": 13,
    "start_time": "2023-04-30T20:43:24.204Z"
   },
   {
    "duration": 734,
    "start_time": "2023-04-30T20:43:24.219Z"
   },
   {
    "duration": 308,
    "start_time": "2023-04-30T20:43:24.956Z"
   },
   {
    "duration": 384,
    "start_time": "2023-04-30T20:43:25.268Z"
   },
   {
    "duration": 290,
    "start_time": "2023-04-30T20:43:25.654Z"
   },
   {
    "duration": 452,
    "start_time": "2023-04-30T20:43:25.953Z"
   },
   {
    "duration": 153,
    "start_time": "2023-04-30T20:43:26.407Z"
   },
   {
    "duration": 241,
    "start_time": "2023-04-30T20:43:26.563Z"
   },
   {
    "duration": 6,
    "start_time": "2023-04-30T20:43:26.806Z"
   },
   {
    "duration": 169,
    "start_time": "2023-04-30T20:43:26.814Z"
   },
   {
    "duration": 170,
    "start_time": "2023-04-30T20:43:26.985Z"
   },
   {
    "duration": 341,
    "start_time": "2023-04-30T20:43:27.158Z"
   },
   {
    "duration": 182,
    "start_time": "2023-04-30T20:43:27.501Z"
   },
   {
    "duration": 6,
    "start_time": "2023-04-30T20:43:27.685Z"
   },
   {
    "duration": 604,
    "start_time": "2023-04-30T20:43:27.693Z"
   },
   {
    "duration": 14,
    "start_time": "2023-04-30T20:43:28.300Z"
   },
   {
    "duration": 36,
    "start_time": "2023-04-30T20:43:28.316Z"
   },
   {
    "duration": 31,
    "start_time": "2023-04-30T20:43:28.355Z"
   },
   {
    "duration": 19,
    "start_time": "2023-04-30T20:43:28.391Z"
   },
   {
    "duration": 1088,
    "start_time": "2023-05-01T02:25:13.621Z"
   },
   {
    "duration": 78,
    "start_time": "2023-05-01T02:25:14.711Z"
   },
   {
    "duration": 12,
    "start_time": "2023-05-01T02:25:14.791Z"
   },
   {
    "duration": 14,
    "start_time": "2023-05-01T02:25:14.805Z"
   },
   {
    "duration": 11,
    "start_time": "2023-05-01T02:25:14.820Z"
   },
   {
    "duration": 21,
    "start_time": "2023-05-01T02:25:14.832Z"
   },
   {
    "duration": 13,
    "start_time": "2023-05-01T02:25:14.855Z"
   },
   {
    "duration": 7,
    "start_time": "2023-05-01T02:25:14.892Z"
   },
   {
    "duration": 8,
    "start_time": "2023-05-01T02:25:14.901Z"
   },
   {
    "duration": 16,
    "start_time": "2023-05-01T02:25:14.911Z"
   },
   {
    "duration": 597,
    "start_time": "2023-05-01T02:25:14.929Z"
   },
   {
    "duration": 218,
    "start_time": "2023-05-01T02:25:15.528Z"
   },
   {
    "duration": 303,
    "start_time": "2023-05-01T02:25:15.748Z"
   },
   {
    "duration": 233,
    "start_time": "2023-05-01T02:25:16.053Z"
   },
   {
    "duration": 352,
    "start_time": "2023-05-01T02:25:16.292Z"
   },
   {
    "duration": 141,
    "start_time": "2023-05-01T02:25:16.646Z"
   },
   {
    "duration": 130,
    "start_time": "2023-05-01T02:25:16.789Z"
   },
   {
    "duration": 5,
    "start_time": "2023-05-01T02:25:16.920Z"
   },
   {
    "duration": 167,
    "start_time": "2023-05-01T02:25:16.926Z"
   },
   {
    "duration": 148,
    "start_time": "2023-05-01T02:25:17.095Z"
   },
   {
    "duration": 284,
    "start_time": "2023-05-01T02:25:17.245Z"
   },
   {
    "duration": 149,
    "start_time": "2023-05-01T02:25:17.530Z"
   },
   {
    "duration": 13,
    "start_time": "2023-05-01T02:25:17.680Z"
   },
   {
    "duration": 508,
    "start_time": "2023-05-01T02:25:17.695Z"
   },
   {
    "duration": 11,
    "start_time": "2023-05-01T02:25:18.205Z"
   },
   {
    "duration": 37,
    "start_time": "2023-05-01T02:25:18.219Z"
   },
   {
    "duration": 33,
    "start_time": "2023-05-01T02:25:18.257Z"
   },
   {
    "duration": 13,
    "start_time": "2023-05-01T02:25:18.294Z"
   },
   {
    "duration": 116,
    "start_time": "2023-05-01T02:32:35.522Z"
   },
   {
    "duration": 25,
    "start_time": "2023-05-01T02:36:37.927Z"
   },
   {
    "duration": 1316,
    "start_time": "2023-05-01T05:45:00.667Z"
   },
   {
    "duration": 185,
    "start_time": "2023-05-01T05:45:01.985Z"
   },
   {
    "duration": 14,
    "start_time": "2023-05-01T05:45:02.172Z"
   },
   {
    "duration": 33,
    "start_time": "2023-05-01T05:45:02.187Z"
   },
   {
    "duration": 29,
    "start_time": "2023-05-01T05:45:02.223Z"
   },
   {
    "duration": 30,
    "start_time": "2023-05-01T05:45:02.254Z"
   },
   {
    "duration": 18,
    "start_time": "2023-05-01T05:45:02.286Z"
   },
   {
    "duration": 29,
    "start_time": "2023-05-01T05:45:02.306Z"
   },
   {
    "duration": 22,
    "start_time": "2023-05-01T05:45:02.337Z"
   },
   {
    "duration": 42,
    "start_time": "2023-05-01T05:45:02.361Z"
   },
   {
    "duration": 578,
    "start_time": "2023-05-01T05:45:02.405Z"
   },
   {
    "duration": 190,
    "start_time": "2023-05-01T05:45:02.985Z"
   },
   {
    "duration": 352,
    "start_time": "2023-05-01T05:45:03.177Z"
   },
   {
    "duration": 227,
    "start_time": "2023-05-01T05:45:07.825Z"
   },
   {
    "duration": 5,
    "start_time": "2023-05-01T05:54:14.848Z"
   },
   {
    "duration": 82,
    "start_time": "2023-05-01T05:54:14.856Z"
   },
   {
    "duration": 11,
    "start_time": "2023-05-01T05:54:14.940Z"
   },
   {
    "duration": 21,
    "start_time": "2023-05-01T05:54:14.952Z"
   },
   {
    "duration": 53,
    "start_time": "2023-05-01T05:54:14.976Z"
   },
   {
    "duration": 28,
    "start_time": "2023-05-01T05:54:15.031Z"
   },
   {
    "duration": 8,
    "start_time": "2023-05-01T05:54:15.061Z"
   },
   {
    "duration": 17,
    "start_time": "2023-05-01T05:54:15.071Z"
   },
   {
    "duration": 33,
    "start_time": "2023-05-01T05:54:15.089Z"
   },
   {
    "duration": 9,
    "start_time": "2023-05-01T05:54:15.123Z"
   },
   {
    "duration": 498,
    "start_time": "2023-05-01T05:54:15.134Z"
   },
   {
    "duration": 228,
    "start_time": "2023-05-01T05:54:15.634Z"
   },
   {
    "duration": 368,
    "start_time": "2023-05-01T05:54:15.863Z"
   },
   {
    "duration": 227,
    "start_time": "2023-05-01T05:54:16.234Z"
   },
   {
    "duration": 423,
    "start_time": "2023-05-01T05:54:16.462Z"
   },
   {
    "duration": 130,
    "start_time": "2023-05-01T05:54:16.887Z"
   },
   {
    "duration": 131,
    "start_time": "2023-05-01T05:54:17.018Z"
   },
   {
    "duration": 4,
    "start_time": "2023-05-01T05:58:05.308Z"
   },
   {
    "duration": 87,
    "start_time": "2023-05-01T05:58:05.314Z"
   },
   {
    "duration": 18,
    "start_time": "2023-05-01T05:58:05.403Z"
   },
   {
    "duration": 16,
    "start_time": "2023-05-01T05:58:05.423Z"
   },
   {
    "duration": 42,
    "start_time": "2023-05-01T05:58:05.441Z"
   },
   {
    "duration": 21,
    "start_time": "2023-05-01T05:58:05.485Z"
   },
   {
    "duration": 13,
    "start_time": "2023-05-01T05:58:05.508Z"
   },
   {
    "duration": 11,
    "start_time": "2023-05-01T05:58:05.523Z"
   },
   {
    "duration": 11,
    "start_time": "2023-05-01T05:58:05.536Z"
   },
   {
    "duration": 36,
    "start_time": "2023-05-01T05:58:05.549Z"
   },
   {
    "duration": 568,
    "start_time": "2023-05-01T05:58:05.588Z"
   },
   {
    "duration": 274,
    "start_time": "2023-05-01T05:58:06.159Z"
   },
   {
    "duration": 325,
    "start_time": "2023-05-01T05:58:06.435Z"
   },
   {
    "duration": 258,
    "start_time": "2023-05-01T05:58:06.762Z"
   },
   {
    "duration": 310,
    "start_time": "2023-05-01T05:58:07.022Z"
   },
   {
    "duration": 138,
    "start_time": "2023-05-01T05:58:07.334Z"
   },
   {
    "duration": 147,
    "start_time": "2023-05-01T05:58:07.474Z"
   },
   {
    "duration": 207,
    "start_time": "2023-05-01T05:59:57.000Z"
   },
   {
    "duration": 150,
    "start_time": "2023-05-01T06:00:41.167Z"
   },
   {
    "duration": 143,
    "start_time": "2023-05-01T06:01:06.834Z"
   },
   {
    "duration": 170,
    "start_time": "2023-05-01T06:02:09.385Z"
   },
   {
    "duration": 216,
    "start_time": "2023-05-01T06:04:17.311Z"
   },
   {
    "duration": 186,
    "start_time": "2023-05-01T06:04:30.628Z"
   },
   {
    "duration": 97,
    "start_time": "2023-05-01T06:09:49.193Z"
   },
   {
    "duration": 3,
    "start_time": "2023-05-01T06:09:59.518Z"
   },
   {
    "duration": 89,
    "start_time": "2023-05-01T06:09:59.523Z"
   },
   {
    "duration": 8,
    "start_time": "2023-05-01T06:09:59.613Z"
   },
   {
    "duration": 18,
    "start_time": "2023-05-01T06:09:59.623Z"
   },
   {
    "duration": 29,
    "start_time": "2023-05-01T06:09:59.643Z"
   },
   {
    "duration": 48,
    "start_time": "2023-05-01T06:09:59.674Z"
   },
   {
    "duration": 11,
    "start_time": "2023-05-01T06:09:59.724Z"
   },
   {
    "duration": 33,
    "start_time": "2023-05-01T06:09:59.737Z"
   },
   {
    "duration": 41,
    "start_time": "2023-05-01T06:09:59.772Z"
   },
   {
    "duration": 33,
    "start_time": "2023-05-01T06:09:59.817Z"
   },
   {
    "duration": 536,
    "start_time": "2023-05-01T06:09:59.852Z"
   },
   {
    "duration": 238,
    "start_time": "2023-05-01T06:10:00.393Z"
   },
   {
    "duration": 323,
    "start_time": "2023-05-01T06:10:00.633Z"
   },
   {
    "duration": 276,
    "start_time": "2023-05-01T06:10:00.960Z"
   },
   {
    "duration": 407,
    "start_time": "2023-05-01T06:10:01.237Z"
   },
   {
    "duration": 132,
    "start_time": "2023-05-01T06:10:01.645Z"
   },
   {
    "duration": 134,
    "start_time": "2023-05-01T06:10:01.778Z"
   },
   {
    "duration": 4,
    "start_time": "2023-05-01T06:10:01.914Z"
   },
   {
    "duration": 201,
    "start_time": "2023-05-01T06:10:01.920Z"
   },
   {
    "duration": 179,
    "start_time": "2023-05-01T06:10:02.122Z"
   },
   {
    "duration": 201,
    "start_time": "2023-05-01T06:10:02.303Z"
   },
   {
    "duration": 163,
    "start_time": "2023-05-01T06:10:02.506Z"
   },
   {
    "duration": 21,
    "start_time": "2023-05-01T06:10:02.670Z"
   },
   {
    "duration": 540,
    "start_time": "2023-05-01T06:10:02.693Z"
   },
   {
    "duration": 10,
    "start_time": "2023-05-01T06:10:03.235Z"
   },
   {
    "duration": 57,
    "start_time": "2023-05-01T06:10:03.247Z"
   },
   {
    "duration": 58,
    "start_time": "2023-05-01T06:10:03.306Z"
   },
   {
    "duration": 44,
    "start_time": "2023-05-01T06:10:03.366Z"
   },
   {
    "duration": 14,
    "start_time": "2023-05-01T06:10:43.540Z"
   },
   {
    "duration": 1104,
    "start_time": "2023-05-01T06:17:36.236Z"
   },
   {
    "duration": 75,
    "start_time": "2023-05-01T06:17:37.342Z"
   },
   {
    "duration": 12,
    "start_time": "2023-05-01T06:17:37.418Z"
   },
   {
    "duration": 11,
    "start_time": "2023-05-01T06:17:37.432Z"
   },
   {
    "duration": 10,
    "start_time": "2023-05-01T06:17:37.445Z"
   },
   {
    "duration": 39,
    "start_time": "2023-05-01T06:17:37.456Z"
   },
   {
    "duration": 8,
    "start_time": "2023-05-01T06:17:37.497Z"
   },
   {
    "duration": 11,
    "start_time": "2023-05-01T06:17:37.507Z"
   },
   {
    "duration": 15,
    "start_time": "2023-05-01T06:17:37.519Z"
   },
   {
    "duration": 9,
    "start_time": "2023-05-01T06:17:37.537Z"
   },
   {
    "duration": 669,
    "start_time": "2023-05-01T06:17:37.548Z"
   },
   {
    "duration": 246,
    "start_time": "2023-05-01T06:17:38.220Z"
   },
   {
    "duration": 364,
    "start_time": "2023-05-01T06:17:38.468Z"
   },
   {
    "duration": 253,
    "start_time": "2023-05-01T06:17:38.835Z"
   },
   {
    "duration": 334,
    "start_time": "2023-05-01T06:17:39.089Z"
   },
   {
    "duration": 144,
    "start_time": "2023-05-01T06:17:39.425Z"
   },
   {
    "duration": 153,
    "start_time": "2023-05-01T06:17:39.571Z"
   },
   {
    "duration": 5,
    "start_time": "2023-05-01T06:17:39.726Z"
   },
   {
    "duration": 202,
    "start_time": "2023-05-01T06:17:39.732Z"
   },
   {
    "duration": 176,
    "start_time": "2023-05-01T06:17:39.935Z"
   },
   {
    "duration": 305,
    "start_time": "2023-05-01T06:17:40.113Z"
   },
   {
    "duration": 189,
    "start_time": "2023-05-01T06:17:40.420Z"
   },
   {
    "duration": 5,
    "start_time": "2023-05-01T06:17:40.611Z"
   },
   {
    "duration": 593,
    "start_time": "2023-05-01T06:17:40.618Z"
   },
   {
    "duration": 17,
    "start_time": "2023-05-01T06:17:41.213Z"
   },
   {
    "duration": 25,
    "start_time": "2023-05-01T06:17:41.231Z"
   },
   {
    "duration": 72,
    "start_time": "2023-05-01T06:17:41.258Z"
   },
   {
    "duration": 36,
    "start_time": "2023-05-01T06:18:34.517Z"
   },
   {
    "duration": 1158,
    "start_time": "2023-05-01T06:18:46.755Z"
   },
   {
    "duration": 82,
    "start_time": "2023-05-01T06:18:47.915Z"
   },
   {
    "duration": 15,
    "start_time": "2023-05-01T06:18:47.999Z"
   },
   {
    "duration": 28,
    "start_time": "2023-05-01T06:18:48.016Z"
   },
   {
    "duration": 22,
    "start_time": "2023-05-01T06:18:48.046Z"
   },
   {
    "duration": 47,
    "start_time": "2023-05-01T06:18:48.069Z"
   },
   {
    "duration": 65,
    "start_time": "2023-05-01T06:18:48.117Z"
   },
   {
    "duration": 50,
    "start_time": "2023-05-01T06:18:48.184Z"
   },
   {
    "duration": 67,
    "start_time": "2023-05-01T06:18:48.236Z"
   },
   {
    "duration": 76,
    "start_time": "2023-05-01T06:18:48.306Z"
   },
   {
    "duration": 684,
    "start_time": "2023-05-01T06:18:48.387Z"
   },
   {
    "duration": 219,
    "start_time": "2023-05-01T06:18:49.072Z"
   },
   {
    "duration": 327,
    "start_time": "2023-05-01T06:18:49.293Z"
   },
   {
    "duration": 258,
    "start_time": "2023-05-01T06:18:49.621Z"
   },
   {
    "duration": 324,
    "start_time": "2023-05-01T06:18:49.882Z"
   },
   {
    "duration": 135,
    "start_time": "2023-05-01T06:18:50.208Z"
   },
   {
    "duration": 128,
    "start_time": "2023-05-01T06:18:50.345Z"
   },
   {
    "duration": 13,
    "start_time": "2023-05-01T06:18:50.475Z"
   },
   {
    "duration": 172,
    "start_time": "2023-05-01T06:18:50.495Z"
   },
   {
    "duration": 163,
    "start_time": "2023-05-01T06:18:50.668Z"
   },
   {
    "duration": 269,
    "start_time": "2023-05-01T06:18:50.833Z"
   },
   {
    "duration": 148,
    "start_time": "2023-05-01T06:18:51.103Z"
   },
   {
    "duration": 4,
    "start_time": "2023-05-01T06:18:51.253Z"
   },
   {
    "duration": 513,
    "start_time": "2023-05-01T06:18:51.259Z"
   },
   {
    "duration": 25,
    "start_time": "2023-05-01T06:18:51.774Z"
   },
   {
    "duration": 15,
    "start_time": "2023-05-01T06:18:51.801Z"
   },
   {
    "duration": 29,
    "start_time": "2023-05-01T06:18:51.817Z"
   },
   {
    "duration": 1225,
    "start_time": "2023-05-01T18:49:34.409Z"
   },
   {
    "duration": 250,
    "start_time": "2023-05-01T18:49:35.637Z"
   },
   {
    "duration": 21,
    "start_time": "2023-05-01T18:49:35.889Z"
   },
   {
    "duration": 17,
    "start_time": "2023-05-01T18:49:35.912Z"
   },
   {
    "duration": 21,
    "start_time": "2023-05-01T18:49:35.931Z"
   },
   {
    "duration": 26,
    "start_time": "2023-05-01T18:49:35.954Z"
   },
   {
    "duration": 8,
    "start_time": "2023-05-01T18:49:35.981Z"
   },
   {
    "duration": 17,
    "start_time": "2023-05-01T18:49:35.991Z"
   },
   {
    "duration": 27,
    "start_time": "2023-05-01T18:49:36.010Z"
   },
   {
    "duration": 9,
    "start_time": "2023-05-01T18:49:36.039Z"
   },
   {
    "duration": 539,
    "start_time": "2023-05-01T18:49:36.049Z"
   },
   {
    "duration": 198,
    "start_time": "2023-05-01T18:49:36.590Z"
   },
   {
    "duration": 343,
    "start_time": "2023-05-01T18:49:36.789Z"
   },
   {
    "duration": 229,
    "start_time": "2023-05-01T18:49:37.134Z"
   },
   {
    "duration": 350,
    "start_time": "2023-05-01T18:49:37.364Z"
   },
   {
    "duration": 122,
    "start_time": "2023-05-01T18:49:37.722Z"
   },
   {
    "duration": 142,
    "start_time": "2023-05-01T18:49:37.845Z"
   },
   {
    "duration": 10,
    "start_time": "2023-05-01T18:49:37.988Z"
   },
   {
    "duration": 142,
    "start_time": "2023-05-01T18:49:38.002Z"
   },
   {
    "duration": 153,
    "start_time": "2023-05-01T18:49:38.146Z"
   },
   {
    "duration": 267,
    "start_time": "2023-05-01T18:49:38.300Z"
   },
   {
    "duration": 154,
    "start_time": "2023-05-01T18:49:38.568Z"
   },
   {
    "duration": 4,
    "start_time": "2023-05-01T18:49:38.724Z"
   },
   {
    "duration": 491,
    "start_time": "2023-05-01T18:49:38.729Z"
   },
   {
    "duration": 10,
    "start_time": "2023-05-01T18:49:39.222Z"
   },
   {
    "duration": 10,
    "start_time": "2023-05-01T18:49:39.234Z"
   },
   {
    "duration": 21,
    "start_time": "2023-05-01T18:49:39.245Z"
   },
   {
    "duration": 36,
    "start_time": "2023-05-01T18:49:39.269Z"
   }
  ],
  "kernelspec": {
   "display_name": "Python 3 (ipykernel)",
   "language": "python",
   "name": "python3"
  },
  "language_info": {
   "codemirror_mode": {
    "name": "ipython",
    "version": 3
   },
   "file_extension": ".py",
   "mimetype": "text/x-python",
   "name": "python",
   "nbconvert_exporter": "python",
   "pygments_lexer": "ipython3",
   "version": "3.9.13"
  },
  "toc": {
   "base_numbering": 1,
   "nav_menu": {},
   "number_sections": true,
   "sideBar": true,
   "skip_h1_title": true,
   "title_cell": "Table of Contents",
   "title_sidebar": "Contents",
   "toc_cell": false,
   "toc_position": {
    "height": "calc(100% - 180px)",
    "left": "10px",
    "top": "150px",
    "width": "298.6px"
   },
   "toc_section_display": true,
   "toc_window_display": true
  }
 },
 "nbformat": 4,
 "nbformat_minor": 2
}
