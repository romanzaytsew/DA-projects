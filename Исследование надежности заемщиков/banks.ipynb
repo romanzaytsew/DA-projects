{
 "cells": [
  {
   "cell_type": "markdown",
   "id": "386f2ae7",
   "metadata": {
    "deletable": false,
    "editable": false,
    "id": "386f2ae7"
   },
   "source": [
    "# Исследование надежности заемщиков\n"
   ]
  },
  {
   "cell_type": "markdown",
   "id": "ffe86f65",
   "metadata": {
    "deletable": false,
    "editable": false,
    "id": "ffe86f65"
   },
   "source": [
    "Во второй части проекта вы выполните шаги 3 и 4. Их вручную проверит ревьюер.\n",
    "Чтобы вам не пришлось писать код заново для шагов 1 и 2, мы добавили авторские решения в ячейки с кодом. \n",
    "\n"
   ]
  },
  {
   "cell_type": "markdown",
   "id": "26613308",
   "metadata": {
    "deletable": false,
    "editable": false,
    "id": "26613308"
   },
   "source": [
    "## Откройте таблицу и изучите общую информацию о данных"
   ]
  },
  {
   "cell_type": "markdown",
   "id": "3c9f838e",
   "metadata": {
    "deletable": false,
    "editable": false,
    "id": "3c9f838e"
   },
   "source": [
    "**Задание 1. Импортируйте библиотеку pandas. Считайте данные из csv-файла в датафрейм и сохраните в переменную `data`. Путь к файлу:**\n",
    "\n",
    "`/datasets/data.csv`"
   ]
  },
  {
   "cell_type": "code",
   "execution_count": 1,
   "id": "77a68a90",
   "metadata": {
    "deletable": false,
    "id": "77a68a90"
   },
   "outputs": [],
   "source": [
    "import pandas as pd\n",
    "\n",
    "try:\n",
    "    data = pd.read_csv('/datasets/data.csv')\n",
    "except:\n",
    "    data = pd.read_csv('.../datasets/data.csv')"
   ]
  },
  {
   "cell_type": "markdown",
   "id": "45365635",
   "metadata": {
    "deletable": false,
    "editable": false,
    "id": "45365635"
   },
   "source": [
    "**Задание 2. Выведите первые 20 строчек датафрейма `data` на экран.**"
   ]
  },
  {
   "cell_type": "code",
   "execution_count": 2,
   "id": "b0451a9a",
   "metadata": {
    "deletable": false,
    "id": "b0451a9a",
    "outputId": "1a8f3ef2-d323-4ec2-ddf7-89670b5944c4"
   },
   "outputs": [
    {
     "data": {
      "text/html": [
       "<div>\n",
       "<style scoped>\n",
       "    .dataframe tbody tr th:only-of-type {\n",
       "        vertical-align: middle;\n",
       "    }\n",
       "\n",
       "    .dataframe tbody tr th {\n",
       "        vertical-align: top;\n",
       "    }\n",
       "\n",
       "    .dataframe thead th {\n",
       "        text-align: right;\n",
       "    }\n",
       "</style>\n",
       "<table border=\"1\" class=\"dataframe\">\n",
       "  <thead>\n",
       "    <tr style=\"text-align: right;\">\n",
       "      <th></th>\n",
       "      <th>children</th>\n",
       "      <th>days_employed</th>\n",
       "      <th>dob_years</th>\n",
       "      <th>education</th>\n",
       "      <th>education_id</th>\n",
       "      <th>family_status</th>\n",
       "      <th>family_status_id</th>\n",
       "      <th>gender</th>\n",
       "      <th>income_type</th>\n",
       "      <th>debt</th>\n",
       "      <th>total_income</th>\n",
       "      <th>purpose</th>\n",
       "    </tr>\n",
       "  </thead>\n",
       "  <tbody>\n",
       "    <tr>\n",
       "      <th>0</th>\n",
       "      <td>1</td>\n",
       "      <td>-8437.673028</td>\n",
       "      <td>42</td>\n",
       "      <td>высшее</td>\n",
       "      <td>0</td>\n",
       "      <td>женат / замужем</td>\n",
       "      <td>0</td>\n",
       "      <td>F</td>\n",
       "      <td>сотрудник</td>\n",
       "      <td>0</td>\n",
       "      <td>253875.639453</td>\n",
       "      <td>покупка жилья</td>\n",
       "    </tr>\n",
       "    <tr>\n",
       "      <th>1</th>\n",
       "      <td>1</td>\n",
       "      <td>-4024.803754</td>\n",
       "      <td>36</td>\n",
       "      <td>среднее</td>\n",
       "      <td>1</td>\n",
       "      <td>женат / замужем</td>\n",
       "      <td>0</td>\n",
       "      <td>F</td>\n",
       "      <td>сотрудник</td>\n",
       "      <td>0</td>\n",
       "      <td>112080.014102</td>\n",
       "      <td>приобретение автомобиля</td>\n",
       "    </tr>\n",
       "    <tr>\n",
       "      <th>2</th>\n",
       "      <td>0</td>\n",
       "      <td>-5623.422610</td>\n",
       "      <td>33</td>\n",
       "      <td>Среднее</td>\n",
       "      <td>1</td>\n",
       "      <td>женат / замужем</td>\n",
       "      <td>0</td>\n",
       "      <td>M</td>\n",
       "      <td>сотрудник</td>\n",
       "      <td>0</td>\n",
       "      <td>145885.952297</td>\n",
       "      <td>покупка жилья</td>\n",
       "    </tr>\n",
       "    <tr>\n",
       "      <th>3</th>\n",
       "      <td>3</td>\n",
       "      <td>-4124.747207</td>\n",
       "      <td>32</td>\n",
       "      <td>среднее</td>\n",
       "      <td>1</td>\n",
       "      <td>женат / замужем</td>\n",
       "      <td>0</td>\n",
       "      <td>M</td>\n",
       "      <td>сотрудник</td>\n",
       "      <td>0</td>\n",
       "      <td>267628.550329</td>\n",
       "      <td>дополнительное образование</td>\n",
       "    </tr>\n",
       "    <tr>\n",
       "      <th>4</th>\n",
       "      <td>0</td>\n",
       "      <td>340266.072047</td>\n",
       "      <td>53</td>\n",
       "      <td>среднее</td>\n",
       "      <td>1</td>\n",
       "      <td>гражданский брак</td>\n",
       "      <td>1</td>\n",
       "      <td>F</td>\n",
       "      <td>пенсионер</td>\n",
       "      <td>0</td>\n",
       "      <td>158616.077870</td>\n",
       "      <td>сыграть свадьбу</td>\n",
       "    </tr>\n",
       "    <tr>\n",
       "      <th>5</th>\n",
       "      <td>0</td>\n",
       "      <td>-926.185831</td>\n",
       "      <td>27</td>\n",
       "      <td>высшее</td>\n",
       "      <td>0</td>\n",
       "      <td>гражданский брак</td>\n",
       "      <td>1</td>\n",
       "      <td>M</td>\n",
       "      <td>компаньон</td>\n",
       "      <td>0</td>\n",
       "      <td>255763.565419</td>\n",
       "      <td>покупка жилья</td>\n",
       "    </tr>\n",
       "    <tr>\n",
       "      <th>6</th>\n",
       "      <td>0</td>\n",
       "      <td>-2879.202052</td>\n",
       "      <td>43</td>\n",
       "      <td>высшее</td>\n",
       "      <td>0</td>\n",
       "      <td>женат / замужем</td>\n",
       "      <td>0</td>\n",
       "      <td>F</td>\n",
       "      <td>компаньон</td>\n",
       "      <td>0</td>\n",
       "      <td>240525.971920</td>\n",
       "      <td>операции с жильем</td>\n",
       "    </tr>\n",
       "    <tr>\n",
       "      <th>7</th>\n",
       "      <td>0</td>\n",
       "      <td>-152.779569</td>\n",
       "      <td>50</td>\n",
       "      <td>СРЕДНЕЕ</td>\n",
       "      <td>1</td>\n",
       "      <td>женат / замужем</td>\n",
       "      <td>0</td>\n",
       "      <td>M</td>\n",
       "      <td>сотрудник</td>\n",
       "      <td>0</td>\n",
       "      <td>135823.934197</td>\n",
       "      <td>образование</td>\n",
       "    </tr>\n",
       "    <tr>\n",
       "      <th>8</th>\n",
       "      <td>2</td>\n",
       "      <td>-6929.865299</td>\n",
       "      <td>35</td>\n",
       "      <td>ВЫСШЕЕ</td>\n",
       "      <td>0</td>\n",
       "      <td>гражданский брак</td>\n",
       "      <td>1</td>\n",
       "      <td>F</td>\n",
       "      <td>сотрудник</td>\n",
       "      <td>0</td>\n",
       "      <td>95856.832424</td>\n",
       "      <td>на проведение свадьбы</td>\n",
       "    </tr>\n",
       "    <tr>\n",
       "      <th>9</th>\n",
       "      <td>0</td>\n",
       "      <td>-2188.756445</td>\n",
       "      <td>41</td>\n",
       "      <td>среднее</td>\n",
       "      <td>1</td>\n",
       "      <td>женат / замужем</td>\n",
       "      <td>0</td>\n",
       "      <td>M</td>\n",
       "      <td>сотрудник</td>\n",
       "      <td>0</td>\n",
       "      <td>144425.938277</td>\n",
       "      <td>покупка жилья для семьи</td>\n",
       "    </tr>\n",
       "    <tr>\n",
       "      <th>10</th>\n",
       "      <td>2</td>\n",
       "      <td>-4171.483647</td>\n",
       "      <td>36</td>\n",
       "      <td>высшее</td>\n",
       "      <td>0</td>\n",
       "      <td>женат / замужем</td>\n",
       "      <td>0</td>\n",
       "      <td>M</td>\n",
       "      <td>компаньон</td>\n",
       "      <td>0</td>\n",
       "      <td>113943.491460</td>\n",
       "      <td>покупка недвижимости</td>\n",
       "    </tr>\n",
       "    <tr>\n",
       "      <th>11</th>\n",
       "      <td>0</td>\n",
       "      <td>-792.701887</td>\n",
       "      <td>40</td>\n",
       "      <td>среднее</td>\n",
       "      <td>1</td>\n",
       "      <td>женат / замужем</td>\n",
       "      <td>0</td>\n",
       "      <td>F</td>\n",
       "      <td>сотрудник</td>\n",
       "      <td>0</td>\n",
       "      <td>77069.234271</td>\n",
       "      <td>покупка коммерческой недвижимости</td>\n",
       "    </tr>\n",
       "    <tr>\n",
       "      <th>12</th>\n",
       "      <td>0</td>\n",
       "      <td>NaN</td>\n",
       "      <td>65</td>\n",
       "      <td>среднее</td>\n",
       "      <td>1</td>\n",
       "      <td>гражданский брак</td>\n",
       "      <td>1</td>\n",
       "      <td>M</td>\n",
       "      <td>пенсионер</td>\n",
       "      <td>0</td>\n",
       "      <td>NaN</td>\n",
       "      <td>сыграть свадьбу</td>\n",
       "    </tr>\n",
       "    <tr>\n",
       "      <th>13</th>\n",
       "      <td>0</td>\n",
       "      <td>-1846.641941</td>\n",
       "      <td>54</td>\n",
       "      <td>неоконченное высшее</td>\n",
       "      <td>2</td>\n",
       "      <td>женат / замужем</td>\n",
       "      <td>0</td>\n",
       "      <td>F</td>\n",
       "      <td>сотрудник</td>\n",
       "      <td>0</td>\n",
       "      <td>130458.228857</td>\n",
       "      <td>приобретение автомобиля</td>\n",
       "    </tr>\n",
       "    <tr>\n",
       "      <th>14</th>\n",
       "      <td>0</td>\n",
       "      <td>-1844.956182</td>\n",
       "      <td>56</td>\n",
       "      <td>высшее</td>\n",
       "      <td>0</td>\n",
       "      <td>гражданский брак</td>\n",
       "      <td>1</td>\n",
       "      <td>F</td>\n",
       "      <td>компаньон</td>\n",
       "      <td>1</td>\n",
       "      <td>165127.911772</td>\n",
       "      <td>покупка жилой недвижимости</td>\n",
       "    </tr>\n",
       "    <tr>\n",
       "      <th>15</th>\n",
       "      <td>1</td>\n",
       "      <td>-972.364419</td>\n",
       "      <td>26</td>\n",
       "      <td>среднее</td>\n",
       "      <td>1</td>\n",
       "      <td>женат / замужем</td>\n",
       "      <td>0</td>\n",
       "      <td>F</td>\n",
       "      <td>сотрудник</td>\n",
       "      <td>0</td>\n",
       "      <td>116820.904450</td>\n",
       "      <td>строительство собственной недвижимости</td>\n",
       "    </tr>\n",
       "    <tr>\n",
       "      <th>16</th>\n",
       "      <td>0</td>\n",
       "      <td>-1719.934226</td>\n",
       "      <td>35</td>\n",
       "      <td>среднее</td>\n",
       "      <td>1</td>\n",
       "      <td>женат / замужем</td>\n",
       "      <td>0</td>\n",
       "      <td>F</td>\n",
       "      <td>сотрудник</td>\n",
       "      <td>0</td>\n",
       "      <td>289202.704229</td>\n",
       "      <td>недвижимость</td>\n",
       "    </tr>\n",
       "    <tr>\n",
       "      <th>17</th>\n",
       "      <td>0</td>\n",
       "      <td>-2369.999720</td>\n",
       "      <td>33</td>\n",
       "      <td>высшее</td>\n",
       "      <td>0</td>\n",
       "      <td>гражданский брак</td>\n",
       "      <td>1</td>\n",
       "      <td>M</td>\n",
       "      <td>сотрудник</td>\n",
       "      <td>0</td>\n",
       "      <td>90410.586745</td>\n",
       "      <td>строительство недвижимости</td>\n",
       "    </tr>\n",
       "    <tr>\n",
       "      <th>18</th>\n",
       "      <td>0</td>\n",
       "      <td>400281.136913</td>\n",
       "      <td>53</td>\n",
       "      <td>среднее</td>\n",
       "      <td>1</td>\n",
       "      <td>вдовец / вдова</td>\n",
       "      <td>2</td>\n",
       "      <td>F</td>\n",
       "      <td>пенсионер</td>\n",
       "      <td>0</td>\n",
       "      <td>56823.777243</td>\n",
       "      <td>на покупку подержанного автомобиля</td>\n",
       "    </tr>\n",
       "    <tr>\n",
       "      <th>19</th>\n",
       "      <td>0</td>\n",
       "      <td>-10038.818549</td>\n",
       "      <td>48</td>\n",
       "      <td>СРЕДНЕЕ</td>\n",
       "      <td>1</td>\n",
       "      <td>в разводе</td>\n",
       "      <td>3</td>\n",
       "      <td>F</td>\n",
       "      <td>сотрудник</td>\n",
       "      <td>0</td>\n",
       "      <td>242831.107982</td>\n",
       "      <td>на покупку своего автомобиля</td>\n",
       "    </tr>\n",
       "  </tbody>\n",
       "</table>\n",
       "</div>"
      ],
      "text/plain": [
       "    children  days_employed  dob_years            education  education_id  \\\n",
       "0          1   -8437.673028         42               высшее             0   \n",
       "1          1   -4024.803754         36              среднее             1   \n",
       "2          0   -5623.422610         33              Среднее             1   \n",
       "3          3   -4124.747207         32              среднее             1   \n",
       "4          0  340266.072047         53              среднее             1   \n",
       "5          0    -926.185831         27               высшее             0   \n",
       "6          0   -2879.202052         43               высшее             0   \n",
       "7          0    -152.779569         50              СРЕДНЕЕ             1   \n",
       "8          2   -6929.865299         35               ВЫСШЕЕ             0   \n",
       "9          0   -2188.756445         41              среднее             1   \n",
       "10         2   -4171.483647         36               высшее             0   \n",
       "11         0    -792.701887         40              среднее             1   \n",
       "12         0            NaN         65              среднее             1   \n",
       "13         0   -1846.641941         54  неоконченное высшее             2   \n",
       "14         0   -1844.956182         56               высшее             0   \n",
       "15         1    -972.364419         26              среднее             1   \n",
       "16         0   -1719.934226         35              среднее             1   \n",
       "17         0   -2369.999720         33               высшее             0   \n",
       "18         0  400281.136913         53              среднее             1   \n",
       "19         0  -10038.818549         48              СРЕДНЕЕ             1   \n",
       "\n",
       "       family_status  family_status_id gender income_type  debt  \\\n",
       "0    женат / замужем                 0      F   сотрудник     0   \n",
       "1    женат / замужем                 0      F   сотрудник     0   \n",
       "2    женат / замужем                 0      M   сотрудник     0   \n",
       "3    женат / замужем                 0      M   сотрудник     0   \n",
       "4   гражданский брак                 1      F   пенсионер     0   \n",
       "5   гражданский брак                 1      M   компаньон     0   \n",
       "6    женат / замужем                 0      F   компаньон     0   \n",
       "7    женат / замужем                 0      M   сотрудник     0   \n",
       "8   гражданский брак                 1      F   сотрудник     0   \n",
       "9    женат / замужем                 0      M   сотрудник     0   \n",
       "10   женат / замужем                 0      M   компаньон     0   \n",
       "11   женат / замужем                 0      F   сотрудник     0   \n",
       "12  гражданский брак                 1      M   пенсионер     0   \n",
       "13   женат / замужем                 0      F   сотрудник     0   \n",
       "14  гражданский брак                 1      F   компаньон     1   \n",
       "15   женат / замужем                 0      F   сотрудник     0   \n",
       "16   женат / замужем                 0      F   сотрудник     0   \n",
       "17  гражданский брак                 1      M   сотрудник     0   \n",
       "18    вдовец / вдова                 2      F   пенсионер     0   \n",
       "19         в разводе                 3      F   сотрудник     0   \n",
       "\n",
       "     total_income                                 purpose  \n",
       "0   253875.639453                           покупка жилья  \n",
       "1   112080.014102                 приобретение автомобиля  \n",
       "2   145885.952297                           покупка жилья  \n",
       "3   267628.550329              дополнительное образование  \n",
       "4   158616.077870                         сыграть свадьбу  \n",
       "5   255763.565419                           покупка жилья  \n",
       "6   240525.971920                       операции с жильем  \n",
       "7   135823.934197                             образование  \n",
       "8    95856.832424                   на проведение свадьбы  \n",
       "9   144425.938277                 покупка жилья для семьи  \n",
       "10  113943.491460                    покупка недвижимости  \n",
       "11   77069.234271       покупка коммерческой недвижимости  \n",
       "12            NaN                         сыграть свадьбу  \n",
       "13  130458.228857                 приобретение автомобиля  \n",
       "14  165127.911772              покупка жилой недвижимости  \n",
       "15  116820.904450  строительство собственной недвижимости  \n",
       "16  289202.704229                            недвижимость  \n",
       "17   90410.586745              строительство недвижимости  \n",
       "18   56823.777243      на покупку подержанного автомобиля  \n",
       "19  242831.107982            на покупку своего автомобиля  "
      ]
     },
     "execution_count": 2,
     "metadata": {},
     "output_type": "execute_result"
    }
   ],
   "source": [
    "data.head(20)"
   ]
  },
  {
   "cell_type": "markdown",
   "id": "0ed8f27f",
   "metadata": {
    "deletable": false,
    "editable": false,
    "id": "0ed8f27f"
   },
   "source": [
    "**Задание 3. Выведите основную информацию о датафрейме с помощью метода `info()`.**"
   ]
  },
  {
   "cell_type": "code",
   "execution_count": 3,
   "id": "ab3f863b",
   "metadata": {
    "deletable": false,
    "id": "ab3f863b",
    "outputId": "15376089-8dad-46c9-b520-c05248d43158"
   },
   "outputs": [
    {
     "name": "stdout",
     "output_type": "stream",
     "text": [
      "<class 'pandas.core.frame.DataFrame'>\n",
      "RangeIndex: 21525 entries, 0 to 21524\n",
      "Data columns (total 12 columns):\n",
      " #   Column            Non-Null Count  Dtype  \n",
      "---  ------            --------------  -----  \n",
      " 0   children          21525 non-null  int64  \n",
      " 1   days_employed     19351 non-null  float64\n",
      " 2   dob_years         21525 non-null  int64  \n",
      " 3   education         21525 non-null  object \n",
      " 4   education_id      21525 non-null  int64  \n",
      " 5   family_status     21525 non-null  object \n",
      " 6   family_status_id  21525 non-null  int64  \n",
      " 7   gender            21525 non-null  object \n",
      " 8   income_type       21525 non-null  object \n",
      " 9   debt              21525 non-null  int64  \n",
      " 10  total_income      19351 non-null  float64\n",
      " 11  purpose           21525 non-null  object \n",
      "dtypes: float64(2), int64(5), object(5)\n",
      "memory usage: 2.0+ MB\n"
     ]
    }
   ],
   "source": [
    "data.info()"
   ]
  },
  {
   "cell_type": "markdown",
   "id": "60e3e22d",
   "metadata": {
    "deletable": false,
    "editable": false,
    "id": "60e3e22d"
   },
   "source": [
    "## Предобработка данных"
   ]
  },
  {
   "cell_type": "markdown",
   "id": "03dc170c",
   "metadata": {
    "deletable": false,
    "editable": false,
    "id": "03dc170c"
   },
   "source": [
    "### Удаление пропусков"
   ]
  },
  {
   "cell_type": "markdown",
   "id": "a4f54eef",
   "metadata": {
    "deletable": false,
    "editable": false,
    "id": "a4f54eef"
   },
   "source": [
    "**Задание 4. Выведите количество пропущенных значений для каждого столбца. Используйте комбинацию двух методов.**"
   ]
  },
  {
   "cell_type": "code",
   "execution_count": 4,
   "id": "2dc372b2",
   "metadata": {
    "deletable": false,
    "id": "2dc372b2",
    "outputId": "81f4d817-781c-465c-ed15-91ce4446810d"
   },
   "outputs": [
    {
     "data": {
      "text/plain": [
       "children               0\n",
       "days_employed       2174\n",
       "dob_years              0\n",
       "education              0\n",
       "education_id           0\n",
       "family_status          0\n",
       "family_status_id       0\n",
       "gender                 0\n",
       "income_type            0\n",
       "debt                   0\n",
       "total_income        2174\n",
       "purpose                0\n",
       "dtype: int64"
      ]
     },
     "execution_count": 4,
     "metadata": {},
     "output_type": "execute_result"
    }
   ],
   "source": [
    "data.isna().sum()"
   ]
  },
  {
   "cell_type": "markdown",
   "id": "14f011b1",
   "metadata": {
    "deletable": false,
    "editable": false,
    "id": "14f011b1"
   },
   "source": [
    "**Задание 5. В двух столбцах есть пропущенные значения. Один из них — `days_employed`. Пропуски в этом столбце вы обработаете на следующем этапе. Другой столбец с пропущенными значениями — `total_income` — хранит данные о доходах. На сумму дохода сильнее всего влияет тип занятости, поэтому заполнить пропуски в этом столбце нужно медианным значением по каждому типу из столбца `income_type`. Например, у человека с типом занятости `сотрудник` пропуск в столбце `total_income` должен быть заполнен медианным доходом среди всех записей с тем же типом.**"
   ]
  },
  {
   "cell_type": "code",
   "execution_count": 5,
   "id": "bdabfb6e",
   "metadata": {
    "deletable": false,
    "id": "bdabfb6e"
   },
   "outputs": [],
   "source": [
    "for t in data['income_type'].unique():\n",
    "    data.loc[(data['income_type'] == t) & (data['total_income'].isna()), 'total_income'] = \\\n",
    "    data.loc[(data['income_type'] == t), 'total_income'].median()"
   ]
  },
  {
   "cell_type": "markdown",
   "id": "5be34059",
   "metadata": {
    "deletable": false,
    "editable": false,
    "id": "5be34059"
   },
   "source": [
    "### Обработка аномальных значений"
   ]
  },
  {
   "cell_type": "markdown",
   "id": "a87606cb",
   "metadata": {
    "deletable": false,
    "editable": false,
    "id": "a87606cb"
   },
   "source": [
    "**Задание 6. В данных могут встречаться артефакты (аномалии) — значения, которые не отражают действительность и появились по какой-то ошибке. таким артефактом будет отрицательное количество дней трудового стажа в столбце `days_employed`. Для реальных данных это нормально. Обработайте значения в этом столбце: замените все отрицательные значения положительными с помощью метода `abs()`.**"
   ]
  },
  {
   "cell_type": "code",
   "execution_count": 6,
   "id": "020c46cc",
   "metadata": {
    "deletable": false,
    "id": "020c46cc"
   },
   "outputs": [],
   "source": [
    "data['days_employed'] = data['days_employed'].abs()"
   ]
  },
  {
   "cell_type": "markdown",
   "id": "45538a3a",
   "metadata": {
    "deletable": false,
    "editable": false,
    "id": "45538a3a"
   },
   "source": [
    "**Задание 7. Для каждого типа занятости выведите медианное значение трудового стажа `days_employed` в днях.**"
   ]
  },
  {
   "cell_type": "code",
   "execution_count": 7,
   "id": "cd3e6328",
   "metadata": {
    "deletable": false,
    "id": "cd3e6328",
    "outputId": "801ef80e-522b-4668-f34e-565af7432bcf"
   },
   "outputs": [
    {
     "data": {
      "text/plain": [
       "income_type\n",
       "безработный        366413.652744\n",
       "в декрете            3296.759962\n",
       "госслужащий          2689.368353\n",
       "компаньон            1547.382223\n",
       "пенсионер          365213.306266\n",
       "предприниматель       520.848083\n",
       "сотрудник            1574.202821\n",
       "студент               578.751554\n",
       "Name: days_employed, dtype: float64"
      ]
     },
     "execution_count": 7,
     "metadata": {},
     "output_type": "execute_result"
    }
   ],
   "source": [
    "data.groupby('income_type')['days_employed'].agg('median')"
   ]
  },
  {
   "cell_type": "markdown",
   "id": "90c5f058",
   "metadata": {
    "deletable": false,
    "editable": false,
    "id": "90c5f058"
   },
   "source": [
    "У двух типов (безработные и пенсионеры) получатся аномально большие значения. Исправить такие значения сложно, поэтому оставьте их как есть."
   ]
  },
  {
   "cell_type": "markdown",
   "id": "9652e50d",
   "metadata": {
    "deletable": false,
    "editable": false,
    "id": "9652e50d"
   },
   "source": [
    "**Задание 8. Выведите перечень уникальных значений столбца `children`.**"
   ]
  },
  {
   "cell_type": "code",
   "execution_count": 8,
   "id": "dbb37b8e",
   "metadata": {
    "deletable": false,
    "id": "dbb37b8e",
    "outputId": "6975b15c-7f95-4697-d16d-a0c79b657b03"
   },
   "outputs": [
    {
     "data": {
      "text/plain": [
       "array([ 1,  0,  3,  2, -1,  4, 20,  5], dtype=int64)"
      ]
     },
     "execution_count": 8,
     "metadata": {},
     "output_type": "execute_result"
    }
   ],
   "source": [
    "data['children'].unique()"
   ]
  },
  {
   "cell_type": "markdown",
   "id": "2b8b0715",
   "metadata": {
    "deletable": false,
    "editable": false,
    "id": "2b8b0715"
   },
   "source": [
    "**Задание 9. В столбце `children` есть два аномальных значения. Удалите строки, в которых встречаются такие аномальные значения из датафрейма `data`.**"
   ]
  },
  {
   "cell_type": "code",
   "execution_count": 9,
   "id": "20009df8",
   "metadata": {
    "deletable": false,
    "id": "20009df8"
   },
   "outputs": [],
   "source": [
    "data = data[(data['children'] != -1) & (data['children'] != 20)]"
   ]
  },
  {
   "cell_type": "markdown",
   "id": "8c6ac9f1",
   "metadata": {
    "deletable": false,
    "editable": false,
    "id": "8c6ac9f1"
   },
   "source": [
    "**Задание 10. Ещё раз выведите перечень уникальных значений столбца `children`, чтобы убедиться, что артефакты удалены.**"
   ]
  },
  {
   "cell_type": "code",
   "execution_count": 10,
   "id": "07337b81",
   "metadata": {
    "deletable": false,
    "id": "07337b81",
    "outputId": "b2097101-d49d-44d9-901b-32a65c9463d1"
   },
   "outputs": [
    {
     "data": {
      "text/plain": [
       "array([1, 0, 3, 2, 4, 5], dtype=int64)"
      ]
     },
     "execution_count": 10,
     "metadata": {},
     "output_type": "execute_result"
    }
   ],
   "source": [
    "data['children'].unique()"
   ]
  },
  {
   "cell_type": "markdown",
   "id": "ee3f52d4",
   "metadata": {
    "deletable": false,
    "editable": false,
    "id": "ee3f52d4"
   },
   "source": [
    "### Удаление пропусков (продолжение)"
   ]
  },
  {
   "cell_type": "markdown",
   "id": "a700b0e4",
   "metadata": {
    "deletable": false,
    "editable": false,
    "id": "a700b0e4"
   },
   "source": [
    "**Задание 11. Заполните пропуски в столбце `days_employed` медианными значениями по каждого типа занятости `income_type`.**"
   ]
  },
  {
   "cell_type": "code",
   "execution_count": 11,
   "id": "61946b83",
   "metadata": {
    "deletable": false,
    "id": "61946b83"
   },
   "outputs": [],
   "source": [
    "for t in data['income_type'].unique():\n",
    "    data.loc[(data['income_type'] == t) & (data['days_employed'].isna()), 'days_employed'] = \\\n",
    "    data.loc[(data['income_type'] == t), 'days_employed'].median()"
   ]
  },
  {
   "cell_type": "markdown",
   "id": "550dcd9b",
   "metadata": {
    "deletable": false,
    "editable": false,
    "id": "550dcd9b"
   },
   "source": [
    "**Задание 12. Убедитесь, что все пропуски заполнены. Проверьте себя и ещё раз выведите количество пропущенных значений для каждого столбца с помощью двух методов.**"
   ]
  },
  {
   "cell_type": "code",
   "execution_count": 12,
   "id": "937c7014",
   "metadata": {
    "deletable": false,
    "id": "937c7014",
    "outputId": "8da1e4e1-358e-4e87-98c9-f261bce0a7b2"
   },
   "outputs": [
    {
     "data": {
      "text/plain": [
       "children            0\n",
       "days_employed       0\n",
       "dob_years           0\n",
       "education           0\n",
       "education_id        0\n",
       "family_status       0\n",
       "family_status_id    0\n",
       "gender              0\n",
       "income_type         0\n",
       "debt                0\n",
       "total_income        0\n",
       "purpose             0\n",
       "dtype: int64"
      ]
     },
     "execution_count": 12,
     "metadata": {},
     "output_type": "execute_result"
    }
   ],
   "source": [
    "data.isna().sum()"
   ]
  },
  {
   "cell_type": "markdown",
   "id": "d522e295",
   "metadata": {
    "deletable": false,
    "editable": false,
    "id": "d522e295"
   },
   "source": [
    "### Изменение типов данных"
   ]
  },
  {
   "cell_type": "markdown",
   "id": "c229c581",
   "metadata": {
    "deletable": false,
    "editable": false,
    "id": "c229c581"
   },
   "source": [
    "**Задание 13. Замените вещественный тип данных в столбце `total_income` на целочисленный с помощью метода `astype()`.**"
   ]
  },
  {
   "cell_type": "code",
   "execution_count": 13,
   "id": "31036462",
   "metadata": {
    "deletable": false,
    "id": "31036462"
   },
   "outputs": [],
   "source": [
    "data['total_income'] = data['total_income'].astype(int)"
   ]
  },
  {
   "cell_type": "markdown",
   "id": "b8e3d1d9",
   "metadata": {
    "deletable": false,
    "editable": false,
    "id": "b8e3d1d9"
   },
   "source": [
    "### Обработка дубликатов"
   ]
  },
  {
   "cell_type": "markdown",
   "id": "9be53c49",
   "metadata": {
    "deletable": false,
    "editable": false,
    "id": "9be53c49"
   },
   "source": [
    "**Задание 14. Обработайте неявные дубликаты в столбце `education`. В этом столбце есть одни и те же значения, но записанные по-разному: с использованием заглавных и строчных букв. Приведите их к нижнему регистру.**"
   ]
  },
  {
   "cell_type": "code",
   "execution_count": 14,
   "id": "d89e73e1",
   "metadata": {
    "deletable": false,
    "id": "d89e73e1"
   },
   "outputs": [],
   "source": [
    "data['education'] = data['education'].str.lower()"
   ]
  },
  {
   "cell_type": "markdown",
   "id": "01d4500e",
   "metadata": {
    "deletable": false,
    "editable": false,
    "id": "01d4500e"
   },
   "source": [
    "**Задание 15. Выведите на экран количество строк-дубликатов в данных. Если такие строки присутствуют, удалите их.**"
   ]
  },
  {
   "cell_type": "code",
   "execution_count": 15,
   "id": "e10efb23",
   "metadata": {
    "deletable": false,
    "id": "e10efb23",
    "outputId": "9684deba-1934-42d1-99e1-cda61740f822"
   },
   "outputs": [
    {
     "data": {
      "text/plain": [
       "71"
      ]
     },
     "execution_count": 15,
     "metadata": {},
     "output_type": "execute_result"
    }
   ],
   "source": [
    "data.duplicated().sum()"
   ]
  },
  {
   "cell_type": "code",
   "execution_count": 16,
   "id": "df853f20",
   "metadata": {
    "deletable": false,
    "id": "df853f20"
   },
   "outputs": [],
   "source": [
    "data = data.drop_duplicates()"
   ]
  },
  {
   "cell_type": "markdown",
   "id": "627be38f",
   "metadata": {
    "deletable": false,
    "editable": false,
    "id": "627be38f"
   },
   "source": [
    "### Категоризация данных"
   ]
  },
  {
   "cell_type": "markdown",
   "id": "4684c3e0",
   "metadata": {
    "deletable": false,
    "editable": false,
    "id": "4684c3e0"
   },
   "source": [
    "**Задание 16. На основании диапазонов, указанных ниже, создайте в датафрейме `data` столбец `total_income_category` с категориями:**\n",
    "\n",
    "- 0–30000 — `'E'`;\n",
    "- 30001–50000 — `'D'`;\n",
    "- 50001–200000 — `'C'`;\n",
    "- 200001–1000000 — `'B'`;\n",
    "- 1000001 и выше — `'A'`.\n",
    "\n",
    "\n",
    "**Например, кредитополучателю с доходом 25000 нужно назначить категорию `'E'`, а клиенту, получающему 235000, — `'B'`. Используйте собственную функцию с именем `categorize_income()` и метод `apply()`.**"
   ]
  },
  {
   "cell_type": "code",
   "execution_count": 17,
   "id": "78965238",
   "metadata": {
    "deletable": false,
    "id": "78965238"
   },
   "outputs": [],
   "source": [
    "def categorize_income(income):\n",
    "    try:\n",
    "        if 0 <= income <= 30000:\n",
    "            return 'E'\n",
    "        elif 30001 <= income <= 50000:\n",
    "            return 'D'\n",
    "        elif 50001 <= income <= 200000:\n",
    "            return 'C'\n",
    "        elif 200001 <= income <= 1000000:\n",
    "            return 'B'\n",
    "        elif income >= 1000001:\n",
    "            return 'A'\n",
    "    except:\n",
    "        pass"
   ]
  },
  {
   "cell_type": "code",
   "execution_count": 18,
   "id": "0980ada1",
   "metadata": {
    "deletable": false,
    "id": "0980ada1"
   },
   "outputs": [],
   "source": [
    "data['total_income_category'] = data['total_income'].apply(categorize_income)\n"
   ]
  },
  {
   "cell_type": "markdown",
   "id": "9917bba0",
   "metadata": {
    "deletable": false,
    "editable": false,
    "id": "9917bba0"
   },
   "source": [
    "**Задание 17. Выведите на экран перечень уникальных целей взятия кредита из столбца `purpose`.**"
   ]
  },
  {
   "cell_type": "code",
   "execution_count": 19,
   "id": "ee07b65e",
   "metadata": {
    "deletable": false,
    "id": "ee07b65e",
    "outputId": "673c12d9-7d7e-4ae0-9812-c622c89dd244"
   },
   "outputs": [
    {
     "data": {
      "text/plain": [
       "array(['покупка жилья', 'приобретение автомобиля',\n",
       "       'дополнительное образование', 'сыграть свадьбу',\n",
       "       'операции с жильем', 'образование', 'на проведение свадьбы',\n",
       "       'покупка жилья для семьи', 'покупка недвижимости',\n",
       "       'покупка коммерческой недвижимости', 'покупка жилой недвижимости',\n",
       "       'строительство собственной недвижимости', 'недвижимость',\n",
       "       'строительство недвижимости', 'на покупку подержанного автомобиля',\n",
       "       'на покупку своего автомобиля',\n",
       "       'операции с коммерческой недвижимостью',\n",
       "       'строительство жилой недвижимости', 'жилье',\n",
       "       'операции со своей недвижимостью', 'автомобили',\n",
       "       'заняться образованием', 'сделка с подержанным автомобилем',\n",
       "       'получение образования', 'автомобиль', 'свадьба',\n",
       "       'получение дополнительного образования', 'покупка своего жилья',\n",
       "       'операции с недвижимостью', 'получение высшего образования',\n",
       "       'свой автомобиль', 'сделка с автомобилем',\n",
       "       'профильное образование', 'высшее образование',\n",
       "       'покупка жилья для сдачи', 'на покупку автомобиля', 'ремонт жилью',\n",
       "       'заняться высшим образованием'], dtype=object)"
      ]
     },
     "execution_count": 19,
     "metadata": {},
     "output_type": "execute_result"
    }
   ],
   "source": [
    "data['purpose'].unique()"
   ]
  },
  {
   "cell_type": "markdown",
   "id": "52b79d56",
   "metadata": {
    "deletable": false,
    "editable": false,
    "id": "52b79d56"
   },
   "source": [
    "**Задание 18. Создайте функцию, которая на основании данных из столбца `purpose` сформирует новый столбец `purpose_category`, в который войдут следующие категории:**\n",
    "\n",
    "- `'операции с автомобилем'`,\n",
    "- `'операции с недвижимостью'`,\n",
    "- `'проведение свадьбы'`,\n",
    "- `'получение образования'`.\n",
    "\n",
    "**Например, если в столбце `purpose` находится подстрока `'на покупку автомобиля'`, то в столбце `purpose_category` должна появиться строка `'операции с автомобилем'`.**\n",
    "\n",
    "**Используйте собственную функцию с именем `categorize_purpose()` и метод `apply()`. Изучите данные в столбце `purpose` и определите, какие подстроки помогут вам правильно определить категорию.**"
   ]
  },
  {
   "cell_type": "code",
   "execution_count": 20,
   "id": "be41da5d",
   "metadata": {
    "deletable": false,
    "id": "be41da5d"
   },
   "outputs": [],
   "source": [
    "def categorize_purpose(row):\n",
    "    try:\n",
    "        if 'автом' in row:\n",
    "            return 'операции с автомобилем'\n",
    "        elif 'жил' in row or 'недвиж' in row:\n",
    "            return 'операции с недвижимостью'\n",
    "        elif 'свад' in row:\n",
    "            return 'проведение свадьбы'\n",
    "        elif 'образов' in row:\n",
    "            return 'получение образования'\n",
    "    except:\n",
    "        return 'нет категории'"
   ]
  },
  {
   "cell_type": "code",
   "execution_count": 21,
   "id": "94c4a19a",
   "metadata": {
    "deletable": false,
    "id": "94c4a19a"
   },
   "outputs": [
    {
     "data": {
      "text/html": [
       "<div>\n",
       "<style scoped>\n",
       "    .dataframe tbody tr th:only-of-type {\n",
       "        vertical-align: middle;\n",
       "    }\n",
       "\n",
       "    .dataframe tbody tr th {\n",
       "        vertical-align: top;\n",
       "    }\n",
       "\n",
       "    .dataframe thead th {\n",
       "        text-align: right;\n",
       "    }\n",
       "</style>\n",
       "<table border=\"1\" class=\"dataframe\">\n",
       "  <thead>\n",
       "    <tr style=\"text-align: right;\">\n",
       "      <th></th>\n",
       "      <th>children</th>\n",
       "      <th>days_employed</th>\n",
       "      <th>dob_years</th>\n",
       "      <th>education</th>\n",
       "      <th>education_id</th>\n",
       "      <th>family_status</th>\n",
       "      <th>family_status_id</th>\n",
       "      <th>gender</th>\n",
       "      <th>income_type</th>\n",
       "      <th>debt</th>\n",
       "      <th>total_income</th>\n",
       "      <th>purpose</th>\n",
       "      <th>total_income_category</th>\n",
       "      <th>purpose_category</th>\n",
       "    </tr>\n",
       "  </thead>\n",
       "  <tbody>\n",
       "    <tr>\n",
       "      <th>0</th>\n",
       "      <td>1</td>\n",
       "      <td>8437.673028</td>\n",
       "      <td>42</td>\n",
       "      <td>высшее</td>\n",
       "      <td>0</td>\n",
       "      <td>женат / замужем</td>\n",
       "      <td>0</td>\n",
       "      <td>F</td>\n",
       "      <td>сотрудник</td>\n",
       "      <td>0</td>\n",
       "      <td>253875</td>\n",
       "      <td>покупка жилья</td>\n",
       "      <td>B</td>\n",
       "      <td>операции с недвижимостью</td>\n",
       "    </tr>\n",
       "    <tr>\n",
       "      <th>1</th>\n",
       "      <td>1</td>\n",
       "      <td>4024.803754</td>\n",
       "      <td>36</td>\n",
       "      <td>среднее</td>\n",
       "      <td>1</td>\n",
       "      <td>женат / замужем</td>\n",
       "      <td>0</td>\n",
       "      <td>F</td>\n",
       "      <td>сотрудник</td>\n",
       "      <td>0</td>\n",
       "      <td>112080</td>\n",
       "      <td>приобретение автомобиля</td>\n",
       "      <td>C</td>\n",
       "      <td>операции с автомобилем</td>\n",
       "    </tr>\n",
       "    <tr>\n",
       "      <th>2</th>\n",
       "      <td>0</td>\n",
       "      <td>5623.422610</td>\n",
       "      <td>33</td>\n",
       "      <td>среднее</td>\n",
       "      <td>1</td>\n",
       "      <td>женат / замужем</td>\n",
       "      <td>0</td>\n",
       "      <td>M</td>\n",
       "      <td>сотрудник</td>\n",
       "      <td>0</td>\n",
       "      <td>145885</td>\n",
       "      <td>покупка жилья</td>\n",
       "      <td>C</td>\n",
       "      <td>операции с недвижимостью</td>\n",
       "    </tr>\n",
       "    <tr>\n",
       "      <th>3</th>\n",
       "      <td>3</td>\n",
       "      <td>4124.747207</td>\n",
       "      <td>32</td>\n",
       "      <td>среднее</td>\n",
       "      <td>1</td>\n",
       "      <td>женат / замужем</td>\n",
       "      <td>0</td>\n",
       "      <td>M</td>\n",
       "      <td>сотрудник</td>\n",
       "      <td>0</td>\n",
       "      <td>267628</td>\n",
       "      <td>дополнительное образование</td>\n",
       "      <td>B</td>\n",
       "      <td>получение образования</td>\n",
       "    </tr>\n",
       "    <tr>\n",
       "      <th>4</th>\n",
       "      <td>0</td>\n",
       "      <td>340266.072047</td>\n",
       "      <td>53</td>\n",
       "      <td>среднее</td>\n",
       "      <td>1</td>\n",
       "      <td>гражданский брак</td>\n",
       "      <td>1</td>\n",
       "      <td>F</td>\n",
       "      <td>пенсионер</td>\n",
       "      <td>0</td>\n",
       "      <td>158616</td>\n",
       "      <td>сыграть свадьбу</td>\n",
       "      <td>C</td>\n",
       "      <td>проведение свадьбы</td>\n",
       "    </tr>\n",
       "    <tr>\n",
       "      <th>5</th>\n",
       "      <td>0</td>\n",
       "      <td>926.185831</td>\n",
       "      <td>27</td>\n",
       "      <td>высшее</td>\n",
       "      <td>0</td>\n",
       "      <td>гражданский брак</td>\n",
       "      <td>1</td>\n",
       "      <td>M</td>\n",
       "      <td>компаньон</td>\n",
       "      <td>0</td>\n",
       "      <td>255763</td>\n",
       "      <td>покупка жилья</td>\n",
       "      <td>B</td>\n",
       "      <td>операции с недвижимостью</td>\n",
       "    </tr>\n",
       "    <tr>\n",
       "      <th>6</th>\n",
       "      <td>0</td>\n",
       "      <td>2879.202052</td>\n",
       "      <td>43</td>\n",
       "      <td>высшее</td>\n",
       "      <td>0</td>\n",
       "      <td>женат / замужем</td>\n",
       "      <td>0</td>\n",
       "      <td>F</td>\n",
       "      <td>компаньон</td>\n",
       "      <td>0</td>\n",
       "      <td>240525</td>\n",
       "      <td>операции с жильем</td>\n",
       "      <td>B</td>\n",
       "      <td>операции с недвижимостью</td>\n",
       "    </tr>\n",
       "    <tr>\n",
       "      <th>7</th>\n",
       "      <td>0</td>\n",
       "      <td>152.779569</td>\n",
       "      <td>50</td>\n",
       "      <td>среднее</td>\n",
       "      <td>1</td>\n",
       "      <td>женат / замужем</td>\n",
       "      <td>0</td>\n",
       "      <td>M</td>\n",
       "      <td>сотрудник</td>\n",
       "      <td>0</td>\n",
       "      <td>135823</td>\n",
       "      <td>образование</td>\n",
       "      <td>C</td>\n",
       "      <td>получение образования</td>\n",
       "    </tr>\n",
       "    <tr>\n",
       "      <th>8</th>\n",
       "      <td>2</td>\n",
       "      <td>6929.865299</td>\n",
       "      <td>35</td>\n",
       "      <td>высшее</td>\n",
       "      <td>0</td>\n",
       "      <td>гражданский брак</td>\n",
       "      <td>1</td>\n",
       "      <td>F</td>\n",
       "      <td>сотрудник</td>\n",
       "      <td>0</td>\n",
       "      <td>95856</td>\n",
       "      <td>на проведение свадьбы</td>\n",
       "      <td>C</td>\n",
       "      <td>проведение свадьбы</td>\n",
       "    </tr>\n",
       "    <tr>\n",
       "      <th>9</th>\n",
       "      <td>0</td>\n",
       "      <td>2188.756445</td>\n",
       "      <td>41</td>\n",
       "      <td>среднее</td>\n",
       "      <td>1</td>\n",
       "      <td>женат / замужем</td>\n",
       "      <td>0</td>\n",
       "      <td>M</td>\n",
       "      <td>сотрудник</td>\n",
       "      <td>0</td>\n",
       "      <td>144425</td>\n",
       "      <td>покупка жилья для семьи</td>\n",
       "      <td>C</td>\n",
       "      <td>операции с недвижимостью</td>\n",
       "    </tr>\n",
       "  </tbody>\n",
       "</table>\n",
       "</div>"
      ],
      "text/plain": [
       "   children  days_employed  dob_years education  education_id  \\\n",
       "0         1    8437.673028         42    высшее             0   \n",
       "1         1    4024.803754         36   среднее             1   \n",
       "2         0    5623.422610         33   среднее             1   \n",
       "3         3    4124.747207         32   среднее             1   \n",
       "4         0  340266.072047         53   среднее             1   \n",
       "5         0     926.185831         27    высшее             0   \n",
       "6         0    2879.202052         43    высшее             0   \n",
       "7         0     152.779569         50   среднее             1   \n",
       "8         2    6929.865299         35    высшее             0   \n",
       "9         0    2188.756445         41   среднее             1   \n",
       "\n",
       "      family_status  family_status_id gender income_type  debt  total_income  \\\n",
       "0   женат / замужем                 0      F   сотрудник     0        253875   \n",
       "1   женат / замужем                 0      F   сотрудник     0        112080   \n",
       "2   женат / замужем                 0      M   сотрудник     0        145885   \n",
       "3   женат / замужем                 0      M   сотрудник     0        267628   \n",
       "4  гражданский брак                 1      F   пенсионер     0        158616   \n",
       "5  гражданский брак                 1      M   компаньон     0        255763   \n",
       "6   женат / замужем                 0      F   компаньон     0        240525   \n",
       "7   женат / замужем                 0      M   сотрудник     0        135823   \n",
       "8  гражданский брак                 1      F   сотрудник     0         95856   \n",
       "9   женат / замужем                 0      M   сотрудник     0        144425   \n",
       "\n",
       "                      purpose total_income_category          purpose_category  \n",
       "0               покупка жилья                     B  операции с недвижимостью  \n",
       "1     приобретение автомобиля                     C    операции с автомобилем  \n",
       "2               покупка жилья                     C  операции с недвижимостью  \n",
       "3  дополнительное образование                     B     получение образования  \n",
       "4             сыграть свадьбу                     C        проведение свадьбы  \n",
       "5               покупка жилья                     B  операции с недвижимостью  \n",
       "6           операции с жильем                     B  операции с недвижимостью  \n",
       "7                 образование                     C     получение образования  \n",
       "8       на проведение свадьбы                     C        проведение свадьбы  \n",
       "9     покупка жилья для семьи                     C  операции с недвижимостью  "
      ]
     },
     "execution_count": 21,
     "metadata": {},
     "output_type": "execute_result"
    }
   ],
   "source": [
    "data['purpose_category'] = data['purpose'].apply(categorize_purpose)\n",
    "data.head(10)"
   ]
  },
  {
   "cell_type": "markdown",
   "id": "3d596c34",
   "metadata": {
    "deletable": false,
    "editable": false,
    "id": "3d596c34"
   },
   "source": [
    "### Шаг 3. Исследуйте данные и ответьте на вопросы"
   ]
  },
  {
   "cell_type": "markdown",
   "id": "648db036",
   "metadata": {
    "deletable": false,
    "editable": false,
    "id": "648db036"
   },
   "source": [
    "#### 3.1 Есть ли зависимость между количеством детей и возвратом кредита в срок?"
   ]
  },
  {
   "cell_type": "code",
   "execution_count": 22,
   "id": "7fcff25e",
   "metadata": {
    "deletable": false,
    "id": "7fcff25e"
   },
   "outputs": [
    {
     "data": {
      "text/plain": [
       "children\n",
       "0    14091\n",
       "1     4808\n",
       "2     2052\n",
       "3      330\n",
       "4       41\n",
       "5        9\n",
       "Name: children, dtype: int64"
      ]
     },
     "execution_count": 22,
     "metadata": {},
     "output_type": "execute_result"
    }
   ],
   "source": [
    "# Ваш код будет здесь. Вы можете создавать новые ячейки.\n",
    "borrower_with_children = data.groupby('children')['children'].count() # количество заемщиков по количеству детей\n",
    "borrower_with_children"
   ]
  },
  {
   "cell_type": "code",
   "execution_count": 23,
   "id": "2a8ba329",
   "metadata": {},
   "outputs": [
    {
     "data": {
      "text/plain": [
       "children\n",
       "0    1063\n",
       "1     444\n",
       "2     194\n",
       "3      27\n",
       "4       4\n",
       "5       0\n",
       "Name: debt, dtype: int64"
      ]
     },
     "execution_count": 23,
     "metadata": {},
     "output_type": "execute_result"
    }
   ],
   "source": [
    "borrower_debt_with_children = data.groupby('children')['debt'].sum()  # количество заемщиков имевших задолженность по количеству детей\n",
    "borrower_debt_with_children\n"
   ]
  },
  {
   "cell_type": "code",
   "execution_count": 24,
   "id": "a1e362b7",
   "metadata": {},
   "outputs": [
    {
     "name": "stdout",
     "output_type": "stream",
     "text": [
      "children\n",
      "5    0.000000\n",
      "0    0.075438\n",
      "3    0.081818\n",
      "1    0.092346\n",
      "2    0.094542\n",
      "4    0.097561\n",
      "dtype: float64\n"
     ]
    }
   ],
   "source": [
    "print((borrower_debt_with_children / borrower_with_children).sort_values()) # зависимость между количеством детей и возвратом кредита в срок"
   ]
  },
  {
   "cell_type": "markdown",
   "id": "8e5160e4",
   "metadata": {
    "deletable": false,
    "id": "2eb9088e"
   },
   "source": [
    "**Вывод: Заемщики без детей реже остальных имеют задолженности. Данных по категориям с 5 детьми не достаточно для анализа** "
   ]
  },
  {
   "cell_type": "markdown",
   "id": "74c9b3a7",
   "metadata": {
    "deletable": false,
    "editable": false,
    "id": "74c9b3a7"
   },
   "source": [
    "#### 3.2 Есть ли зависимость между семейным положением и возвратом кредита в срок?"
   ]
  },
  {
   "cell_type": "code",
   "execution_count": 25,
   "id": "64f4055a",
   "metadata": {
    "scrolled": false
   },
   "outputs": [
    {
     "name": "stdout",
     "output_type": "stream",
     "text": [
      "                      debt                 \n",
      "                       sum  count      mean\n",
      "family_status                              \n",
      "Не женат / не замужем  273   2796  0.097639\n",
      "в разводе               84   1189  0.070648\n",
      "вдовец / вдова          63    951  0.066246\n",
      "гражданский брак       385   4134  0.093130\n",
      "женат / замужем        927  12261  0.075606\n",
      "--------------------\n",
      "family_status\n",
      "вдовец / вдова           0.066246\n",
      "в разводе                0.070648\n",
      "женат / замужем          0.075606\n",
      "гражданский брак         0.093130\n",
      "Не женат / не замужем    0.097639\n",
      "Name: mean, dtype: float64\n"
     ]
    }
   ],
   "source": [
    "family_status_borrower_debt = data.groupby('family_status').agg({'debt': ['sum', 'count', 'mean']})\n",
    "print(family_status_borrower_debt)\n",
    "print('-' * 20)\n",
    "print(family_status_borrower_debt['debt']['mean'].sort_values())"
   ]
  },
  {
   "cell_type": "markdown",
   "id": "f391869d",
   "metadata": {
    "deletable": false,
    "id": "8098ab3b"
   },
   "source": [
    "**Вывод: Не женатые / не замужние заемщики, а также заёмщики в гражданском браке чаще других имеют задолженности. Задолженность среди вдов / вдовцов встречается реже чем в других категориях.** "
   ]
  },
  {
   "cell_type": "markdown",
   "id": "c389ca63",
   "metadata": {
    "deletable": false,
    "id": "c389ca63"
   },
   "source": [
    "Можно предположить, что не женатые / не замужние заемщики, а также заёмщики в гражданском браке это люди, которые никогда не были в зарегистрированном браке, возможно они не такие ответственные, как те кто в находится или находился браке.  "
   ]
  },
  {
   "cell_type": "markdown",
   "id": "9529de68",
   "metadata": {
    "deletable": false,
    "editable": false,
    "id": "9529de68"
   },
   "source": [
    "#### 3.3 Есть ли зависимость между уровнем дохода и возвратом кредита в срок?"
   ]
  },
  {
   "cell_type": "code",
   "execution_count": 26,
   "id": "8787f44a",
   "metadata": {
    "deletable": false,
    "id": "8787f44a"
   },
   "outputs": [
    {
     "data": {
      "text/plain": [
       "total_income_category\n",
       "A       25\n",
       "B     5014\n",
       "C    15921\n",
       "D      349\n",
       "E       22\n",
       "Name: total_income_category, dtype: int64"
      ]
     },
     "execution_count": 26,
     "metadata": {},
     "output_type": "execute_result"
    }
   ],
   "source": [
    "# Ваш код будет здесь. Вы можете создавать новые ячейки.\n",
    "total_income_borrower = data.groupby('total_income_category')['total_income_category'].count() # количество заемщиков по уровню дохода\n",
    "total_income_borrower"
   ]
  },
  {
   "cell_type": "code",
   "execution_count": 27,
   "id": "39cd2da8",
   "metadata": {},
   "outputs": [
    {
     "data": {
      "text/plain": [
       "total_income_category\n",
       "A       2\n",
       "B     354\n",
       "C    1353\n",
       "D      21\n",
       "E       2\n",
       "Name: debt, dtype: int64"
      ]
     },
     "execution_count": 27,
     "metadata": {},
     "output_type": "execute_result"
    }
   ],
   "source": [
    "total_income_borrower_debt = data.groupby('total_income_category')['debt'].sum() # количество заемщиков по уровню дохода имевших задолженность\n",
    "total_income_borrower_debt"
   ]
  },
  {
   "cell_type": "code",
   "execution_count": 28,
   "id": "7a5b3130",
   "metadata": {},
   "outputs": [
    {
     "name": "stdout",
     "output_type": "stream",
     "text": [
      "total_income_category\n",
      "D    6.017192\n",
      "B    7.060231\n",
      "A    8.000000\n",
      "C    8.498210\n",
      "E    9.090909\n",
      "dtype: float64\n"
     ]
    }
   ],
   "source": [
    "print(((total_income_borrower_debt / total_income_borrower)).sort_values() * 100)"
   ]
  },
  {
   "cell_type": "markdown",
   "id": "7e1a12d1",
   "metadata": {
    "deletable": false,
    "id": "c602bc8b"
   },
   "source": [
    "**Вывод: Заемщики с низкими доходами (не более 30000 руб.) чаще других имеют задолженность, реже всех - с доходами от 30000 до 50000. Однако выборка по количеству заемщиков из категорий А и Е не репрезентативна. Зависимость между уровнем дохода и возвратом кредита в срок не прослеживается** "
   ]
  },
  {
   "cell_type": "markdown",
   "id": "1dcc9b12",
   "metadata": {
    "deletable": false,
    "editable": false,
    "id": "1dcc9b12"
   },
   "source": [
    "#### 3.4 Как разные цели кредита влияют на его возврат в срок?"
   ]
  },
  {
   "cell_type": "code",
   "execution_count": 29,
   "id": "16523449",
   "metadata": {
    "deletable": false,
    "id": "6dd14b57"
   },
   "outputs": [
    {
     "data": {
      "text/html": [
       "<div>\n",
       "<style scoped>\n",
       "    .dataframe tbody tr th:only-of-type {\n",
       "        vertical-align: middle;\n",
       "    }\n",
       "\n",
       "    .dataframe tbody tr th {\n",
       "        vertical-align: top;\n",
       "    }\n",
       "\n",
       "    .dataframe thead th {\n",
       "        text-align: right;\n",
       "    }\n",
       "</style>\n",
       "<table border=\"1\" class=\"dataframe\">\n",
       "  <thead>\n",
       "    <tr style=\"text-align: right;\">\n",
       "      <th>debt</th>\n",
       "      <th>0</th>\n",
       "      <th>1</th>\n",
       "      <th>ratio</th>\n",
       "    </tr>\n",
       "    <tr>\n",
       "      <th>purpose_category</th>\n",
       "      <th></th>\n",
       "      <th></th>\n",
       "      <th></th>\n",
       "    </tr>\n",
       "  </thead>\n",
       "  <tbody>\n",
       "    <tr>\n",
       "      <th>операции с автомобилем</th>\n",
       "      <td>3879</td>\n",
       "      <td>400</td>\n",
       "      <td>0.093480</td>\n",
       "    </tr>\n",
       "    <tr>\n",
       "      <th>получение образования</th>\n",
       "      <td>3619</td>\n",
       "      <td>369</td>\n",
       "      <td>0.092528</td>\n",
       "    </tr>\n",
       "    <tr>\n",
       "      <th>проведение свадьбы</th>\n",
       "      <td>2130</td>\n",
       "      <td>183</td>\n",
       "      <td>0.079118</td>\n",
       "    </tr>\n",
       "    <tr>\n",
       "      <th>операции с недвижимостью</th>\n",
       "      <td>9971</td>\n",
       "      <td>780</td>\n",
       "      <td>0.072551</td>\n",
       "    </tr>\n",
       "  </tbody>\n",
       "</table>\n",
       "</div>"
      ],
      "text/plain": [
       "debt                         0    1     ratio\n",
       "purpose_category                             \n",
       "операции с автомобилем    3879  400  0.093480\n",
       "получение образования     3619  369  0.092528\n",
       "проведение свадьбы        2130  183  0.079118\n",
       "операции с недвижимостью  9971  780  0.072551"
      ]
     },
     "execution_count": 29,
     "metadata": {},
     "output_type": "execute_result"
    }
   ],
   "source": [
    "data_pivot = data.pivot_table(index=['purpose_category'], columns='debt', values='education', aggfunc='count') # группируем по целям кредита с долгом и без долга\n",
    "data_pivot['ratio'] = data_pivot[1] / (data_pivot[0] + data_pivot[1]) # находим отношение\n",
    "data_pivot.sort_values(by='ratio', ascending=False)"
   ]
  },
  {
   "cell_type": "markdown",
   "id": "46c1f10b",
   "metadata": {
    "deletable": false,
    "editable": false,
    "id": "46c1f10b"
   },
   "source": [
    "#### 3.5 Приведите возможные причины появления пропусков в исходных данных."
   ]
  },
  {
   "cell_type": "markdown",
   "id": "af989d2c",
   "metadata": {
    "deletable": false,
    "id": "cf05ed63"
   },
   "source": [
    "*Ответ: Возможно не имеющие трудовой стаж и не работающие не указали доход* "
   ]
  },
  {
   "cell_type": "markdown",
   "id": "3137d257",
   "metadata": {
    "deletable": false,
    "editable": false,
    "id": "3137d257"
   },
   "source": [
    "#### 3.6 Объясните, почему заполнить пропуски медианным значением — лучшее решение для количественных переменных."
   ]
  },
  {
   "cell_type": "markdown",
   "id": "cf40012a",
   "metadata": {
    "deletable": false,
    "id": "cf40012a"
   },
   "source": [
    "*Ответ: На медианное значение не влияют аномальные значения* "
   ]
  },
  {
   "cell_type": "markdown",
   "id": "57bc304e",
   "metadata": {
    "deletable": false,
    "editable": false,
    "id": "57bc304e"
   },
   "source": [
    "### Шаг 4: общий вывод."
   ]
  },
  {
   "cell_type": "markdown",
   "id": "48fef60f",
   "metadata": {},
   "source": [
    "В целях определения влияния семейного положения и количества детей клиента на факт погашения кредита в срок были проведены следующие исследования:\n",
    "1) Есть ли зависимость между количеством детей и возвратом кредита в срок?\n",
    "Определено количесво заемщиков по количеству детей\n",
    "без детей - 14091\n",
    "с одним ребенком - 4808\n",
    "с двумя - 2052\n",
    "тремя - 330\n",
    "четырьмя - 41\n",
    "пятью - 9\n",
    "Количество заемщиков с 4 и 5 детьми не достаточно для получения надежных данных.\n",
    "\n",
    "Если сравнивать долю задолженностей, то можно сделать вывод что наличие задолженности зависит скорее от наличия, либо отсутсвия детей, а не их количества.\n",
    "\n",
    "без детей -        0.075438\n",
    "с одним ребенком - 0.092346\n",
    "с двумя -          0.094542\n",
    "тремя -            0.081818 (доля должников с тремя детьми меньше чем с двумя или тремя)\n",
    "\n",
    "Заемщики без детей реже остальных имеют задолженности. \n",
    "\n",
    "2) Есть ли зависимость между семейным положением и возвратом кредита в срок?\n",
    "\n",
    "Заемщики, находящиеся в браке самая распространенная категория (12261 чел) со средней долей должников. Не женатые / не замужние  заемщики (доля должников - 0.097639), а также заёмщики в гражданском браке (доля должников - 0.093130) чаще других имеют задолженности.  Задолженность среди вдов / вдовцов встречается (доля должников - 0.066246) реже чем в других категориях.\n",
    "\n",
    "3) Есть ли зависимость между уровнем дохода и возвратом кредита в срок?\n",
    "Заемщики с низкими доходами (не более 30000 руб.) чаще других имеют задолженность, реже всех - с доходами от 30000 до 50000. Однако выборка по количеству заемщиков из категорий А и Е не репрезентативна. Люди с очень низким и очень высоким доходом почти не берут кредиты.\n",
    "Самая распространенная категория заемщиков с доходом 50001–200000 руб. по количеству больше чем все остальные вместе, при этом с самой высокой долей должников (0.08498210).\n",
    "Самые надежные заемщики в категории - с доходом 30001–50000 руб. (доля должников - 0.06017192)\n",
    "\n",
    "4) Как разные цели кредита влияют на его возврат в срок?\n",
    "Среди заемщиков с целью совершения различных операции с автомобилем, а также в целях получение образования самое большое количество случаев просрочки. Самая надежная катеогрия заемщиков объединена целью операций с недвижимостью\n",
    "\n",
    "операции с автомобилем - 0.093480\n",
    "получение образования - 0.092528\n",
    "проведение свадьбы - 0.079118\n",
    "операции с недвижимостью - 0.072551\n",
    "\n",
    "5) Влияет ли семейное положение и количество детей клиента на факт погашения кредита в срок?\n",
    "Вероятность погашения кредита в срок выше среди заемщиков без детей, которые находятся или находились в браке\n",
    "\n",
    "На основании результатов проведенного анализ можно сформировать портрет идеального заемщика: это вдовец или вдова, без детей, с доходом - 30000-50000 руб. и целью получения кредита - на операции с недвижимостью."
   ]
  },
  {
   "cell_type": "markdown",
   "id": "1ab75d1c",
   "metadata": {
    "deletable": false,
    "id": "1ab75d1c"
   },
   "source": []
  },
  {
   "cell_type": "markdown",
   "id": "3697d2a9",
   "metadata": {
    "deletable": false,
    "id": "3697d2a9"
   },
   "source": []
  }
 ],
 "metadata": {
  "ExecuteTimeLog": [
   {
    "duration": 43,
    "start_time": "2023-01-19T18:20:29.282Z"
   },
   {
    "duration": 698,
    "start_time": "2023-01-19T18:21:08.448Z"
   },
   {
    "duration": 22,
    "start_time": "2023-01-19T18:21:16.166Z"
   },
   {
    "duration": 19,
    "start_time": "2023-01-19T18:21:22.245Z"
   },
   {
    "duration": 9,
    "start_time": "2023-01-19T18:21:26.703Z"
   },
   {
    "duration": 33,
    "start_time": "2023-01-19T18:21:30.208Z"
   },
   {
    "duration": 4,
    "start_time": "2023-01-19T18:21:32.506Z"
   },
   {
    "duration": 7,
    "start_time": "2023-01-19T18:21:59.194Z"
   },
   {
    "duration": 7,
    "start_time": "2023-01-19T18:22:02.644Z"
   },
   {
    "duration": 6,
    "start_time": "2023-01-19T18:22:07.539Z"
   },
   {
    "duration": 4,
    "start_time": "2023-01-19T18:22:09.788Z"
   },
   {
    "duration": 31,
    "start_time": "2023-01-19T18:22:13.115Z"
   },
   {
    "duration": 9,
    "start_time": "2023-01-19T18:22:30.170Z"
   },
   {
    "duration": 4,
    "start_time": "2023-01-19T18:22:36.034Z"
   },
   {
    "duration": 11,
    "start_time": "2023-01-19T18:22:38.610Z"
   },
   {
    "duration": 19,
    "start_time": "2023-01-19T18:22:40.898Z"
   },
   {
    "duration": 25,
    "start_time": "2023-01-19T18:22:44.151Z"
   },
   {
    "duration": 5,
    "start_time": "2023-01-19T18:22:48.531Z"
   },
   {
    "duration": 10,
    "start_time": "2023-01-19T18:22:53.738Z"
   },
   {
    "duration": 6,
    "start_time": "2023-01-19T18:23:02.010Z"
   },
   {
    "duration": 12,
    "start_time": "2023-01-19T18:23:05.586Z"
   },
   {
    "duration": 4,
    "start_time": "2023-01-19T18:23:13.806Z"
   },
   {
    "duration": 9,
    "start_time": "2023-01-19T18:23:17.378Z"
   },
   {
    "duration": 6,
    "start_time": "2023-01-19T18:23:21.705Z"
   },
   {
    "duration": 6,
    "start_time": "2023-01-19T18:24:31.216Z"
   },
   {
    "duration": 6,
    "start_time": "2023-01-19T18:27:34.570Z"
   },
   {
    "duration": 5,
    "start_time": "2023-01-19T18:30:07.085Z"
   },
   {
    "duration": 21,
    "start_time": "2023-01-19T18:30:56.507Z"
   },
   {
    "duration": 6,
    "start_time": "2023-01-19T18:31:43.238Z"
   },
   {
    "duration": 3,
    "start_time": "2023-01-19T18:36:27.670Z"
   },
   {
    "duration": 4,
    "start_time": "2023-01-19T18:36:35.466Z"
   },
   {
    "duration": 3,
    "start_time": "2023-01-19T18:36:40.960Z"
   },
   {
    "duration": 6,
    "start_time": "2023-01-19T18:36:59.230Z"
   },
   {
    "duration": 7,
    "start_time": "2023-01-19T18:40:30.312Z"
   },
   {
    "duration": 7,
    "start_time": "2023-01-19T18:40:46.951Z"
   },
   {
    "duration": 7,
    "start_time": "2023-01-19T18:41:09.808Z"
   },
   {
    "duration": 7,
    "start_time": "2023-01-19T18:42:06.549Z"
   },
   {
    "duration": 29,
    "start_time": "2023-01-19T18:43:38.570Z"
   },
   {
    "duration": 11,
    "start_time": "2023-01-19T18:43:44.749Z"
   },
   {
    "duration": 9,
    "start_time": "2023-01-19T18:44:09.909Z"
   },
   {
    "duration": 8,
    "start_time": "2023-01-19T18:45:09.542Z"
   },
   {
    "duration": 8,
    "start_time": "2023-01-19T18:45:51.217Z"
   },
   {
    "duration": 8,
    "start_time": "2023-01-19T18:45:59.726Z"
   },
   {
    "duration": 6,
    "start_time": "2023-01-19T18:46:05.366Z"
   },
   {
    "duration": 12,
    "start_time": "2023-01-19T19:08:49.007Z"
   },
   {
    "duration": 6,
    "start_time": "2023-01-19T19:11:33.765Z"
   },
   {
    "duration": 8,
    "start_time": "2023-01-19T19:11:43.161Z"
   },
   {
    "duration": 9,
    "start_time": "2023-01-19T19:14:27.464Z"
   },
   {
    "duration": 8,
    "start_time": "2023-01-19T19:14:40.790Z"
   },
   {
    "duration": 4,
    "start_time": "2023-01-19T19:16:06.860Z"
   },
   {
    "duration": 9,
    "start_time": "2023-01-19T19:17:01.194Z"
   },
   {
    "duration": 8,
    "start_time": "2023-01-19T19:17:24.089Z"
   },
   {
    "duration": 10,
    "start_time": "2023-01-19T19:25:30.178Z"
   },
   {
    "duration": 8,
    "start_time": "2023-01-19T19:27:05.711Z"
   },
   {
    "duration": 8,
    "start_time": "2023-01-19T19:27:21.715Z"
   },
   {
    "duration": 9,
    "start_time": "2023-01-19T19:28:54.271Z"
   },
   {
    "duration": 9,
    "start_time": "2023-01-19T19:30:46.004Z"
   },
   {
    "duration": 6,
    "start_time": "2023-01-19T19:31:04.177Z"
   },
   {
    "duration": 8,
    "start_time": "2023-01-19T19:31:20.169Z"
   },
   {
    "duration": 10,
    "start_time": "2023-01-19T19:31:24.886Z"
   },
   {
    "duration": 6,
    "start_time": "2023-01-19T19:31:46.471Z"
   },
   {
    "duration": 45,
    "start_time": "2023-01-19T19:32:05.848Z"
   },
   {
    "duration": 7,
    "start_time": "2023-01-19T19:32:13.791Z"
   },
   {
    "duration": 11,
    "start_time": "2023-01-19T19:35:05.347Z"
   },
   {
    "duration": 8,
    "start_time": "2023-01-19T19:35:07.699Z"
   },
   {
    "duration": 7,
    "start_time": "2023-01-19T19:39:49.680Z"
   },
   {
    "duration": 6,
    "start_time": "2023-01-19T19:40:12.170Z"
   },
   {
    "duration": 56,
    "start_time": "2023-01-20T06:42:56.244Z"
   },
   {
    "duration": 7,
    "start_time": "2023-01-20T07:12:56.878Z"
   },
   {
    "duration": 9,
    "start_time": "2023-01-20T07:13:18.986Z"
   },
   {
    "duration": 570,
    "start_time": "2023-01-20T07:13:39.052Z"
   },
   {
    "duration": 23,
    "start_time": "2023-01-20T07:13:39.624Z"
   },
   {
    "duration": 18,
    "start_time": "2023-01-20T07:13:39.649Z"
   },
   {
    "duration": 11,
    "start_time": "2023-01-20T07:13:39.669Z"
   },
   {
    "duration": 61,
    "start_time": "2023-01-20T07:13:39.682Z"
   },
   {
    "duration": 5,
    "start_time": "2023-01-20T07:13:39.745Z"
   },
   {
    "duration": 14,
    "start_time": "2023-01-20T07:13:39.753Z"
   },
   {
    "duration": 5,
    "start_time": "2023-01-20T07:13:39.769Z"
   },
   {
    "duration": 12,
    "start_time": "2023-01-20T07:13:39.776Z"
   },
   {
    "duration": 5,
    "start_time": "2023-01-20T07:13:39.790Z"
   },
   {
    "duration": 75,
    "start_time": "2023-01-20T07:13:39.796Z"
   },
   {
    "duration": 13,
    "start_time": "2023-01-20T07:13:39.873Z"
   },
   {
    "duration": 5,
    "start_time": "2023-01-20T07:13:39.888Z"
   },
   {
    "duration": 17,
    "start_time": "2023-01-20T07:13:39.895Z"
   },
   {
    "duration": 39,
    "start_time": "2023-01-20T07:13:39.914Z"
   },
   {
    "duration": 19,
    "start_time": "2023-01-20T07:13:39.954Z"
   },
   {
    "duration": 3,
    "start_time": "2023-01-20T07:13:39.975Z"
   },
   {
    "duration": 16,
    "start_time": "2023-01-20T07:13:39.980Z"
   },
   {
    "duration": 7,
    "start_time": "2023-01-20T07:13:39.998Z"
   },
   {
    "duration": 12,
    "start_time": "2023-01-20T07:13:40.006Z"
   },
   {
    "duration": 10,
    "start_time": "2023-01-20T07:13:40.041Z"
   },
   {
    "duration": 88,
    "start_time": "2023-01-20T07:13:40.053Z"
   },
   {
    "duration": 0,
    "start_time": "2023-01-20T07:13:40.143Z"
   },
   {
    "duration": 0,
    "start_time": "2023-01-20T07:13:40.144Z"
   },
   {
    "duration": 0,
    "start_time": "2023-01-20T07:13:40.145Z"
   },
   {
    "duration": 0,
    "start_time": "2023-01-20T07:13:40.147Z"
   },
   {
    "duration": 0,
    "start_time": "2023-01-20T07:13:40.148Z"
   },
   {
    "duration": 0,
    "start_time": "2023-01-20T07:13:40.149Z"
   },
   {
    "duration": 0,
    "start_time": "2023-01-20T07:13:40.151Z"
   },
   {
    "duration": 0,
    "start_time": "2023-01-20T07:13:40.152Z"
   },
   {
    "duration": 0,
    "start_time": "2023-01-20T07:13:40.153Z"
   },
   {
    "duration": 0,
    "start_time": "2023-01-20T07:13:40.154Z"
   },
   {
    "duration": 6,
    "start_time": "2023-01-20T07:14:10.078Z"
   },
   {
    "duration": 5,
    "start_time": "2023-01-20T07:14:23.069Z"
   },
   {
    "duration": 8,
    "start_time": "2023-01-20T07:14:31.429Z"
   },
   {
    "duration": 16,
    "start_time": "2023-01-20T07:15:15.024Z"
   },
   {
    "duration": 7,
    "start_time": "2023-01-20T07:21:36.441Z"
   },
   {
    "duration": 8,
    "start_time": "2023-01-20T07:21:41.481Z"
   },
   {
    "duration": 10,
    "start_time": "2023-01-20T07:22:20.514Z"
   },
   {
    "duration": 7,
    "start_time": "2023-01-20T07:22:47.112Z"
   },
   {
    "duration": 8,
    "start_time": "2023-01-20T07:23:51.591Z"
   },
   {
    "duration": 11,
    "start_time": "2023-01-20T07:24:22.506Z"
   },
   {
    "duration": 8,
    "start_time": "2023-01-20T07:24:34.090Z"
   },
   {
    "duration": 4,
    "start_time": "2023-01-20T07:25:33.674Z"
   },
   {
    "duration": 9,
    "start_time": "2023-01-20T07:25:54.544Z"
   },
   {
    "duration": 68,
    "start_time": "2023-01-20T07:26:21.467Z"
   },
   {
    "duration": 16,
    "start_time": "2023-01-20T07:26:26.078Z"
   },
   {
    "duration": 15,
    "start_time": "2023-01-20T07:26:30.866Z"
   },
   {
    "duration": 11,
    "start_time": "2023-01-20T07:26:38.606Z"
   },
   {
    "duration": 38,
    "start_time": "2023-01-20T07:26:40.911Z"
   },
   {
    "duration": 5,
    "start_time": "2023-01-20T07:26:43.873Z"
   },
   {
    "duration": 10,
    "start_time": "2023-01-20T07:26:45.184Z"
   },
   {
    "duration": 6,
    "start_time": "2023-01-20T07:26:47.776Z"
   },
   {
    "duration": 6,
    "start_time": "2023-01-20T07:26:49.313Z"
   },
   {
    "duration": 5,
    "start_time": "2023-01-20T07:26:50.440Z"
   },
   {
    "duration": 35,
    "start_time": "2023-01-20T07:26:52.521Z"
   },
   {
    "duration": 11,
    "start_time": "2023-01-20T07:26:54.026Z"
   },
   {
    "duration": 4,
    "start_time": "2023-01-20T07:26:58.049Z"
   },
   {
    "duration": 12,
    "start_time": "2023-01-20T07:26:59.451Z"
   },
   {
    "duration": 21,
    "start_time": "2023-01-20T07:27:00.265Z"
   },
   {
    "duration": 18,
    "start_time": "2023-01-20T07:27:00.689Z"
   },
   {
    "duration": 5,
    "start_time": "2023-01-20T07:27:02.265Z"
   },
   {
    "duration": 11,
    "start_time": "2023-01-20T07:27:02.769Z"
   },
   {
    "duration": 7,
    "start_time": "2023-01-20T07:27:03.961Z"
   },
   {
    "duration": 4,
    "start_time": "2023-01-20T07:27:05.282Z"
   },
   {
    "duration": 9,
    "start_time": "2023-01-20T07:27:05.778Z"
   },
   {
    "duration": 12,
    "start_time": "2023-01-20T07:27:14.058Z"
   },
   {
    "duration": 10,
    "start_time": "2023-01-20T07:27:41.020Z"
   },
   {
    "duration": 5,
    "start_time": "2023-01-20T07:29:19.983Z"
   },
   {
    "duration": 12,
    "start_time": "2023-01-20T07:29:25.772Z"
   },
   {
    "duration": 7,
    "start_time": "2023-01-20T07:29:58.571Z"
   },
   {
    "duration": 9,
    "start_time": "2023-01-20T07:30:00.978Z"
   },
   {
    "duration": 5,
    "start_time": "2023-01-20T07:30:03.222Z"
   },
   {
    "duration": 9,
    "start_time": "2023-01-20T07:30:33.667Z"
   },
   {
    "duration": 12,
    "start_time": "2023-01-20T07:31:54.670Z"
   },
   {
    "duration": 13,
    "start_time": "2023-01-20T07:32:08.461Z"
   },
   {
    "duration": 13,
    "start_time": "2023-01-20T07:32:55.988Z"
   },
   {
    "duration": 12,
    "start_time": "2023-01-20T07:33:30.077Z"
   },
   {
    "duration": 38,
    "start_time": "2023-01-20T07:35:41.862Z"
   },
   {
    "duration": 24,
    "start_time": "2023-01-20T07:37:29.902Z"
   },
   {
    "duration": 7,
    "start_time": "2023-01-20T08:02:44.485Z"
   },
   {
    "duration": 882,
    "start_time": "2023-01-20T08:03:07.576Z"
   },
   {
    "duration": 7,
    "start_time": "2023-01-20T08:03:14.373Z"
   },
   {
    "duration": 7,
    "start_time": "2023-01-20T08:03:43.559Z"
   },
   {
    "duration": 13,
    "start_time": "2023-01-20T08:03:56.927Z"
   },
   {
    "duration": 15,
    "start_time": "2023-01-20T08:04:07.857Z"
   },
   {
    "duration": 75,
    "start_time": "2023-01-20T08:04:24.152Z"
   },
   {
    "duration": 17,
    "start_time": "2023-01-20T08:04:30.517Z"
   },
   {
    "duration": 925,
    "start_time": "2023-01-20T08:06:10.393Z"
   },
   {
    "duration": 10,
    "start_time": "2023-01-20T08:06:44.994Z"
   },
   {
    "duration": 871,
    "start_time": "2023-01-20T08:07:12.044Z"
   },
   {
    "duration": 9,
    "start_time": "2023-01-20T08:07:18.652Z"
   },
   {
    "duration": 107,
    "start_time": "2023-01-20T08:13:19.116Z"
   },
   {
    "duration": 42,
    "start_time": "2023-01-20T08:14:47.172Z"
   },
   {
    "duration": 31,
    "start_time": "2023-01-20T08:19:44.130Z"
   },
   {
    "duration": 20,
    "start_time": "2023-01-20T08:21:07.156Z"
   },
   {
    "duration": 12,
    "start_time": "2023-01-20T08:28:28.075Z"
   },
   {
    "duration": 31,
    "start_time": "2023-01-20T08:33:02.272Z"
   },
   {
    "duration": 7,
    "start_time": "2023-01-20T08:33:24.699Z"
   },
   {
    "duration": 12,
    "start_time": "2023-01-20T08:34:18.240Z"
   },
   {
    "duration": 34,
    "start_time": "2023-01-20T08:37:51.180Z"
   },
   {
    "duration": 46,
    "start_time": "2023-01-20T08:39:09.733Z"
   },
   {
    "duration": 42,
    "start_time": "2023-01-20T08:40:12.324Z"
   },
   {
    "duration": 12,
    "start_time": "2023-01-20T08:44:19.732Z"
   },
   {
    "duration": 14,
    "start_time": "2023-01-20T08:45:11.734Z"
   },
   {
    "duration": 11,
    "start_time": "2023-01-20T08:45:39.628Z"
   },
   {
    "duration": 11,
    "start_time": "2023-01-20T08:46:00.987Z"
   },
   {
    "duration": 33,
    "start_time": "2023-01-20T08:46:04.960Z"
   },
   {
    "duration": 12,
    "start_time": "2023-01-20T08:46:55.223Z"
   },
   {
    "duration": 117,
    "start_time": "2023-01-20T08:47:16.195Z"
   },
   {
    "duration": 76,
    "start_time": "2023-01-20T08:48:06.862Z"
   },
   {
    "duration": 11,
    "start_time": "2023-01-20T08:48:18.461Z"
   },
   {
    "duration": 13,
    "start_time": "2023-01-20T08:48:42.408Z"
   },
   {
    "duration": 15,
    "start_time": "2023-01-20T08:48:51.576Z"
   },
   {
    "duration": 6,
    "start_time": "2023-01-20T08:49:01.688Z"
   },
   {
    "duration": 12,
    "start_time": "2023-01-20T08:52:22.487Z"
   },
   {
    "duration": 93,
    "start_time": "2023-01-20T08:52:53.516Z"
   },
   {
    "duration": 8,
    "start_time": "2023-01-20T08:53:05.556Z"
   },
   {
    "duration": 11,
    "start_time": "2023-01-20T08:53:50.784Z"
   },
   {
    "duration": 10,
    "start_time": "2023-01-20T08:54:23.993Z"
   },
   {
    "duration": 11,
    "start_time": "2023-01-20T08:54:26.674Z"
   },
   {
    "duration": 11,
    "start_time": "2023-01-20T08:54:29.317Z"
   },
   {
    "duration": 5,
    "start_time": "2023-01-20T08:54:32.017Z"
   },
   {
    "duration": 9,
    "start_time": "2023-01-20T08:56:15.776Z"
   },
   {
    "duration": 11,
    "start_time": "2023-01-20T08:56:18.570Z"
   },
   {
    "duration": 5,
    "start_time": "2023-01-20T08:56:20.912Z"
   },
   {
    "duration": 4,
    "start_time": "2023-01-20T09:05:05.966Z"
   },
   {
    "duration": 6,
    "start_time": "2023-01-20T09:05:34.643Z"
   },
   {
    "duration": 5,
    "start_time": "2023-01-20T09:05:59.892Z"
   },
   {
    "duration": 12,
    "start_time": "2023-01-20T09:08:31.614Z"
   },
   {
    "duration": 18,
    "start_time": "2023-01-20T09:09:10.681Z"
   },
   {
    "duration": 13,
    "start_time": "2023-01-20T09:09:22.590Z"
   },
   {
    "duration": 11,
    "start_time": "2023-01-20T09:09:40.123Z"
   },
   {
    "duration": 19,
    "start_time": "2023-01-20T09:10:42.371Z"
   },
   {
    "duration": 15,
    "start_time": "2023-01-20T09:11:01.261Z"
   },
   {
    "duration": 45,
    "start_time": "2023-01-20T09:25:59.853Z"
   },
   {
    "duration": 10,
    "start_time": "2023-01-20T09:29:05.987Z"
   },
   {
    "duration": 16,
    "start_time": "2023-01-20T09:29:47.832Z"
   },
   {
    "duration": 5,
    "start_time": "2023-01-20T09:30:18.469Z"
   },
   {
    "duration": 18,
    "start_time": "2023-01-20T09:31:50.364Z"
   },
   {
    "duration": 17,
    "start_time": "2023-01-20T09:32:49.580Z"
   },
   {
    "duration": 5,
    "start_time": "2023-01-20T10:04:21.144Z"
   },
   {
    "duration": 13,
    "start_time": "2023-01-20T10:06:15.027Z"
   },
   {
    "duration": 5,
    "start_time": "2023-01-20T10:06:23.602Z"
   },
   {
    "duration": 8,
    "start_time": "2023-01-20T10:06:39.529Z"
   },
   {
    "duration": 7,
    "start_time": "2023-01-20T10:06:41.224Z"
   },
   {
    "duration": 5,
    "start_time": "2023-01-20T10:06:43.376Z"
   },
   {
    "duration": 14,
    "start_time": "2023-01-20T10:07:11.656Z"
   },
   {
    "duration": 13,
    "start_time": "2023-01-20T10:07:34.408Z"
   },
   {
    "duration": 16,
    "start_time": "2023-01-20T10:08:00.224Z"
   },
   {
    "duration": 15,
    "start_time": "2023-01-20T10:08:28.834Z"
   },
   {
    "duration": 903,
    "start_time": "2023-01-20T10:28:00.115Z"
   },
   {
    "duration": 25,
    "start_time": "2023-01-20T10:28:01.020Z"
   },
   {
    "duration": 28,
    "start_time": "2023-01-20T10:28:01.046Z"
   },
   {
    "duration": 11,
    "start_time": "2023-01-20T10:28:01.076Z"
   },
   {
    "duration": 60,
    "start_time": "2023-01-20T10:28:01.089Z"
   },
   {
    "duration": 9,
    "start_time": "2023-01-20T10:28:01.151Z"
   },
   {
    "duration": 52,
    "start_time": "2023-01-20T10:28:01.162Z"
   },
   {
    "duration": 10,
    "start_time": "2023-01-20T10:28:01.216Z"
   },
   {
    "duration": 36,
    "start_time": "2023-01-20T10:28:01.228Z"
   },
   {
    "duration": 13,
    "start_time": "2023-01-20T10:28:01.268Z"
   },
   {
    "duration": 61,
    "start_time": "2023-01-20T10:28:01.283Z"
   },
   {
    "duration": 12,
    "start_time": "2023-01-20T10:28:01.345Z"
   },
   {
    "duration": 11,
    "start_time": "2023-01-20T10:28:01.359Z"
   },
   {
    "duration": 25,
    "start_time": "2023-01-20T10:28:01.372Z"
   },
   {
    "duration": 43,
    "start_time": "2023-01-20T10:28:01.400Z"
   },
   {
    "duration": 21,
    "start_time": "2023-01-20T10:28:01.445Z"
   },
   {
    "duration": 5,
    "start_time": "2023-01-20T10:28:01.468Z"
   },
   {
    "duration": 43,
    "start_time": "2023-01-20T10:28:01.475Z"
   },
   {
    "duration": 8,
    "start_time": "2023-01-20T10:28:01.520Z"
   },
   {
    "duration": 12,
    "start_time": "2023-01-20T10:28:01.529Z"
   },
   {
    "duration": 24,
    "start_time": "2023-01-20T10:28:01.543Z"
   },
   {
    "duration": 27,
    "start_time": "2023-01-20T10:28:01.568Z"
   },
   {
    "duration": 28,
    "start_time": "2023-01-20T10:28:01.597Z"
   },
   {
    "duration": 15,
    "start_time": "2023-01-20T10:28:01.627Z"
   },
   {
    "duration": 28,
    "start_time": "2023-01-20T10:28:01.644Z"
   },
   {
    "duration": 22,
    "start_time": "2023-01-20T10:28:01.673Z"
   },
   {
    "duration": 20,
    "start_time": "2023-01-20T10:28:01.697Z"
   },
   {
    "duration": 26,
    "start_time": "2023-01-20T10:28:01.720Z"
   },
   {
    "duration": 51,
    "start_time": "2023-01-20T10:28:01.747Z"
   },
   {
    "duration": 20,
    "start_time": "2023-01-20T10:28:01.799Z"
   },
   {
    "duration": 24,
    "start_time": "2023-01-20T10:28:01.821Z"
   },
   {
    "duration": 47,
    "start_time": "2023-01-20T12:23:50.545Z"
   },
   {
    "duration": 44,
    "start_time": "2023-01-20T12:24:19.306Z"
   },
   {
    "duration": 536,
    "start_time": "2023-01-20T12:24:25.217Z"
   },
   {
    "duration": 28,
    "start_time": "2023-01-20T12:24:25.756Z"
   },
   {
    "duration": 42,
    "start_time": "2023-01-20T12:24:25.789Z"
   },
   {
    "duration": 13,
    "start_time": "2023-01-20T12:24:25.834Z"
   },
   {
    "duration": 40,
    "start_time": "2023-01-20T12:24:25.849Z"
   },
   {
    "duration": 4,
    "start_time": "2023-01-20T12:24:25.891Z"
   },
   {
    "duration": 20,
    "start_time": "2023-01-20T12:24:25.897Z"
   },
   {
    "duration": 6,
    "start_time": "2023-01-20T12:24:25.918Z"
   },
   {
    "duration": 6,
    "start_time": "2023-01-20T12:24:25.928Z"
   },
   {
    "duration": 6,
    "start_time": "2023-01-20T12:24:25.936Z"
   },
   {
    "duration": 42,
    "start_time": "2023-01-20T12:24:25.943Z"
   },
   {
    "duration": 9,
    "start_time": "2023-01-20T12:24:25.987Z"
   },
   {
    "duration": 7,
    "start_time": "2023-01-20T12:24:25.998Z"
   },
   {
    "duration": 16,
    "start_time": "2023-01-20T12:24:26.006Z"
   },
   {
    "duration": 20,
    "start_time": "2023-01-20T12:24:26.024Z"
   },
   {
    "duration": 15,
    "start_time": "2023-01-20T12:24:26.045Z"
   },
   {
    "duration": 3,
    "start_time": "2023-01-20T12:24:26.062Z"
   },
   {
    "duration": 10,
    "start_time": "2023-01-20T12:24:26.086Z"
   },
   {
    "duration": 6,
    "start_time": "2023-01-20T12:24:26.098Z"
   },
   {
    "duration": 9,
    "start_time": "2023-01-20T12:24:26.106Z"
   },
   {
    "duration": 19,
    "start_time": "2023-01-20T12:24:26.116Z"
   },
   {
    "duration": 9,
    "start_time": "2023-01-20T12:24:26.136Z"
   },
   {
    "duration": 8,
    "start_time": "2023-01-20T12:24:26.147Z"
   },
   {
    "duration": 5,
    "start_time": "2023-01-20T12:24:26.156Z"
   },
   {
    "duration": 31,
    "start_time": "2023-01-20T12:24:26.163Z"
   },
   {
    "duration": 7,
    "start_time": "2023-01-20T12:24:26.196Z"
   },
   {
    "duration": 8,
    "start_time": "2023-01-20T12:24:26.206Z"
   },
   {
    "duration": 90,
    "start_time": "2023-01-20T12:24:26.215Z"
   },
   {
    "duration": 0,
    "start_time": "2023-01-20T12:24:26.307Z"
   },
   {
    "duration": 0,
    "start_time": "2023-01-20T12:24:26.308Z"
   },
   {
    "duration": 0,
    "start_time": "2023-01-20T12:24:26.309Z"
   },
   {
    "duration": 0,
    "start_time": "2023-01-20T12:24:26.311Z"
   },
   {
    "duration": 10,
    "start_time": "2023-01-20T12:24:59.891Z"
   },
   {
    "duration": 21,
    "start_time": "2023-01-20T12:25:03.866Z"
   },
   {
    "duration": 15,
    "start_time": "2023-01-20T12:25:45.202Z"
   },
   {
    "duration": 18,
    "start_time": "2023-01-20T12:27:22.161Z"
   },
   {
    "duration": 13,
    "start_time": "2023-01-20T12:27:29.901Z"
   },
   {
    "duration": 12,
    "start_time": "2023-01-20T12:28:03.239Z"
   },
   {
    "duration": 14,
    "start_time": "2023-01-20T12:28:20.662Z"
   },
   {
    "duration": 27,
    "start_time": "2023-01-20T12:35:10.008Z"
   },
   {
    "duration": 23,
    "start_time": "2023-01-20T12:35:25.978Z"
   },
   {
    "duration": 15,
    "start_time": "2023-01-20T12:36:34.035Z"
   },
   {
    "duration": 8,
    "start_time": "2023-01-20T12:47:47.492Z"
   },
   {
    "duration": 8,
    "start_time": "2023-01-20T12:47:51.348Z"
   },
   {
    "duration": 5,
    "start_time": "2023-01-20T12:47:58.415Z"
   },
   {
    "duration": 15,
    "start_time": "2023-01-20T12:49:22.542Z"
   },
   {
    "duration": 21,
    "start_time": "2023-01-20T12:49:42.892Z"
   },
   {
    "duration": 16,
    "start_time": "2023-01-20T12:51:42.366Z"
   },
   {
    "duration": 17,
    "start_time": "2023-01-20T12:53:10.434Z"
   },
   {
    "duration": 18,
    "start_time": "2023-01-20T12:56:29.418Z"
   },
   {
    "duration": 13,
    "start_time": "2023-01-20T12:56:38.203Z"
   },
   {
    "duration": 11,
    "start_time": "2023-01-20T12:58:47.994Z"
   },
   {
    "duration": 13,
    "start_time": "2023-01-20T12:59:15.723Z"
   },
   {
    "duration": 11,
    "start_time": "2023-01-20T13:01:49.027Z"
   },
   {
    "duration": 13,
    "start_time": "2023-01-20T13:03:02.419Z"
   },
   {
    "duration": 12,
    "start_time": "2023-01-20T13:03:46.970Z"
   },
   {
    "duration": 16,
    "start_time": "2023-01-20T13:04:01.202Z"
   },
   {
    "duration": 16,
    "start_time": "2023-01-20T13:27:23.052Z"
   },
   {
    "duration": 10,
    "start_time": "2023-01-20T13:28:26.563Z"
   },
   {
    "duration": 24,
    "start_time": "2023-01-20T13:29:25.599Z"
   },
   {
    "duration": 16,
    "start_time": "2023-01-20T13:34:01.198Z"
   },
   {
    "duration": 20,
    "start_time": "2023-01-20T13:36:54.007Z"
   },
   {
    "duration": 14,
    "start_time": "2023-01-20T13:39:42.215Z"
   },
   {
    "duration": 15,
    "start_time": "2023-01-20T13:40:09.777Z"
   },
   {
    "duration": 13,
    "start_time": "2023-01-20T13:45:59.843Z"
   },
   {
    "duration": 27,
    "start_time": "2023-01-20T13:51:06.877Z"
   },
   {
    "duration": 28,
    "start_time": "2023-01-20T13:51:46.623Z"
   },
   {
    "duration": 27,
    "start_time": "2023-01-20T13:53:19.521Z"
   },
   {
    "duration": 23,
    "start_time": "2023-01-20T13:53:37.261Z"
   },
   {
    "duration": 18,
    "start_time": "2023-01-20T13:54:19.807Z"
   },
   {
    "duration": 17,
    "start_time": "2023-01-20T13:55:10.031Z"
   },
   {
    "duration": 77,
    "start_time": "2023-01-20T13:55:32.975Z"
   },
   {
    "duration": 18,
    "start_time": "2023-01-20T13:55:53.424Z"
   },
   {
    "duration": 900,
    "start_time": "2023-01-20T14:00:31.849Z"
   },
   {
    "duration": 17,
    "start_time": "2023-01-20T14:00:53.001Z"
   },
   {
    "duration": 21,
    "start_time": "2023-01-20T14:01:06.135Z"
   },
   {
    "duration": 21,
    "start_time": "2023-01-20T14:01:51.792Z"
   },
   {
    "duration": 61,
    "start_time": "2023-01-20T19:17:02.868Z"
   },
   {
    "duration": 651,
    "start_time": "2023-01-20T19:17:18.183Z"
   },
   {
    "duration": 26,
    "start_time": "2023-01-20T19:17:18.837Z"
   },
   {
    "duration": 19,
    "start_time": "2023-01-20T19:17:18.866Z"
   },
   {
    "duration": 14,
    "start_time": "2023-01-20T19:17:18.888Z"
   },
   {
    "duration": 80,
    "start_time": "2023-01-20T19:17:18.904Z"
   },
   {
    "duration": 5,
    "start_time": "2023-01-20T19:17:18.987Z"
   },
   {
    "duration": 13,
    "start_time": "2023-01-20T19:17:18.994Z"
   },
   {
    "duration": 6,
    "start_time": "2023-01-20T19:17:19.009Z"
   },
   {
    "duration": 11,
    "start_time": "2023-01-20T19:17:19.018Z"
   },
   {
    "duration": 7,
    "start_time": "2023-01-20T19:17:19.034Z"
   },
   {
    "duration": 89,
    "start_time": "2023-01-20T19:17:19.043Z"
   },
   {
    "duration": 15,
    "start_time": "2023-01-20T19:17:19.134Z"
   },
   {
    "duration": 5,
    "start_time": "2023-01-20T19:17:19.151Z"
   },
   {
    "duration": 37,
    "start_time": "2023-01-20T19:17:19.158Z"
   },
   {
    "duration": 27,
    "start_time": "2023-01-20T19:17:19.198Z"
   },
   {
    "duration": 23,
    "start_time": "2023-01-20T19:17:19.227Z"
   },
   {
    "duration": 5,
    "start_time": "2023-01-20T19:17:19.252Z"
   },
   {
    "duration": 41,
    "start_time": "2023-01-20T19:17:19.259Z"
   },
   {
    "duration": 11,
    "start_time": "2023-01-20T19:17:19.302Z"
   },
   {
    "duration": 5,
    "start_time": "2023-01-20T19:17:19.315Z"
   },
   {
    "duration": 37,
    "start_time": "2023-01-20T19:17:19.322Z"
   },
   {
    "duration": 28,
    "start_time": "2023-01-20T19:17:19.361Z"
   },
   {
    "duration": 9,
    "start_time": "2023-01-20T19:17:19.391Z"
   },
   {
    "duration": 7,
    "start_time": "2023-01-20T19:17:19.402Z"
   },
   {
    "duration": 7,
    "start_time": "2023-01-20T19:17:19.411Z"
   },
   {
    "duration": 6,
    "start_time": "2023-01-20T19:17:19.420Z"
   },
   {
    "duration": 18,
    "start_time": "2023-01-20T19:17:19.428Z"
   },
   {
    "duration": 3,
    "start_time": "2023-01-20T19:17:19.484Z"
   },
   {
    "duration": 13,
    "start_time": "2023-01-20T19:17:19.489Z"
   },
   {
    "duration": 9,
    "start_time": "2023-01-20T19:17:19.504Z"
   },
   {
    "duration": 10,
    "start_time": "2023-01-20T19:17:19.515Z"
   },
   {
    "duration": 5,
    "start_time": "2023-01-20T19:17:19.527Z"
   },
   {
    "duration": 66,
    "start_time": "2023-01-20T19:17:19.534Z"
   },
   {
    "duration": 73,
    "start_time": "2023-01-20T19:22:13.146Z"
   },
   {
    "duration": 24,
    "start_time": "2023-01-20T19:22:31.536Z"
   },
   {
    "duration": 493,
    "start_time": "2023-01-20T19:22:57.741Z"
   },
   {
    "duration": 26,
    "start_time": "2023-01-20T19:22:58.237Z"
   },
   {
    "duration": 29,
    "start_time": "2023-01-20T19:22:58.265Z"
   },
   {
    "duration": 12,
    "start_time": "2023-01-20T19:22:58.296Z"
   },
   {
    "duration": 40,
    "start_time": "2023-01-20T19:22:58.310Z"
   },
   {
    "duration": 4,
    "start_time": "2023-01-20T19:22:58.352Z"
   },
   {
    "duration": 10,
    "start_time": "2023-01-20T19:22:58.385Z"
   },
   {
    "duration": 7,
    "start_time": "2023-01-20T19:22:58.397Z"
   },
   {
    "duration": 12,
    "start_time": "2023-01-20T19:22:58.406Z"
   },
   {
    "duration": 6,
    "start_time": "2023-01-20T19:22:58.422Z"
   },
   {
    "duration": 70,
    "start_time": "2023-01-20T19:22:58.430Z"
   },
   {
    "duration": 12,
    "start_time": "2023-01-20T19:22:58.502Z"
   },
   {
    "duration": 4,
    "start_time": "2023-01-20T19:22:58.516Z"
   },
   {
    "duration": 16,
    "start_time": "2023-01-20T19:22:58.522Z"
   },
   {
    "duration": 28,
    "start_time": "2023-01-20T19:22:58.540Z"
   },
   {
    "duration": 20,
    "start_time": "2023-01-20T19:22:58.585Z"
   },
   {
    "duration": 4,
    "start_time": "2023-01-20T19:22:58.607Z"
   },
   {
    "duration": 19,
    "start_time": "2023-01-20T19:22:58.612Z"
   },
   {
    "duration": 8,
    "start_time": "2023-01-20T19:22:58.633Z"
   },
   {
    "duration": 4,
    "start_time": "2023-01-20T19:22:58.643Z"
   },
   {
    "duration": 47,
    "start_time": "2023-01-20T19:22:58.649Z"
   },
   {
    "duration": 7,
    "start_time": "2023-01-20T19:22:58.698Z"
   },
   {
    "duration": 9,
    "start_time": "2023-01-20T19:22:58.707Z"
   },
   {
    "duration": 6,
    "start_time": "2023-01-20T19:22:58.718Z"
   },
   {
    "duration": 5,
    "start_time": "2023-01-20T19:22:58.726Z"
   },
   {
    "duration": 18,
    "start_time": "2023-01-20T19:22:58.733Z"
   },
   {
    "duration": 43,
    "start_time": "2023-01-20T19:22:58.753Z"
   },
   {
    "duration": 3,
    "start_time": "2023-01-20T19:22:58.800Z"
   },
   {
    "duration": 30,
    "start_time": "2023-01-20T19:22:58.804Z"
   },
   {
    "duration": 29,
    "start_time": "2023-01-20T19:22:58.835Z"
   },
   {
    "duration": 22,
    "start_time": "2023-01-20T19:22:58.866Z"
   },
   {
    "duration": 27,
    "start_time": "2023-01-20T19:22:58.890Z"
   },
   {
    "duration": 33,
    "start_time": "2023-01-20T19:22:58.918Z"
   },
   {
    "duration": 35,
    "start_time": "2023-01-20T20:49:38.476Z"
   },
   {
    "duration": 79,
    "start_time": "2023-01-20T20:50:06.898Z"
   },
   {
    "duration": 25,
    "start_time": "2023-01-20T20:50:11.072Z"
   },
   {
    "duration": 7,
    "start_time": "2023-01-20T20:51:39.399Z"
   },
   {
    "duration": 17,
    "start_time": "2023-01-20T20:52:33.382Z"
   },
   {
    "duration": 7,
    "start_time": "2023-01-20T20:53:04.877Z"
   },
   {
    "duration": 129,
    "start_time": "2023-01-20T20:54:33.033Z"
   },
   {
    "duration": 10,
    "start_time": "2023-01-20T20:55:21.270Z"
   },
   {
    "duration": 11,
    "start_time": "2023-01-20T20:56:21.948Z"
   },
   {
    "duration": 16,
    "start_time": "2023-01-20T20:56:35.859Z"
   },
   {
    "duration": 7,
    "start_time": "2023-01-20T20:57:02.906Z"
   },
   {
    "duration": 13,
    "start_time": "2023-01-20T20:57:49.229Z"
   },
   {
    "duration": 6,
    "start_time": "2023-01-20T20:58:02.375Z"
   },
   {
    "duration": 9,
    "start_time": "2023-01-20T20:59:02.718Z"
   },
   {
    "duration": 10,
    "start_time": "2023-01-20T20:59:04.829Z"
   },
   {
    "duration": 8,
    "start_time": "2023-01-20T20:59:07.513Z"
   },
   {
    "duration": 93,
    "start_time": "2023-01-20T21:18:33.507Z"
   },
   {
    "duration": 5,
    "start_time": "2023-01-20T21:40:27.870Z"
   },
   {
    "duration": 15,
    "start_time": "2023-01-20T21:48:42.862Z"
   },
   {
    "duration": 9,
    "start_time": "2023-01-20T21:52:53.424Z"
   },
   {
    "duration": 29,
    "start_time": "2023-01-20T21:53:18.995Z"
   },
   {
    "duration": 12,
    "start_time": "2023-01-20T21:53:21.202Z"
   },
   {
    "duration": 16,
    "start_time": "2023-01-20T21:54:15.906Z"
   },
   {
    "duration": 22,
    "start_time": "2023-01-20T21:54:41.085Z"
   },
   {
    "duration": 20,
    "start_time": "2023-01-20T21:55:05.211Z"
   },
   {
    "duration": 28,
    "start_time": "2023-01-20T21:55:26.681Z"
   },
   {
    "duration": 32,
    "start_time": "2023-01-20T22:29:51.277Z"
   },
   {
    "duration": 544,
    "start_time": "2023-01-20T22:37:14.417Z"
   },
   {
    "duration": 39,
    "start_time": "2023-01-20T22:37:14.964Z"
   },
   {
    "duration": 29,
    "start_time": "2023-01-20T22:37:15.006Z"
   },
   {
    "duration": 40,
    "start_time": "2023-01-20T22:37:15.038Z"
   },
   {
    "duration": 61,
    "start_time": "2023-01-20T22:37:15.080Z"
   },
   {
    "duration": 22,
    "start_time": "2023-01-20T22:37:15.143Z"
   },
   {
    "duration": 51,
    "start_time": "2023-01-20T22:37:15.167Z"
   },
   {
    "duration": 40,
    "start_time": "2023-01-20T22:37:15.220Z"
   },
   {
    "duration": 36,
    "start_time": "2023-01-20T22:37:15.261Z"
   },
   {
    "duration": 37,
    "start_time": "2023-01-20T22:37:15.300Z"
   },
   {
    "duration": 53,
    "start_time": "2023-01-20T22:37:15.339Z"
   },
   {
    "duration": 20,
    "start_time": "2023-01-20T22:37:15.394Z"
   },
   {
    "duration": 22,
    "start_time": "2023-01-20T22:37:15.416Z"
   },
   {
    "duration": 46,
    "start_time": "2023-01-20T22:37:15.439Z"
   },
   {
    "duration": 75,
    "start_time": "2023-01-20T22:37:15.491Z"
   },
   {
    "duration": 27,
    "start_time": "2023-01-20T22:37:15.568Z"
   },
   {
    "duration": 10,
    "start_time": "2023-01-20T22:37:15.597Z"
   },
   {
    "duration": 21,
    "start_time": "2023-01-20T22:37:15.610Z"
   },
   {
    "duration": 20,
    "start_time": "2023-01-20T22:37:15.634Z"
   },
   {
    "duration": 7,
    "start_time": "2023-01-20T22:37:15.656Z"
   },
   {
    "duration": 37,
    "start_time": "2023-01-20T22:37:15.665Z"
   },
   {
    "duration": 13,
    "start_time": "2023-01-20T22:37:15.704Z"
   },
   {
    "duration": 54,
    "start_time": "2023-01-20T22:37:15.720Z"
   },
   {
    "duration": 47,
    "start_time": "2023-01-20T22:37:15.776Z"
   },
   {
    "duration": 35,
    "start_time": "2023-01-20T22:37:15.825Z"
   },
   {
    "duration": 19,
    "start_time": "2023-01-20T22:37:15.862Z"
   },
   {
    "duration": 52,
    "start_time": "2023-01-20T22:37:15.883Z"
   },
   {
    "duration": 9,
    "start_time": "2023-01-20T22:37:15.939Z"
   },
   {
    "duration": 30,
    "start_time": "2023-01-20T22:37:15.949Z"
   },
   {
    "duration": 30,
    "start_time": "2023-01-20T22:37:15.981Z"
   },
   {
    "duration": 40,
    "start_time": "2023-01-20T22:37:16.014Z"
   },
   {
    "duration": 57,
    "start_time": "2023-01-20T22:37:16.056Z"
   }
  ],
  "colab": {
   "provenance": []
  },
  "kernelspec": {
   "display_name": "Python 3 (ipykernel)",
   "language": "python",
   "name": "python3"
  },
  "language_info": {
   "codemirror_mode": {
    "name": "ipython",
    "version": 3
   },
   "file_extension": ".py",
   "mimetype": "text/x-python",
   "name": "python",
   "nbconvert_exporter": "python",
   "pygments_lexer": "ipython3",
   "version": "3.9.13"
  },
  "toc": {
   "base_numbering": 1,
   "nav_menu": {},
   "number_sections": true,
   "sideBar": true,
   "skip_h1_title": true,
   "title_cell": "Table of Contents",
   "title_sidebar": "Contents",
   "toc_cell": false,
   "toc_position": {},
   "toc_section_display": true,
   "toc_window_display": true
  }
 },
 "nbformat": 4,
 "nbformat_minor": 5
}
